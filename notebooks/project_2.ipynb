{
 "cells": [
  {
   "cell_type": "markdown",
   "id": "89e1eb5b",
   "metadata": {},
   "source": [
    "# Project 2 - LendingClub\n",
    "## OPAN 6604 - Predictive Analytics\n",
    "Mike Johnson - SAXA\n",
    "\n",
    "****"
   ]
  },
  {
   "cell_type": "markdown",
   "id": "523b6153",
   "metadata": {},
   "source": [
    "## Set Up"
   ]
  },
  {
   "cell_type": "code",
   "execution_count": 1,
   "id": "75bf43b8",
   "metadata": {},
   "outputs": [],
   "source": [
    "# Import libraries\n",
    "\n",
    "# Data Processing\n",
    "import pandas as pd\n",
    "import numpy as np\n",
    "from sklearn.preprocessing import StandardScaler, OneHotEncoder\n",
    "\n",
    "# Modeling\n",
    "from sklearn.model_selection import train_test_split, GridSearchCV\n",
    "from sklearn.neural_network import MLPClassifier\n",
    "from sklearn import svm\n",
    "\n",
    "# Data visualization\n",
    "import seaborn as sns\n",
    "import matplotlib.pyplot as plt\n",
    "\n",
    "# Evaluation\n",
    "from sklearn.metrics import mean_squared_error, mean_absolute_error"
   ]
  },
  {
   "cell_type": "code",
   "execution_count": 2,
   "id": "6d13a49a",
   "metadata": {},
   "outputs": [
    {
     "data": {
      "application/vnd.microsoft.datawrangler.viewer.v0+json": {
       "columns": [
        {
         "name": "index",
         "rawType": "int64",
         "type": "integer"
        },
        {
         "name": "all_util",
         "rawType": "float64",
         "type": "float"
        },
        {
         "name": "annual_inc",
         "rawType": "float64",
         "type": "float"
        },
        {
         "name": "application_type",
         "rawType": "object",
         "type": "string"
        },
        {
         "name": "chargeoff_within_12_mths",
         "rawType": "int64",
         "type": "integer"
        },
        {
         "name": "collections_12_mths_ex_med",
         "rawType": "int64",
         "type": "integer"
        },
        {
         "name": "delinq_2yrs",
         "rawType": "int64",
         "type": "integer"
        },
        {
         "name": "dti",
         "rawType": "float64",
         "type": "float"
        },
        {
         "name": "emp_length",
         "rawType": "object",
         "type": "unknown"
        },
        {
         "name": "fico_range_high",
         "rawType": "int64",
         "type": "integer"
        },
        {
         "name": "fico_range_low",
         "rawType": "int64",
         "type": "integer"
        },
        {
         "name": "home_ownership",
         "rawType": "object",
         "type": "string"
        },
        {
         "name": "inq_last_12m",
         "rawType": "int64",
         "type": "integer"
        },
        {
         "name": "loan_amnt",
         "rawType": "int64",
         "type": "integer"
        },
        {
         "name": "mo_sin_old_il_acct",
         "rawType": "float64",
         "type": "float"
        },
        {
         "name": "mo_sin_old_rev_tl_op",
         "rawType": "int64",
         "type": "integer"
        },
        {
         "name": "mort_acc",
         "rawType": "int64",
         "type": "integer"
        },
        {
         "name": "mths_since_last_record",
         "rawType": "float64",
         "type": "float"
        },
        {
         "name": "mths_since_recent_inq",
         "rawType": "float64",
         "type": "float"
        },
        {
         "name": "open_acc",
         "rawType": "int64",
         "type": "integer"
        },
        {
         "name": "pub_rec_bankruptcies",
         "rawType": "int64",
         "type": "integer"
        },
        {
         "name": "term",
         "rawType": "object",
         "type": "string"
        },
        {
         "name": "total_bal_ex_mort",
         "rawType": "int64",
         "type": "integer"
        },
        {
         "name": "verification_status",
         "rawType": "object",
         "type": "string"
        },
        {
         "name": "int_rate",
         "rawType": "float64",
         "type": "float"
        }
       ],
       "ref": "a571523b-2c53-4221-b0b3-21e3a5804074",
       "rows": [
        [
         "0",
         "80.0",
         "36000.0",
         "Individual",
         "0",
         "0",
         "0",
         "26.33",
         null,
         "674",
         "670",
         "OWN",
         "5",
         "5000",
         "57.0",
         "35",
         "0",
         null,
         "0.0",
         "5",
         "0",
         " 36 months",
         "34683",
         "Verified",
         "18.62"
        ],
        [
         "1",
         "61.0",
         "45000.0",
         "Individual",
         "0",
         "0",
         "0",
         "38.51",
         "1 year",
         "734",
         "730",
         "RENT",
         "1",
         "15000",
         "113.0",
         "103",
         "0",
         null,
         "0.0",
         "14",
         "0",
         " 60 months",
         "63873",
         "Not Verified",
         "16.08"
        ],
        [
         "2",
         "31.0",
         "53040.0",
         "Individual",
         "0",
         "0",
         "0",
         "25.2",
         "< 1 year",
         "809",
         "805",
         "MORTGAGE",
         "1",
         "4550",
         "129.0",
         "145",
         "4",
         null,
         "0.0",
         "9",
         "0",
         " 36 months",
         "24452",
         "Verified",
         "7.56"
        ],
        [
         "3",
         "87.0",
         "125000.0",
         "Individual",
         "0",
         "0",
         "0",
         "27.87",
         "10+ years",
         "684",
         "680",
         "MORTGAGE",
         "0",
         "4000",
         "259.0",
         "230",
         "4",
         null,
         "19.0",
         "14",
         "0",
         " 36 months",
         "141033",
         "Verified",
         "17.3"
        ],
        [
         "4",
         "75.0",
         "73000.0",
         "Individual",
         "0",
         "0",
         "0",
         "35.12",
         "10+ years",
         "759",
         "755",
         "MORTGAGE",
         "0",
         "15075",
         "163.0",
         "126",
         "1",
         null,
         "13.0",
         "19",
         "0",
         " 36 months",
         "160302",
         "Not Verified",
         "10.81"
        ]
       ],
       "shape": {
        "columns": 24,
        "rows": 5
       }
      },
      "text/html": [
       "<div>\n",
       "<style scoped>\n",
       "    .dataframe tbody tr th:only-of-type {\n",
       "        vertical-align: middle;\n",
       "    }\n",
       "\n",
       "    .dataframe tbody tr th {\n",
       "        vertical-align: top;\n",
       "    }\n",
       "\n",
       "    .dataframe thead th {\n",
       "        text-align: right;\n",
       "    }\n",
       "</style>\n",
       "<table border=\"1\" class=\"dataframe\">\n",
       "  <thead>\n",
       "    <tr style=\"text-align: right;\">\n",
       "      <th></th>\n",
       "      <th>all_util</th>\n",
       "      <th>annual_inc</th>\n",
       "      <th>application_type</th>\n",
       "      <th>chargeoff_within_12_mths</th>\n",
       "      <th>collections_12_mths_ex_med</th>\n",
       "      <th>delinq_2yrs</th>\n",
       "      <th>dti</th>\n",
       "      <th>emp_length</th>\n",
       "      <th>fico_range_high</th>\n",
       "      <th>fico_range_low</th>\n",
       "      <th>...</th>\n",
       "      <th>mo_sin_old_rev_tl_op</th>\n",
       "      <th>mort_acc</th>\n",
       "      <th>mths_since_last_record</th>\n",
       "      <th>mths_since_recent_inq</th>\n",
       "      <th>open_acc</th>\n",
       "      <th>pub_rec_bankruptcies</th>\n",
       "      <th>term</th>\n",
       "      <th>total_bal_ex_mort</th>\n",
       "      <th>verification_status</th>\n",
       "      <th>int_rate</th>\n",
       "    </tr>\n",
       "  </thead>\n",
       "  <tbody>\n",
       "    <tr>\n",
       "      <th>0</th>\n",
       "      <td>80.0</td>\n",
       "      <td>36000.0</td>\n",
       "      <td>Individual</td>\n",
       "      <td>0</td>\n",
       "      <td>0</td>\n",
       "      <td>0</td>\n",
       "      <td>26.33</td>\n",
       "      <td>NaN</td>\n",
       "      <td>674</td>\n",
       "      <td>670</td>\n",
       "      <td>...</td>\n",
       "      <td>35</td>\n",
       "      <td>0</td>\n",
       "      <td>NaN</td>\n",
       "      <td>0.0</td>\n",
       "      <td>5</td>\n",
       "      <td>0</td>\n",
       "      <td>36 months</td>\n",
       "      <td>34683</td>\n",
       "      <td>Verified</td>\n",
       "      <td>18.62</td>\n",
       "    </tr>\n",
       "    <tr>\n",
       "      <th>1</th>\n",
       "      <td>61.0</td>\n",
       "      <td>45000.0</td>\n",
       "      <td>Individual</td>\n",
       "      <td>0</td>\n",
       "      <td>0</td>\n",
       "      <td>0</td>\n",
       "      <td>38.51</td>\n",
       "      <td>1 year</td>\n",
       "      <td>734</td>\n",
       "      <td>730</td>\n",
       "      <td>...</td>\n",
       "      <td>103</td>\n",
       "      <td>0</td>\n",
       "      <td>NaN</td>\n",
       "      <td>0.0</td>\n",
       "      <td>14</td>\n",
       "      <td>0</td>\n",
       "      <td>60 months</td>\n",
       "      <td>63873</td>\n",
       "      <td>Not Verified</td>\n",
       "      <td>16.08</td>\n",
       "    </tr>\n",
       "    <tr>\n",
       "      <th>2</th>\n",
       "      <td>31.0</td>\n",
       "      <td>53040.0</td>\n",
       "      <td>Individual</td>\n",
       "      <td>0</td>\n",
       "      <td>0</td>\n",
       "      <td>0</td>\n",
       "      <td>25.20</td>\n",
       "      <td>&lt; 1 year</td>\n",
       "      <td>809</td>\n",
       "      <td>805</td>\n",
       "      <td>...</td>\n",
       "      <td>145</td>\n",
       "      <td>4</td>\n",
       "      <td>NaN</td>\n",
       "      <td>0.0</td>\n",
       "      <td>9</td>\n",
       "      <td>0</td>\n",
       "      <td>36 months</td>\n",
       "      <td>24452</td>\n",
       "      <td>Verified</td>\n",
       "      <td>7.56</td>\n",
       "    </tr>\n",
       "    <tr>\n",
       "      <th>3</th>\n",
       "      <td>87.0</td>\n",
       "      <td>125000.0</td>\n",
       "      <td>Individual</td>\n",
       "      <td>0</td>\n",
       "      <td>0</td>\n",
       "      <td>0</td>\n",
       "      <td>27.87</td>\n",
       "      <td>10+ years</td>\n",
       "      <td>684</td>\n",
       "      <td>680</td>\n",
       "      <td>...</td>\n",
       "      <td>230</td>\n",
       "      <td>4</td>\n",
       "      <td>NaN</td>\n",
       "      <td>19.0</td>\n",
       "      <td>14</td>\n",
       "      <td>0</td>\n",
       "      <td>36 months</td>\n",
       "      <td>141033</td>\n",
       "      <td>Verified</td>\n",
       "      <td>17.30</td>\n",
       "    </tr>\n",
       "    <tr>\n",
       "      <th>4</th>\n",
       "      <td>75.0</td>\n",
       "      <td>73000.0</td>\n",
       "      <td>Individual</td>\n",
       "      <td>0</td>\n",
       "      <td>0</td>\n",
       "      <td>0</td>\n",
       "      <td>35.12</td>\n",
       "      <td>10+ years</td>\n",
       "      <td>759</td>\n",
       "      <td>755</td>\n",
       "      <td>...</td>\n",
       "      <td>126</td>\n",
       "      <td>1</td>\n",
       "      <td>NaN</td>\n",
       "      <td>13.0</td>\n",
       "      <td>19</td>\n",
       "      <td>0</td>\n",
       "      <td>36 months</td>\n",
       "      <td>160302</td>\n",
       "      <td>Not Verified</td>\n",
       "      <td>10.81</td>\n",
       "    </tr>\n",
       "  </tbody>\n",
       "</table>\n",
       "<p>5 rows × 24 columns</p>\n",
       "</div>"
      ],
      "text/plain": [
       "   all_util  annual_inc application_type  chargeoff_within_12_mths  \\\n",
       "0      80.0     36000.0       Individual                         0   \n",
       "1      61.0     45000.0       Individual                         0   \n",
       "2      31.0     53040.0       Individual                         0   \n",
       "3      87.0    125000.0       Individual                         0   \n",
       "4      75.0     73000.0       Individual                         0   \n",
       "\n",
       "   collections_12_mths_ex_med  delinq_2yrs    dti emp_length  fico_range_high  \\\n",
       "0                           0            0  26.33        NaN              674   \n",
       "1                           0            0  38.51     1 year              734   \n",
       "2                           0            0  25.20   < 1 year              809   \n",
       "3                           0            0  27.87  10+ years              684   \n",
       "4                           0            0  35.12  10+ years              759   \n",
       "\n",
       "   fico_range_low  ... mo_sin_old_rev_tl_op  mort_acc  mths_since_last_record  \\\n",
       "0             670  ...                   35         0                     NaN   \n",
       "1             730  ...                  103         0                     NaN   \n",
       "2             805  ...                  145         4                     NaN   \n",
       "3             680  ...                  230         4                     NaN   \n",
       "4             755  ...                  126         1                     NaN   \n",
       "\n",
       "   mths_since_recent_inq  open_acc  pub_rec_bankruptcies        term  \\\n",
       "0                    0.0         5                     0   36 months   \n",
       "1                    0.0        14                     0   60 months   \n",
       "2                    0.0         9                     0   36 months   \n",
       "3                   19.0        14                     0   36 months   \n",
       "4                   13.0        19                     0   36 months   \n",
       "\n",
       "   total_bal_ex_mort  verification_status  int_rate  \n",
       "0              34683             Verified     18.62  \n",
       "1              63873         Not Verified     16.08  \n",
       "2              24452             Verified      7.56  \n",
       "3             141033             Verified     17.30  \n",
       "4             160302         Not Verified     10.81  \n",
       "\n",
       "[5 rows x 24 columns]"
      ]
     },
     "execution_count": 2,
     "metadata": {},
     "output_type": "execute_result"
    }
   ],
   "source": [
    "# Load dataset\n",
    "df = pd.read_csv('../data/raw/LC_HW2.csv')\n",
    "\n",
    "df.head()"
   ]
  },
  {
   "cell_type": "code",
   "execution_count": 3,
   "id": "663715d6",
   "metadata": {},
   "outputs": [
    {
     "name": "stdout",
     "output_type": "stream",
     "text": [
      "<class 'pandas.core.frame.DataFrame'>\n",
      "RangeIndex: 100000 entries, 0 to 99999\n",
      "Data columns (total 24 columns):\n",
      " #   Column                      Non-Null Count   Dtype  \n",
      "---  ------                      --------------   -----  \n",
      " 0   all_util                    99984 non-null   float64\n",
      " 1   annual_inc                  100000 non-null  float64\n",
      " 2   application_type            100000 non-null  object \n",
      " 3   chargeoff_within_12_mths    100000 non-null  int64  \n",
      " 4   collections_12_mths_ex_med  100000 non-null  int64  \n",
      " 5   delinq_2yrs                 100000 non-null  int64  \n",
      " 6   dti                         99814 non-null   float64\n",
      " 7   emp_length                  91331 non-null   object \n",
      " 8   fico_range_high             100000 non-null  int64  \n",
      " 9   fico_range_low              100000 non-null  int64  \n",
      " 10  home_ownership              100000 non-null  object \n",
      " 11  inq_last_12m                100000 non-null  int64  \n",
      " 12  loan_amnt                   100000 non-null  int64  \n",
      " 13  mo_sin_old_il_acct          97796 non-null   float64\n",
      " 14  mo_sin_old_rev_tl_op        100000 non-null  int64  \n",
      " 15  mort_acc                    100000 non-null  int64  \n",
      " 16  mths_since_last_record      9125 non-null    float64\n",
      " 17  mths_since_recent_inq       90025 non-null   float64\n",
      " 18  open_acc                    100000 non-null  int64  \n",
      " 19  pub_rec_bankruptcies        100000 non-null  int64  \n",
      " 20  term                        100000 non-null  object \n",
      " 21  total_bal_ex_mort           100000 non-null  int64  \n",
      " 22  verification_status         100000 non-null  object \n",
      " 23  int_rate                    100000 non-null  float64\n",
      "dtypes: float64(7), int64(12), object(5)\n",
      "memory usage: 18.3+ MB\n"
     ]
    }
   ],
   "source": [
    "df.info()"
   ]
  },
  {
   "cell_type": "markdown",
   "id": "7fdbb5de",
   "metadata": {},
   "source": [
    "### One Hot Encoding"
   ]
  },
  {
   "cell_type": "markdown",
   "id": "57ef78c7",
   "metadata": {},
   "source": [
    "Creating dummy variables for categorical variables. We'll save emp_length for later. This will be converted to numerical."
   ]
  },
  {
   "cell_type": "code",
   "execution_count": 4,
   "id": "10d77ce8",
   "metadata": {},
   "outputs": [
    {
     "data": {
      "application/vnd.microsoft.datawrangler.viewer.v0+json": {
       "columns": [
        {
         "name": "index",
         "rawType": "int64",
         "type": "integer"
        },
        {
         "name": "all_util",
         "rawType": "float64",
         "type": "float"
        },
        {
         "name": "annual_inc",
         "rawType": "float64",
         "type": "float"
        },
        {
         "name": "chargeoff_within_12_mths",
         "rawType": "int64",
         "type": "integer"
        },
        {
         "name": "collections_12_mths_ex_med",
         "rawType": "int64",
         "type": "integer"
        },
        {
         "name": "delinq_2yrs",
         "rawType": "int64",
         "type": "integer"
        },
        {
         "name": "dti",
         "rawType": "float64",
         "type": "float"
        },
        {
         "name": "emp_length",
         "rawType": "object",
         "type": "unknown"
        },
        {
         "name": "fico_range_high",
         "rawType": "int64",
         "type": "integer"
        },
        {
         "name": "fico_range_low",
         "rawType": "int64",
         "type": "integer"
        },
        {
         "name": "inq_last_12m",
         "rawType": "int64",
         "type": "integer"
        },
        {
         "name": "loan_amnt",
         "rawType": "int64",
         "type": "integer"
        },
        {
         "name": "mo_sin_old_il_acct",
         "rawType": "float64",
         "type": "float"
        },
        {
         "name": "mo_sin_old_rev_tl_op",
         "rawType": "int64",
         "type": "integer"
        },
        {
         "name": "mort_acc",
         "rawType": "int64",
         "type": "integer"
        },
        {
         "name": "mths_since_last_record",
         "rawType": "float64",
         "type": "float"
        },
        {
         "name": "mths_since_recent_inq",
         "rawType": "float64",
         "type": "float"
        },
        {
         "name": "open_acc",
         "rawType": "int64",
         "type": "integer"
        },
        {
         "name": "pub_rec_bankruptcies",
         "rawType": "int64",
         "type": "integer"
        },
        {
         "name": "total_bal_ex_mort",
         "rawType": "int64",
         "type": "integer"
        },
        {
         "name": "int_rate",
         "rawType": "float64",
         "type": "float"
        },
        {
         "name": "application_type_Joint App",
         "rawType": "float64",
         "type": "float"
        },
        {
         "name": "home_ownership_OWN",
         "rawType": "float64",
         "type": "float"
        },
        {
         "name": "home_ownership_RENT",
         "rawType": "float64",
         "type": "float"
        },
        {
         "name": "term_ 60 months",
         "rawType": "float64",
         "type": "float"
        },
        {
         "name": "verification_status_Verified",
         "rawType": "float64",
         "type": "float"
        }
       ],
       "ref": "05ec1153-8972-4010-851d-ef26f1b937ab",
       "rows": [
        [
         "0",
         "80.0",
         "36000.0",
         "0",
         "0",
         "0",
         "26.33",
         null,
         "674",
         "670",
         "5",
         "5000",
         "57.0",
         "35",
         "0",
         null,
         "0.0",
         "5",
         "0",
         "34683",
         "18.62",
         "0.0",
         "1.0",
         "0.0",
         "0.0",
         "1.0"
        ],
        [
         "1",
         "61.0",
         "45000.0",
         "0",
         "0",
         "0",
         "38.51",
         "1 year",
         "734",
         "730",
         "1",
         "15000",
         "113.0",
         "103",
         "0",
         null,
         "0.0",
         "14",
         "0",
         "63873",
         "16.08",
         "0.0",
         "0.0",
         "1.0",
         "1.0",
         "0.0"
        ],
        [
         "2",
         "31.0",
         "53040.0",
         "0",
         "0",
         "0",
         "25.2",
         "< 1 year",
         "809",
         "805",
         "1",
         "4550",
         "129.0",
         "145",
         "4",
         null,
         "0.0",
         "9",
         "0",
         "24452",
         "7.56",
         "0.0",
         "0.0",
         "0.0",
         "0.0",
         "1.0"
        ],
        [
         "3",
         "87.0",
         "125000.0",
         "0",
         "0",
         "0",
         "27.87",
         "10+ years",
         "684",
         "680",
         "0",
         "4000",
         "259.0",
         "230",
         "4",
         null,
         "19.0",
         "14",
         "0",
         "141033",
         "17.3",
         "0.0",
         "0.0",
         "0.0",
         "0.0",
         "1.0"
        ],
        [
         "4",
         "75.0",
         "73000.0",
         "0",
         "0",
         "0",
         "35.12",
         "10+ years",
         "759",
         "755",
         "0",
         "15075",
         "163.0",
         "126",
         "1",
         null,
         "13.0",
         "19",
         "0",
         "160302",
         "10.81",
         "0.0",
         "0.0",
         "0.0",
         "0.0",
         "0.0"
        ],
        [
         "5",
         "50.0",
         "58000.0",
         "0",
         "0",
         "0",
         "33.33",
         null,
         "674",
         "670",
         "1",
         "12000",
         "210.0",
         "244",
         "0",
         "63.0",
         "8.0",
         "11",
         "1",
         "38886",
         "16.08",
         "0.0",
         "1.0",
         "0.0",
         "1.0",
         "0.0"
        ],
        [
         "6",
         "62.0",
         "132000.0",
         "0",
         "0",
         "0",
         "23.38",
         "4 years",
         "794",
         "790",
         "7",
         "8500",
         "134.0",
         "125",
         "2",
         null,
         "5.0",
         "16",
         "0",
         "134209",
         "10.19",
         "0.0",
         "0.0",
         "0.0",
         "0.0",
         "1.0"
        ],
        [
         "7",
         "65.0",
         "79470.0",
         "0",
         "0",
         "0",
         "21.64",
         null,
         "744",
         "740",
         "3",
         "5000",
         "139.0",
         "163",
         "3",
         "95.0",
         "3.0",
         "18",
         "1",
         "72721",
         "10.19",
         "1.0",
         "0.0",
         "0.0",
         "0.0",
         "0.0"
        ],
        [
         "8",
         "60.0",
         "45000.0",
         "0",
         "0",
         "0",
         "55.63",
         "< 1 year",
         "714",
         "710",
         "2",
         "25000",
         "171.0",
         "169",
         "0",
         null,
         "7.0",
         "15",
         "0",
         "73799",
         "15.4",
         "1.0",
         "1.0",
         "0.0",
         "1.0",
         "1.0"
        ],
        [
         "9",
         "60.0",
         "64224.0",
         "0",
         "0",
         "0",
         "29.54",
         "5 years",
         "749",
         "745",
         "4",
         "3500",
         "113.0",
         "114",
         "1",
         null,
         "4.0",
         "17",
         "0",
         "61671",
         "11.71",
         "0.0",
         "0.0",
         "0.0",
         "0.0",
         "1.0"
        ],
        [
         "10",
         "47.0",
         "360000.0",
         "0",
         "0",
         "4",
         "10.0",
         "10+ years",
         "679",
         "675",
         "0",
         "40000",
         "199.0",
         "200",
         "1",
         null,
         "14.0",
         "16",
         "0",
         "223633",
         "11.71",
         "0.0",
         "0.0",
         "0.0",
         "0.0",
         "1.0"
        ],
        [
         "11",
         "61.0",
         "250000.0",
         "0",
         "0",
         "0",
         "7.43",
         "4 years",
         "704",
         "700",
         "3",
         "37000",
         "270.0",
         "190",
         "3",
         null,
         "1.0",
         "9",
         "0",
         "64858",
         "8.46",
         "0.0",
         "0.0",
         "0.0",
         "0.0",
         "0.0"
        ],
        [
         "12",
         "19.0",
         "152000.0",
         "0",
         "0",
         "0",
         "8.5",
         "10+ years",
         "744",
         "740",
         "0",
         "25000",
         "66.0",
         "120",
         "1",
         "103.0",
         null,
         "11",
         "1",
         "13227",
         "6.46",
         "0.0",
         "0.0",
         "0.0",
         "0.0",
         "1.0"
        ],
        [
         "13",
         "35.0",
         "115000.0",
         "0",
         "0",
         "0",
         "32.33",
         "2 years",
         "714",
         "710",
         "3",
         "20000",
         "81.0",
         "168",
         "0",
         "116.0",
         "1.0",
         "45",
         "1",
         "150107",
         "16.08",
         "0.0",
         "0.0",
         "0.0",
         "1.0",
         "0.0"
        ],
        [
         "14",
         "46.0",
         "65000.0",
         "0",
         "0",
         "0",
         "8.9",
         "6 years",
         "784",
         "780",
         "3",
         "27000",
         "142.0",
         "153",
         "3",
         null,
         "3.0",
         "7",
         "0",
         "13106",
         "14.02",
         "0.0",
         "0.0",
         "0.0",
         "1.0",
         "1.0"
        ],
        [
         "15",
         "61.0",
         "71000.0",
         "0",
         "0",
         "0",
         "24.51",
         null,
         "669",
         "665",
         "1",
         "20000",
         "73.0",
         "130",
         "2",
         "99.0",
         "2.0",
         "18",
         "1",
         "58139",
         "17.74",
         "0.0",
         "0.0",
         "0.0",
         "1.0",
         "0.0"
        ],
        [
         "16",
         "52.0",
         "75000.0",
         "0",
         "0",
         "0",
         "23.01",
         "9 years",
         "749",
         "745",
         "1",
         "13200",
         "160.0",
         "113",
         "1",
         null,
         "5.0",
         "9",
         "0",
         "41169",
         "14.02",
         "1.0",
         "0.0",
         "0.0",
         "1.0",
         "0.0"
        ],
        [
         "17",
         "43.0",
         "120000.0",
         "0",
         "0",
         "0",
         "20.81",
         "2 years",
         "709",
         "705",
         "0",
         "40000",
         "129.0",
         "85",
         "2",
         null,
         "13.0",
         "14",
         "0",
         "123377",
         "14.02",
         "0.0",
         "1.0",
         "0.0",
         "1.0",
         "0.0"
        ],
        [
         "18",
         "37.0",
         "130000.0",
         "0",
         "0",
         "1",
         "32.17",
         "4 years",
         "704",
         "700",
         "3",
         "17900",
         "165.0",
         "347",
         "3",
         null,
         "8.0",
         "22",
         "0",
         "126807",
         "24.55",
         "0.0",
         "0.0",
         "0.0",
         "0.0",
         "0.0"
        ],
        [
         "19",
         "69.0",
         "72000.0",
         "0",
         "0",
         "0",
         "21.18",
         "10+ years",
         "699",
         "695",
         "1",
         "17000",
         "188.0",
         "268",
         "0",
         null,
         "3.0",
         "14",
         "0",
         "93264",
         "14.02",
         "0.0",
         "0.0",
         "0.0",
         "0.0",
         "1.0"
        ],
        [
         "20",
         "60.0",
         "85000.0",
         "0",
         "0",
         "0",
         "27.97",
         "2 years",
         "689",
         "685",
         "7",
         "40000",
         "147.0",
         "158",
         "2",
         null,
         "2.0",
         "13",
         "0",
         "63707",
         "14.71",
         "1.0",
         "0.0",
         "0.0",
         "0.0",
         "1.0"
        ],
        [
         "21",
         "38.0",
         "60000.0",
         "0",
         "0",
         "0",
         "20.92",
         "6 years",
         "734",
         "730",
         "0",
         "32800",
         "136.0",
         "317",
         "0",
         "80.0",
         "13.0",
         "6",
         "1",
         "19721",
         "10.81",
         "1.0",
         "0.0",
         "0.0",
         "0.0",
         "0.0"
        ],
        [
         "22",
         "68.0",
         "15156.0",
         "0",
         "0",
         "0",
         "91.84",
         null,
         "694",
         "690",
         "0",
         "21275",
         "163.0",
         "110",
         "0",
         null,
         null,
         "9",
         "0",
         "52399",
         "20.55",
         "1.0",
         "0.0",
         "0.0",
         "1.0",
         "0.0"
        ],
        [
         "23",
         "57.0",
         "100000.0",
         "0",
         "0",
         "0",
         "15.06",
         "2 years",
         "744",
         "740",
         "0",
         "36000",
         "98.0",
         "196",
         "3",
         null,
         null,
         "8",
         "0",
         "44294",
         "10.19",
         "0.0",
         "0.0",
         "0.0",
         "1.0",
         "1.0"
        ],
        [
         "24",
         "49.0",
         "90000.0",
         "0",
         "0",
         "0",
         "8.39",
         "10+ years",
         "664",
         "660",
         "4",
         "8000",
         "118.0",
         "69",
         "5",
         null,
         "3.0",
         "8",
         "0",
         "47640",
         "20.55",
         "0.0",
         "0.0",
         "0.0",
         "0.0",
         "1.0"
        ],
        [
         "25",
         "71.0",
         "75000.0",
         "0",
         "0",
         "1",
         "15.7",
         "2 years",
         "674",
         "670",
         "3",
         "10000",
         "197.0",
         "234",
         "2",
         null,
         "0.0",
         "9",
         "0",
         "41978",
         "16.12",
         "0.0",
         "0.0",
         "0.0",
         "0.0",
         "1.0"
        ],
        [
         "26",
         "73.0",
         "97000.0",
         "0",
         "0",
         "0",
         "10.48",
         "10+ years",
         "744",
         "740",
         "1",
         "25000",
         "142.0",
         "328",
         "7",
         null,
         "8.0",
         "5",
         "0",
         "37457",
         "10.33",
         "1.0",
         "0.0",
         "0.0",
         "0.0",
         "1.0"
        ],
        [
         "27",
         "42.0",
         "325000.0",
         "0",
         "0",
         "0",
         "7.84",
         "5 years",
         "704",
         "700",
         "4",
         "40000",
         "142.0",
         "188",
         "0",
         null,
         "5.0",
         "8",
         "0",
         "87740",
         "12.4",
         "0.0",
         "0.0",
         "1.0",
         "0.0",
         "1.0"
        ],
        [
         "28",
         "8.0",
         "155000.0",
         "0",
         "0",
         "0",
         "9.64",
         "6 years",
         "729",
         "725",
         "1",
         "12050",
         "62.0",
         "178",
         "1",
         "108.0",
         "5.0",
         "11",
         "1",
         "43105",
         "16.12",
         "0.0",
         "0.0",
         "1.0",
         "1.0",
         "1.0"
        ],
        [
         "29",
         "95.0",
         "65000.0",
         "0",
         "0",
         "0",
         "49.85",
         "< 1 year",
         "729",
         "725",
         "2",
         "10625",
         "156.0",
         "109",
         "4",
         null,
         "4.0",
         "13",
         "0",
         "220592",
         "16.12",
         "1.0",
         "0.0",
         "1.0",
         "1.0",
         "1.0"
        ],
        [
         "30",
         "31.0",
         "107500.0",
         "0",
         "0",
         "0",
         "19.67",
         "3 years",
         "744",
         "740",
         "2",
         "33500",
         "69.0",
         "150",
         "0",
         null,
         "10.0",
         "13",
         "0",
         "32520",
         "8.46",
         "0.0",
         "0.0",
         "1.0",
         "0.0",
         "0.0"
        ],
        [
         "31",
         "42.0",
         "45000.0",
         "0",
         "0",
         "0",
         "36.51",
         "1 year",
         "689",
         "685",
         "1",
         "12000",
         "206.0",
         "49",
         "0",
         null,
         "3.0",
         "21",
         "0",
         "63689",
         "15.4",
         "1.0",
         "0.0",
         "1.0",
         "1.0",
         "0.0"
        ],
        [
         "32",
         "41.0",
         "50000.0",
         "0",
         "0",
         "0",
         "30.63",
         "< 1 year",
         "699",
         "695",
         "0",
         "5000",
         "157.0",
         "156",
         "1",
         null,
         "16.0",
         "9",
         "0",
         "23502",
         "19.95",
         "0.0",
         "0.0",
         "0.0",
         "0.0",
         "0.0"
        ],
        [
         "33",
         "57.0",
         "61000.0",
         "0",
         "0",
         "0",
         "19.26",
         "6 years",
         "729",
         "725",
         "0",
         "13000",
         "151.0",
         "102",
         "0",
         null,
         "14.0",
         "6",
         "0",
         "37543",
         "10.81",
         "0.0",
         "0.0",
         "1.0",
         "0.0",
         "1.0"
        ],
        [
         "34",
         "74.0",
         "72000.0",
         "0",
         "0",
         "0",
         "34.75",
         "8 years",
         "769",
         "765",
         "3",
         "11400",
         "181.0",
         "135",
         "1",
         null,
         "11.0",
         "7",
         "0",
         "83365",
         "9.02",
         "0.0",
         "0.0",
         "0.0",
         "0.0",
         "1.0"
        ],
        [
         "35",
         "62.0",
         "78000.0",
         "0",
         "0",
         "0",
         "31.8",
         "2 years",
         "749",
         "745",
         "2",
         "26575",
         "112.0",
         "52",
         "2",
         null,
         "10.0",
         "8",
         "0",
         "67654",
         "12.4",
         "1.0",
         "0.0",
         "0.0",
         "1.0",
         "0.0"
        ],
        [
         "36",
         "33.0",
         "31000.0",
         "0",
         "0",
         "0",
         "9.96",
         "10+ years",
         "699",
         "695",
         "1",
         "12000",
         "182.0",
         "179",
         "0",
         null,
         "6.0",
         "5",
         "0",
         "11105",
         "10.81",
         "0.0",
         "0.0",
         "1.0",
         "0.0",
         "1.0"
        ],
        [
         "37",
         "50.0",
         "180000.0",
         "0",
         "0",
         "0",
         "15.24",
         "8 years",
         "759",
         "755",
         "0",
         "29175",
         "75.0",
         "90",
         "0",
         null,
         "14.0",
         "6",
         "0",
         "65035",
         "10.81",
         "0.0",
         "1.0",
         "0.0",
         "0.0",
         "1.0"
        ],
        [
         "38",
         "42.0",
         "30000.0",
         "0",
         "0",
         "0",
         "13.44",
         "3 years",
         "724",
         "720",
         "2",
         "26575",
         "112.0",
         "90",
         "0",
         null,
         "10.0",
         "15",
         "0",
         "23612",
         "11.71",
         "1.0",
         "0.0",
         "1.0",
         "1.0",
         "1.0"
        ],
        [
         "39",
         "89.0",
         "150000.0",
         "0",
         "0",
         "0",
         "32.22",
         "6 years",
         "684",
         "680",
         "0",
         "17225",
         "206.0",
         "201",
         "3",
         null,
         "13.0",
         "17",
         "0",
         "283371",
         "11.02",
         "1.0",
         "0.0",
         "0.0",
         "0.0",
         "0.0"
        ],
        [
         "40",
         "67.0",
         "54000.0",
         "0",
         "0",
         "0",
         "29.49",
         "3 years",
         "729",
         "725",
         "4",
         "7000",
         "147.0",
         "180",
         "0",
         null,
         "8.0",
         "10",
         "0",
         "85206",
         "10.19",
         "0.0",
         "0.0",
         "1.0",
         "0.0",
         "1.0"
        ],
        [
         "41",
         "59.0",
         "75000.0",
         "0",
         "0",
         "0",
         "20.7",
         "< 1 year",
         "699",
         "695",
         "2",
         "15000",
         "129.0",
         "196",
         "0",
         "91.0",
         "8.0",
         "12",
         "1",
         "26157",
         "8.81",
         "0.0",
         "0.0",
         "1.0",
         "0.0",
         "1.0"
        ],
        [
         "42",
         "36.0",
         "82500.0",
         "0",
         "0",
         "1",
         "15.65",
         "4 years",
         "729",
         "725",
         "4",
         "12625",
         "180.0",
         "144",
         "1",
         null,
         "3.0",
         "15",
         "0",
         "127948",
         "7.56",
         "0.0",
         "0.0",
         "1.0",
         "0.0",
         "1.0"
        ],
        [
         "43",
         "59.0",
         "150000.0",
         "0",
         "0",
         "0",
         "12.66",
         "3 years",
         "699",
         "695",
         "1",
         "16000",
         "164.0",
         "91",
         "2",
         "113.0",
         "10.0",
         "8",
         "1",
         "29421",
         "10.81",
         "0.0",
         "0.0",
         "0.0",
         "0.0",
         "0.0"
        ],
        [
         "44",
         "53.0",
         "145000.0",
         "0",
         "0",
         "0",
         "32.94",
         "< 1 year",
         "684",
         "680",
         "2",
         "15000",
         "194.0",
         "223",
         "0",
         null,
         "2.0",
         "14",
         "0",
         "101735",
         "10.81",
         "0.0",
         "0.0",
         "0.0",
         "0.0",
         "0.0"
        ],
        [
         "45",
         "35.0",
         "100000.0",
         "0",
         "0",
         "0",
         "8.05",
         "10+ years",
         "679",
         "675",
         "5",
         "10000",
         "77.0",
         "209",
         "4",
         "68.0",
         "0.0",
         "15",
         "1",
         "33645",
         "10.81",
         "0.0",
         "0.0",
         "0.0",
         "0.0",
         "0.0"
        ],
        [
         "46",
         "53.0",
         "125000.0",
         "0",
         "0",
         "0",
         "28.49",
         "7 years",
         "714",
         "710",
         "0",
         "36000",
         "183.0",
         "91",
         "0",
         "98.0",
         "18.0",
         "9",
         "1",
         "78256",
         "10.81",
         "0.0",
         "0.0",
         "1.0",
         "0.0",
         "1.0"
        ],
        [
         "47",
         "67.0",
         "63000.0",
         "0",
         "0",
         "0",
         "20.3",
         "6 years",
         "729",
         "725",
         "0",
         "6000",
         "143.0",
         "84",
         "3",
         null,
         null,
         "10",
         "0",
         "37254",
         "9.56",
         "0.0",
         "0.0",
         "0.0",
         "0.0",
         "0.0"
        ],
        [
         "48",
         "52.0",
         "44000.0",
         "0",
         "0",
         "0",
         "22.26",
         "5 years",
         "729",
         "725",
         "2",
         "16000",
         "140.0",
         "108",
         "1",
         null,
         "10.0",
         "12",
         "0",
         "150034",
         "14.02",
         "0.0",
         "0.0",
         "1.0",
         "1.0",
         "0.0"
        ],
        [
         "49",
         "39.0",
         "50000.0",
         "0",
         "0",
         "0",
         "12.89",
         "10+ years",
         "779",
         "775",
         "1",
         "10000",
         "8.0",
         "158",
         "0",
         null,
         "8.0",
         "7",
         "0",
         "13038",
         "9.02",
         "0.0",
         "0.0",
         "1.0",
         "0.0",
         "1.0"
        ]
       ],
       "shape": {
        "columns": 25,
        "rows": 100000
       }
      },
      "text/html": [
       "<div>\n",
       "<style scoped>\n",
       "    .dataframe tbody tr th:only-of-type {\n",
       "        vertical-align: middle;\n",
       "    }\n",
       "\n",
       "    .dataframe tbody tr th {\n",
       "        vertical-align: top;\n",
       "    }\n",
       "\n",
       "    .dataframe thead th {\n",
       "        text-align: right;\n",
       "    }\n",
       "</style>\n",
       "<table border=\"1\" class=\"dataframe\">\n",
       "  <thead>\n",
       "    <tr style=\"text-align: right;\">\n",
       "      <th></th>\n",
       "      <th>all_util</th>\n",
       "      <th>annual_inc</th>\n",
       "      <th>chargeoff_within_12_mths</th>\n",
       "      <th>collections_12_mths_ex_med</th>\n",
       "      <th>delinq_2yrs</th>\n",
       "      <th>dti</th>\n",
       "      <th>emp_length</th>\n",
       "      <th>fico_range_high</th>\n",
       "      <th>fico_range_low</th>\n",
       "      <th>inq_last_12m</th>\n",
       "      <th>...</th>\n",
       "      <th>mths_since_recent_inq</th>\n",
       "      <th>open_acc</th>\n",
       "      <th>pub_rec_bankruptcies</th>\n",
       "      <th>total_bal_ex_mort</th>\n",
       "      <th>int_rate</th>\n",
       "      <th>application_type_Joint App</th>\n",
       "      <th>home_ownership_OWN</th>\n",
       "      <th>home_ownership_RENT</th>\n",
       "      <th>term_ 60 months</th>\n",
       "      <th>verification_status_Verified</th>\n",
       "    </tr>\n",
       "  </thead>\n",
       "  <tbody>\n",
       "    <tr>\n",
       "      <th>0</th>\n",
       "      <td>80.0</td>\n",
       "      <td>36000.0</td>\n",
       "      <td>0</td>\n",
       "      <td>0</td>\n",
       "      <td>0</td>\n",
       "      <td>26.33</td>\n",
       "      <td>NaN</td>\n",
       "      <td>674</td>\n",
       "      <td>670</td>\n",
       "      <td>5</td>\n",
       "      <td>...</td>\n",
       "      <td>0.0</td>\n",
       "      <td>5</td>\n",
       "      <td>0</td>\n",
       "      <td>34683</td>\n",
       "      <td>18.62</td>\n",
       "      <td>0.0</td>\n",
       "      <td>1.0</td>\n",
       "      <td>0.0</td>\n",
       "      <td>0.0</td>\n",
       "      <td>1.0</td>\n",
       "    </tr>\n",
       "    <tr>\n",
       "      <th>1</th>\n",
       "      <td>61.0</td>\n",
       "      <td>45000.0</td>\n",
       "      <td>0</td>\n",
       "      <td>0</td>\n",
       "      <td>0</td>\n",
       "      <td>38.51</td>\n",
       "      <td>1 year</td>\n",
       "      <td>734</td>\n",
       "      <td>730</td>\n",
       "      <td>1</td>\n",
       "      <td>...</td>\n",
       "      <td>0.0</td>\n",
       "      <td>14</td>\n",
       "      <td>0</td>\n",
       "      <td>63873</td>\n",
       "      <td>16.08</td>\n",
       "      <td>0.0</td>\n",
       "      <td>0.0</td>\n",
       "      <td>1.0</td>\n",
       "      <td>1.0</td>\n",
       "      <td>0.0</td>\n",
       "    </tr>\n",
       "    <tr>\n",
       "      <th>2</th>\n",
       "      <td>31.0</td>\n",
       "      <td>53040.0</td>\n",
       "      <td>0</td>\n",
       "      <td>0</td>\n",
       "      <td>0</td>\n",
       "      <td>25.20</td>\n",
       "      <td>&lt; 1 year</td>\n",
       "      <td>809</td>\n",
       "      <td>805</td>\n",
       "      <td>1</td>\n",
       "      <td>...</td>\n",
       "      <td>0.0</td>\n",
       "      <td>9</td>\n",
       "      <td>0</td>\n",
       "      <td>24452</td>\n",
       "      <td>7.56</td>\n",
       "      <td>0.0</td>\n",
       "      <td>0.0</td>\n",
       "      <td>0.0</td>\n",
       "      <td>0.0</td>\n",
       "      <td>1.0</td>\n",
       "    </tr>\n",
       "    <tr>\n",
       "      <th>3</th>\n",
       "      <td>87.0</td>\n",
       "      <td>125000.0</td>\n",
       "      <td>0</td>\n",
       "      <td>0</td>\n",
       "      <td>0</td>\n",
       "      <td>27.87</td>\n",
       "      <td>10+ years</td>\n",
       "      <td>684</td>\n",
       "      <td>680</td>\n",
       "      <td>0</td>\n",
       "      <td>...</td>\n",
       "      <td>19.0</td>\n",
       "      <td>14</td>\n",
       "      <td>0</td>\n",
       "      <td>141033</td>\n",
       "      <td>17.30</td>\n",
       "      <td>0.0</td>\n",
       "      <td>0.0</td>\n",
       "      <td>0.0</td>\n",
       "      <td>0.0</td>\n",
       "      <td>1.0</td>\n",
       "    </tr>\n",
       "    <tr>\n",
       "      <th>4</th>\n",
       "      <td>75.0</td>\n",
       "      <td>73000.0</td>\n",
       "      <td>0</td>\n",
       "      <td>0</td>\n",
       "      <td>0</td>\n",
       "      <td>35.12</td>\n",
       "      <td>10+ years</td>\n",
       "      <td>759</td>\n",
       "      <td>755</td>\n",
       "      <td>0</td>\n",
       "      <td>...</td>\n",
       "      <td>13.0</td>\n",
       "      <td>19</td>\n",
       "      <td>0</td>\n",
       "      <td>160302</td>\n",
       "      <td>10.81</td>\n",
       "      <td>0.0</td>\n",
       "      <td>0.0</td>\n",
       "      <td>0.0</td>\n",
       "      <td>0.0</td>\n",
       "      <td>0.0</td>\n",
       "    </tr>\n",
       "    <tr>\n",
       "      <th>...</th>\n",
       "      <td>...</td>\n",
       "      <td>...</td>\n",
       "      <td>...</td>\n",
       "      <td>...</td>\n",
       "      <td>...</td>\n",
       "      <td>...</td>\n",
       "      <td>...</td>\n",
       "      <td>...</td>\n",
       "      <td>...</td>\n",
       "      <td>...</td>\n",
       "      <td>...</td>\n",
       "      <td>...</td>\n",
       "      <td>...</td>\n",
       "      <td>...</td>\n",
       "      <td>...</td>\n",
       "      <td>...</td>\n",
       "      <td>...</td>\n",
       "      <td>...</td>\n",
       "      <td>...</td>\n",
       "      <td>...</td>\n",
       "      <td>...</td>\n",
       "    </tr>\n",
       "    <tr>\n",
       "      <th>99995</th>\n",
       "      <td>75.0</td>\n",
       "      <td>38500.0</td>\n",
       "      <td>0</td>\n",
       "      <td>0</td>\n",
       "      <td>0</td>\n",
       "      <td>51.75</td>\n",
       "      <td>2 years</td>\n",
       "      <td>664</td>\n",
       "      <td>660</td>\n",
       "      <td>1</td>\n",
       "      <td>...</td>\n",
       "      <td>6.0</td>\n",
       "      <td>17</td>\n",
       "      <td>0</td>\n",
       "      <td>45338</td>\n",
       "      <td>18.62</td>\n",
       "      <td>1.0</td>\n",
       "      <td>0.0</td>\n",
       "      <td>1.0</td>\n",
       "      <td>1.0</td>\n",
       "      <td>1.0</td>\n",
       "    </tr>\n",
       "    <tr>\n",
       "      <th>99996</th>\n",
       "      <td>59.0</td>\n",
       "      <td>165000.0</td>\n",
       "      <td>0</td>\n",
       "      <td>0</td>\n",
       "      <td>3</td>\n",
       "      <td>12.90</td>\n",
       "      <td>6 years</td>\n",
       "      <td>714</td>\n",
       "      <td>710</td>\n",
       "      <td>0</td>\n",
       "      <td>...</td>\n",
       "      <td>14.0</td>\n",
       "      <td>14</td>\n",
       "      <td>0</td>\n",
       "      <td>55842</td>\n",
       "      <td>8.19</td>\n",
       "      <td>0.0</td>\n",
       "      <td>0.0</td>\n",
       "      <td>0.0</td>\n",
       "      <td>0.0</td>\n",
       "      <td>0.0</td>\n",
       "    </tr>\n",
       "    <tr>\n",
       "      <th>99997</th>\n",
       "      <td>54.0</td>\n",
       "      <td>49999.0</td>\n",
       "      <td>0</td>\n",
       "      <td>0</td>\n",
       "      <td>0</td>\n",
       "      <td>32.67</td>\n",
       "      <td>&lt; 1 year</td>\n",
       "      <td>664</td>\n",
       "      <td>660</td>\n",
       "      <td>0</td>\n",
       "      <td>...</td>\n",
       "      <td>NaN</td>\n",
       "      <td>14</td>\n",
       "      <td>0</td>\n",
       "      <td>36970</td>\n",
       "      <td>17.74</td>\n",
       "      <td>0.0</td>\n",
       "      <td>0.0</td>\n",
       "      <td>1.0</td>\n",
       "      <td>1.0</td>\n",
       "      <td>1.0</td>\n",
       "    </tr>\n",
       "    <tr>\n",
       "      <th>99998</th>\n",
       "      <td>54.0</td>\n",
       "      <td>62800.0</td>\n",
       "      <td>0</td>\n",
       "      <td>0</td>\n",
       "      <td>0</td>\n",
       "      <td>33.86</td>\n",
       "      <td>1 year</td>\n",
       "      <td>759</td>\n",
       "      <td>755</td>\n",
       "      <td>3</td>\n",
       "      <td>...</td>\n",
       "      <td>1.0</td>\n",
       "      <td>15</td>\n",
       "      <td>0</td>\n",
       "      <td>92636</td>\n",
       "      <td>8.19</td>\n",
       "      <td>0.0</td>\n",
       "      <td>0.0</td>\n",
       "      <td>0.0</td>\n",
       "      <td>1.0</td>\n",
       "      <td>1.0</td>\n",
       "    </tr>\n",
       "    <tr>\n",
       "      <th>99999</th>\n",
       "      <td>51.0</td>\n",
       "      <td>55000.0</td>\n",
       "      <td>0</td>\n",
       "      <td>0</td>\n",
       "      <td>0</td>\n",
       "      <td>32.62</td>\n",
       "      <td>10+ years</td>\n",
       "      <td>674</td>\n",
       "      <td>670</td>\n",
       "      <td>3</td>\n",
       "      <td>...</td>\n",
       "      <td>1.0</td>\n",
       "      <td>18</td>\n",
       "      <td>0</td>\n",
       "      <td>40729</td>\n",
       "      <td>16.95</td>\n",
       "      <td>0.0</td>\n",
       "      <td>0.0</td>\n",
       "      <td>0.0</td>\n",
       "      <td>0.0</td>\n",
       "      <td>1.0</td>\n",
       "    </tr>\n",
       "  </tbody>\n",
       "</table>\n",
       "<p>100000 rows × 25 columns</p>\n",
       "</div>"
      ],
      "text/plain": [
       "       all_util  annual_inc  chargeoff_within_12_mths  \\\n",
       "0          80.0     36000.0                         0   \n",
       "1          61.0     45000.0                         0   \n",
       "2          31.0     53040.0                         0   \n",
       "3          87.0    125000.0                         0   \n",
       "4          75.0     73000.0                         0   \n",
       "...         ...         ...                       ...   \n",
       "99995      75.0     38500.0                         0   \n",
       "99996      59.0    165000.0                         0   \n",
       "99997      54.0     49999.0                         0   \n",
       "99998      54.0     62800.0                         0   \n",
       "99999      51.0     55000.0                         0   \n",
       "\n",
       "       collections_12_mths_ex_med  delinq_2yrs    dti emp_length  \\\n",
       "0                               0            0  26.33        NaN   \n",
       "1                               0            0  38.51     1 year   \n",
       "2                               0            0  25.20   < 1 year   \n",
       "3                               0            0  27.87  10+ years   \n",
       "4                               0            0  35.12  10+ years   \n",
       "...                           ...          ...    ...        ...   \n",
       "99995                           0            0  51.75    2 years   \n",
       "99996                           0            3  12.90    6 years   \n",
       "99997                           0            0  32.67   < 1 year   \n",
       "99998                           0            0  33.86     1 year   \n",
       "99999                           0            0  32.62  10+ years   \n",
       "\n",
       "       fico_range_high  fico_range_low  inq_last_12m  ...  \\\n",
       "0                  674             670             5  ...   \n",
       "1                  734             730             1  ...   \n",
       "2                  809             805             1  ...   \n",
       "3                  684             680             0  ...   \n",
       "4                  759             755             0  ...   \n",
       "...                ...             ...           ...  ...   \n",
       "99995              664             660             1  ...   \n",
       "99996              714             710             0  ...   \n",
       "99997              664             660             0  ...   \n",
       "99998              759             755             3  ...   \n",
       "99999              674             670             3  ...   \n",
       "\n",
       "       mths_since_recent_inq  open_acc  pub_rec_bankruptcies  \\\n",
       "0                        0.0         5                     0   \n",
       "1                        0.0        14                     0   \n",
       "2                        0.0         9                     0   \n",
       "3                       19.0        14                     0   \n",
       "4                       13.0        19                     0   \n",
       "...                      ...       ...                   ...   \n",
       "99995                    6.0        17                     0   \n",
       "99996                   14.0        14                     0   \n",
       "99997                    NaN        14                     0   \n",
       "99998                    1.0        15                     0   \n",
       "99999                    1.0        18                     0   \n",
       "\n",
       "       total_bal_ex_mort  int_rate  application_type_Joint App  \\\n",
       "0                  34683     18.62                         0.0   \n",
       "1                  63873     16.08                         0.0   \n",
       "2                  24452      7.56                         0.0   \n",
       "3                 141033     17.30                         0.0   \n",
       "4                 160302     10.81                         0.0   \n",
       "...                  ...       ...                         ...   \n",
       "99995              45338     18.62                         1.0   \n",
       "99996              55842      8.19                         0.0   \n",
       "99997              36970     17.74                         0.0   \n",
       "99998              92636      8.19                         0.0   \n",
       "99999              40729     16.95                         0.0   \n",
       "\n",
       "       home_ownership_OWN  home_ownership_RENT  term_ 60 months  \\\n",
       "0                     1.0                  0.0              0.0   \n",
       "1                     0.0                  1.0              1.0   \n",
       "2                     0.0                  0.0              0.0   \n",
       "3                     0.0                  0.0              0.0   \n",
       "4                     0.0                  0.0              0.0   \n",
       "...                   ...                  ...              ...   \n",
       "99995                 0.0                  1.0              1.0   \n",
       "99996                 0.0                  0.0              0.0   \n",
       "99997                 0.0                  1.0              1.0   \n",
       "99998                 0.0                  0.0              1.0   \n",
       "99999                 0.0                  0.0              0.0   \n",
       "\n",
       "       verification_status_Verified  \n",
       "0                               1.0  \n",
       "1                               0.0  \n",
       "2                               1.0  \n",
       "3                               1.0  \n",
       "4                               0.0  \n",
       "...                             ...  \n",
       "99995                           1.0  \n",
       "99996                           0.0  \n",
       "99997                           1.0  \n",
       "99998                           1.0  \n",
       "99999                           1.0  \n",
       "\n",
       "[100000 rows x 25 columns]"
      ]
     },
     "execution_count": 4,
     "metadata": {},
     "output_type": "execute_result"
    }
   ],
   "source": [
    "# Define categorical variables for one-hot encoding\n",
    "cat_cols = ['application_type', 'home_ownership', 'term', 'verification_status']\n",
    "\n",
    "# Initialize OneHotEncoder and drop the first dummy\n",
    "ohe = OneHotEncoder(drop='first')\n",
    "\n",
    "# Fit and transform the categorical column(s)\n",
    "ohe_features = ohe.fit_transform(df[cat_cols]).toarray()\n",
    "\n",
    "# Get the dummy column names from the encoder\n",
    "ohe_labels = ohe.get_feature_names_out(cat_cols)\n",
    "\n",
    "# Convert encoded output into a DataFrame\n",
    "ohe_features = pd.DataFrame(ohe_features, columns=ohe_labels)\n",
    "\n",
    "# Create a copy of the original DataFrame without the original categorical column(s)\n",
    "df_nocat = df.drop(columns=cat_cols)\n",
    "\n",
    "# Attach the dummy variable DataFrame to the rest of the dataset\n",
    "df_encoded = pd.concat([df_nocat, ohe_features], axis=1)\n",
    "\n",
    "# Final encoded dataset\n",
    "df_encoded"
   ]
  },
  {
   "cell_type": "markdown",
   "id": "6ee7ba44",
   "metadata": {},
   "source": [
    "****"
   ]
  },
  {
   "cell_type": "markdown",
   "id": "19c47664",
   "metadata": {},
   "source": [
    "## Train / Test Split"
   ]
  },
  {
   "cell_type": "code",
   "execution_count": 5,
   "id": "501e4f4c",
   "metadata": {},
   "outputs": [],
   "source": [
    "# Define features / target\n",
    "X = df_encoded.drop(columns = ['int_rate']) # Features\n",
    "y = df_encoded['int_rate'] # Target variable\n",
    "\n",
    "# Hold back 25% for the test set\n",
    "X_temp, X_test, y_temp, y_test = train_test_split(X, y,\n",
    "                                                  test_size=0.25, # 25 % of TOTAL data\n",
    "                                                  random_state=206)\n",
    "\n",
    "# Split the remaining 75% into train and dev\n",
    "X_train, X_dev, y_train, y_dev = train_test_split(X_temp, y_temp,\n",
    "                                                  test_size=0.20, # 20 % of what's left... 15 % overall\n",
    "                                                  random_state=206)"
   ]
  },
  {
   "cell_type": "code",
   "execution_count": 6,
   "id": "1b814f14",
   "metadata": {},
   "outputs": [
    {
     "name": "stdout",
     "output_type": "stream",
     "text": [
      "Train: (60000, 24)\n",
      "Dev: (15000, 24)\n",
      "Test: (25000, 24)\n"
     ]
    }
   ],
   "source": [
    "# Confirm shape of each set\n",
    "print(f\"Train: {X_train.shape}\")\n",
    "print(f\"Dev: {X_dev.shape}\")\n",
    "print(f\"Test: {X_test.shape}\")"
   ]
  },
  {
   "cell_type": "markdown",
   "id": "5337cb66",
   "metadata": {},
   "source": [
    "## Preprocessing"
   ]
  },
  {
   "cell_type": "code",
   "execution_count": 7,
   "id": "1ac38700",
   "metadata": {},
   "outputs": [],
   "source": [
    "# Remove total_acc. Feature not present at loan origination\n",
    "X_train = X_train.drop(columns = ['open_acc'])\n",
    "X_dev = X_dev.drop(columns = ['open_acc'])\n",
    "X_test = X_test.drop(columns = ['open_acc'])"
   ]
  },
  {
   "cell_type": "markdown",
   "id": "3a751bf4",
   "metadata": {},
   "source": [
    "### NA Handling"
   ]
  },
  {
   "cell_type": "code",
   "execution_count": 8,
   "id": "400a3c16",
   "metadata": {},
   "outputs": [
    {
     "data": {
      "application/vnd.microsoft.datawrangler.viewer.v0+json": {
       "columns": [
        {
         "name": "index",
         "rawType": "object",
         "type": "string"
        },
        {
         "name": "0",
         "rawType": "int64",
         "type": "integer"
        }
       ],
       "ref": "ebe4175e-d2da-4aaf-82db-106289e0a536",
       "rows": [
        [
         "all_util",
         "13"
        ],
        [
         "annual_inc",
         "0"
        ],
        [
         "chargeoff_within_12_mths",
         "0"
        ],
        [
         "collections_12_mths_ex_med",
         "0"
        ],
        [
         "delinq_2yrs",
         "0"
        ],
        [
         "dti",
         "119"
        ],
        [
         "emp_length",
         "5212"
        ],
        [
         "fico_range_high",
         "0"
        ],
        [
         "fico_range_low",
         "0"
        ],
        [
         "inq_last_12m",
         "0"
        ],
        [
         "loan_amnt",
         "0"
        ],
        [
         "mo_sin_old_il_acct",
         "1349"
        ],
        [
         "mo_sin_old_rev_tl_op",
         "0"
        ],
        [
         "mort_acc",
         "0"
        ],
        [
         "mths_since_last_record",
         "54576"
        ],
        [
         "mths_since_recent_inq",
         "6044"
        ],
        [
         "pub_rec_bankruptcies",
         "0"
        ],
        [
         "total_bal_ex_mort",
         "0"
        ],
        [
         "application_type_Joint App",
         "0"
        ],
        [
         "home_ownership_OWN",
         "0"
        ],
        [
         "home_ownership_RENT",
         "0"
        ],
        [
         "term_ 60 months",
         "0"
        ],
        [
         "verification_status_Verified",
         "0"
        ]
       ],
       "shape": {
        "columns": 1,
        "rows": 23
       }
      },
      "text/plain": [
       "all_util                           13\n",
       "annual_inc                          0\n",
       "chargeoff_within_12_mths            0\n",
       "collections_12_mths_ex_med          0\n",
       "delinq_2yrs                         0\n",
       "dti                               119\n",
       "emp_length                       5212\n",
       "fico_range_high                     0\n",
       "fico_range_low                      0\n",
       "inq_last_12m                        0\n",
       "loan_amnt                           0\n",
       "mo_sin_old_il_acct               1349\n",
       "mo_sin_old_rev_tl_op                0\n",
       "mort_acc                            0\n",
       "mths_since_last_record          54576\n",
       "mths_since_recent_inq            6044\n",
       "pub_rec_bankruptcies                0\n",
       "total_bal_ex_mort                   0\n",
       "application_type_Joint App          0\n",
       "home_ownership_OWN                  0\n",
       "home_ownership_RENT                 0\n",
       "term_ 60 months                     0\n",
       "verification_status_Verified        0\n",
       "dtype: int64"
      ]
     },
     "execution_count": 8,
     "metadata": {},
     "output_type": "execute_result"
    }
   ],
   "source": [
    "# Check for NA's\n",
    "X_train.isna().sum()"
   ]
  },
  {
   "cell_type": "markdown",
   "id": "c22401f7",
   "metadata": {},
   "source": [
    "#### all_util"
   ]
  },
  {
   "cell_type": "markdown",
   "id": "c5aea591",
   "metadata": {},
   "source": [
    "Represents the balance to credit limit on all trades. This can be measured by the following equation:\n",
    "\n",
    "\n",
    "$$all\\_util = 100 \\times \\frac{\\text{total balance on all accounts}}{\\text{total credit-limit on accounts}}$$\n",
    "\n",
    "\n",
    "An NA would likely mean that applicant does not have any trades with a positive credit-limit, leading to a denomincator of 0. This means that applicant likely has no open credit-limit lines, so their utilization ratio is 0%.\n",
    "\n",
    "For this column, 0 will be imputed for any NA's."
   ]
  },
  {
   "cell_type": "code",
   "execution_count": 9,
   "id": "6076d2a6",
   "metadata": {},
   "outputs": [
    {
     "name": "stdout",
     "output_type": "stream",
     "text": [
      "NA count in training set: 0\n",
      "NA count in dev set: 0\n",
      "NA count in test set: 0\n"
     ]
    }
   ],
   "source": [
    "# Imput 0 for NA's in all_util\n",
    "X_train['all_util'] = X_train['all_util'].fillna(0) # Apply to training set\n",
    "X_dev['all_util'] = X_dev['all_util'].fillna(0) # Apply to training set\n",
    "X_test['all_util'] = X_test['all_util'].fillna(0) # Apply to test set\n",
    "\n",
    "# Confirm NA's handled\n",
    "print(f\"NA count in training set: {X_train['all_util'].isna().sum()}\")\n",
    "print(f\"NA count in dev set: {X_dev['all_util'].isna().sum()}\")\n",
    "print(f\"NA count in test set: {X_test['all_util'].isna().sum()}\")"
   ]
  },
  {
   "cell_type": "markdown",
   "id": "ab9bfe0c",
   "metadata": {},
   "source": [
    "### dti"
   ]
  },
  {
   "cell_type": "markdown",
   "id": "9b2e235f",
   "metadata": {},
   "source": [
    "A ratio calculated using the borrower’s total monthly debt payments on the total debt obligations, excluding mortgage and the requested LC loan, divided by the borrower’s self-reported monthly income. \n",
    "\n",
    "$$dti = 100 \\times \\frac{\\text{total monthly debt payments on the total debt obligations, excluding mortgage and the requested LC loan}}{\\text{borrower’s self-reported monthly income}}$$\n",
    "\n",
    "An NA likely means that the applicant had no income and is reflected in the training set. Imputing 0 is implies an exceptional DTI, but no income suggests a credit risk. On the other hand, imputing 999 to represent these missing values might mislead the training of the model. \n",
    "\n",
    "Instead, median dti will be imputed and a dummy variable that flags missing values in the dti so that the model can learn whether DTI carries information."
   ]
  },
  {
   "cell_type": "code",
   "execution_count": 10,
   "id": "593e6458",
   "metadata": {},
   "outputs": [
    {
     "data": {
      "application/vnd.microsoft.datawrangler.viewer.v0+json": {
       "columns": [
        {
         "name": "index",
         "rawType": "object",
         "type": "string"
        },
        {
         "name": "annual_inc",
         "rawType": "float64",
         "type": "float"
        }
       ],
       "ref": "f5a30690-c32d-4243-addf-712ee590c11b",
       "rows": [
        [
         "count",
         "119.0"
        ],
        [
         "mean",
         "0.01680672268907563"
        ],
        [
         "std",
         "0.18333969940564238"
        ],
        [
         "min",
         "0.0"
        ],
        [
         "25%",
         "0.0"
        ],
        [
         "50%",
         "0.0"
        ],
        [
         "75%",
         "0.0"
        ],
        [
         "max",
         "2.0"
        ]
       ],
       "shape": {
        "columns": 1,
        "rows": 8
       }
      },
      "text/plain": [
       "count    119.000000\n",
       "mean       0.016807\n",
       "std        0.183340\n",
       "min        0.000000\n",
       "25%        0.000000\n",
       "50%        0.000000\n",
       "75%        0.000000\n",
       "max        2.000000\n",
       "Name: annual_inc, dtype: float64"
      ]
     },
     "execution_count": 10,
     "metadata": {},
     "output_type": "execute_result"
    }
   ],
   "source": [
    "# Confirm NA's in dti also have an annual income of 0. The training set largely has annual incomes of 0 with a max value of 2.\n",
    "X_train.loc[X_train['dti'].isna(), 'annual_inc'].describe()"
   ]
  },
  {
   "cell_type": "code",
   "execution_count": 11,
   "id": "90bb35f1",
   "metadata": {},
   "outputs": [
    {
     "data": {
      "application/vnd.microsoft.datawrangler.viewer.v0+json": {
       "columns": [
        {
         "name": "index",
         "rawType": "object",
         "type": "string"
        },
        {
         "name": "dti",
         "rawType": "float64",
         "type": "float"
        }
       ],
       "ref": "f00b970a-0c54-4c97-bea4-51893da0d6f5",
       "rows": [
        [
         "count",
         "59881.0"
        ],
        [
         "mean",
         "21.58333812060587"
        ],
        [
         "std",
         "19.22177585608309"
        ],
        [
         "min",
         "0.0"
        ],
        [
         "25%",
         "13.4"
        ],
        [
         "50%",
         "19.73"
        ],
        [
         "75%",
         "26.96"
        ],
        [
         "max",
         "999.0"
        ]
       ],
       "shape": {
        "columns": 1,
        "rows": 8
       }
      },
      "text/plain": [
       "count    59881.000000\n",
       "mean        21.583338\n",
       "std         19.221776\n",
       "min          0.000000\n",
       "25%         13.400000\n",
       "50%         19.730000\n",
       "75%         26.960000\n",
       "max        999.000000\n",
       "Name: dti, dtype: float64"
      ]
     },
     "execution_count": 11,
     "metadata": {},
     "output_type": "execute_result"
    }
   ],
   "source": [
    "# Run stats of DTI. Data is skewed right. Impute the median for NAs\n",
    "X_train['dti'].describe()"
   ]
  },
  {
   "cell_type": "code",
   "execution_count": 12,
   "id": "521a9aef",
   "metadata": {},
   "outputs": [],
   "source": [
    "# Add conditional column that identifies applicants with NA DTI\n",
    "X_train['dti_missing'] = X_train['dti'].isna().astype(int)\n",
    "X_dev['dti_missing'] = X_dev['dti'].isna().astype(int)\n",
    "X_test['dti_missing'] = X_test['dti'].isna().astype(int)"
   ]
  },
  {
   "cell_type": "code",
   "execution_count": 13,
   "id": "6df3ceb7",
   "metadata": {},
   "outputs": [
    {
     "name": "stdout",
     "output_type": "stream",
     "text": [
      "NA count in training set: 0\n",
      "NA count in dev set: 0\n",
      "NA count in test set: 0\n"
     ]
    }
   ],
   "source": [
    "# Impute median for NA's in DTI.\n",
    "dti_median = X_train['dti'].median()\n",
    "X_train['dti'] = X_train['dti'].fillna(dti_median) # Apply to training set\n",
    "X_dev['dti'] = X_dev['dti'].fillna(dti_median) # Apply to dev set\n",
    "X_test['dti'] = X_test['dti'].fillna(dti_median) # Apply to test set\n",
    "\n",
    "# Confirm NA's handled\n",
    "print(f\"NA count in training set: {X_train['dti'].isna().sum()}\")\n",
    "print(f\"NA count in dev set: {X_dev['dti'].isna().sum()}\")\n",
    "print(f\"NA count in test set: {X_test['dti'].isna().sum()}\")"
   ]
  },
  {
   "cell_type": "markdown",
   "id": "3ca6d935",
   "metadata": {},
   "source": [
    "### emp_length"
   ]
  },
  {
   "cell_type": "markdown",
   "id": "13d9a822",
   "metadata": {},
   "source": [
    "Employment length in years. Possible values are between 0 and 10 where 0 means less than one year and 10 means ten or more years. \n",
    "\n",
    "NA's likely represent cases where the applicant did not provide their data related to the feature. To handle NA's, the feature will be converted to an integer, impute the median, and add a dummy variable that identifies a missing emp_length."
   ]
  },
  {
   "cell_type": "code",
   "execution_count": 14,
   "id": "83da4cd0",
   "metadata": {},
   "outputs": [],
   "source": [
    "# Convert emp_length to numeric\n",
    "\n",
    "# Define order of ordinal values\n",
    "emp_length_order = ['< 1 year','1 year','2 years','3 years','4 years','5 years','6 years','7 years','8 years','9 years','10+ years']\n",
    "\n",
    "# Convert to an *ordered* categorical, then grab the integer codes\n",
    "X_train['emp_length_num'] = pd.Categorical(X_train['emp_length'],\n",
    "                                           categories = emp_length_order,\n",
    "                                           ordered = True).codes\n",
    "\n",
    "X_dev['emp_length_num'] = pd.Categorical(X_dev['emp_length'],\n",
    "                                           categories = emp_length_order,\n",
    "                                           ordered = True).codes\n",
    "\n",
    "X_test['emp_length_num'] = pd.Categorical(X_test['emp_length'],\n",
    "                                          categories = emp_length_order,\n",
    "                                          ordered = True).codes\n",
    "\n",
    "# -1 = NaN/missing -> replace with actual NaN\n",
    "X_train.loc[X_train['emp_length_num'] == -1, 'emp_length_num'] = np.nan\n",
    "X_dev.loc[X_dev['emp_length_num'] == -1, 'emp_length_num'] = np.nan\n",
    "X_test.loc[X_test['emp_length_num'] == -1, 'emp_length_num'] = np.nan"
   ]
  },
  {
   "cell_type": "code",
   "execution_count": 15,
   "id": "fa8ef51b",
   "metadata": {},
   "outputs": [],
   "source": [
    "# Drop emp_length\n",
    "X_train = X_train.drop(columns='emp_length')\n",
    "X_dev = X_dev.drop(columns='emp_length')\n",
    "X_test = X_test.drop(columns='emp_length')"
   ]
  },
  {
   "cell_type": "code",
   "execution_count": 16,
   "id": "686a0b35",
   "metadata": {},
   "outputs": [
    {
     "data": {
      "application/vnd.microsoft.datawrangler.viewer.v0+json": {
       "columns": [
        {
         "name": "index",
         "rawType": "object",
         "type": "string"
        },
        {
         "name": "emp_length_num",
         "rawType": "float64",
         "type": "float"
        }
       ],
       "ref": "56d445a3-2b27-4b7d-b79a-8859191c5712",
       "rows": [
        [
         "count",
         "54788.0"
        ],
        [
         "mean",
         "5.315306271446302"
        ],
        [
         "std",
         "3.8399498455937913"
        ],
        [
         "min",
         "0.0"
        ],
        [
         "25%",
         "2.0"
        ],
        [
         "50%",
         "5.0"
        ],
        [
         "75%",
         "10.0"
        ],
        [
         "max",
         "10.0"
        ]
       ],
       "shape": {
        "columns": 1,
        "rows": 8
       }
      },
      "text/plain": [
       "count    54788.000000\n",
       "mean         5.315306\n",
       "std          3.839950\n",
       "min          0.000000\n",
       "25%          2.000000\n",
       "50%          5.000000\n",
       "75%         10.000000\n",
       "max         10.000000\n",
       "Name: emp_length_num, dtype: float64"
      ]
     },
     "execution_count": 16,
     "metadata": {},
     "output_type": "execute_result"
    }
   ],
   "source": [
    "# Run stats of emp_lenth_num. Impute the median for NAs\n",
    "X_train['emp_length_num'].describe()"
   ]
  },
  {
   "cell_type": "code",
   "execution_count": 17,
   "id": "8135ac70",
   "metadata": {},
   "outputs": [],
   "source": [
    "# Add conditional column that identifies applicants with NA emp_length_num\n",
    "X_train['emp_length_missing'] = X_train['emp_length_num'].isna().astype(int)\n",
    "X_dev['emp_length_missing'] = X_dev['emp_length_num'].isna().astype(int)\n",
    "X_test['emp_length_missing'] = X_test['emp_length_num'].isna().astype(int)"
   ]
  },
  {
   "cell_type": "code",
   "execution_count": 18,
   "id": "2c98efe3",
   "metadata": {},
   "outputs": [
    {
     "name": "stdout",
     "output_type": "stream",
     "text": [
      "NA count in training set: 0\n",
      "NA count in training set: 0\n",
      "NA count in test set: 0\n"
     ]
    }
   ],
   "source": [
    "# Impute median for NA's in emp_length_num.\n",
    "emp_length_median = X_train['emp_length_num'].median()\n",
    "X_train['emp_length_num'] = X_train['emp_length_num'].fillna(emp_length_median) # Apply to training set\n",
    "X_dev['emp_length_num'] = X_dev['emp_length_num'].fillna(emp_length_median) # Apply to training set\n",
    "X_test['emp_length_num'] = X_test['emp_length_num'].fillna(emp_length_median) # Apply to test set\n",
    "\n",
    "# Confirm NA's handled\n",
    "print(f\"NA count in training set: {X_train['emp_length_num'].isna().sum()}\")\n",
    "print(f\"NA count in training set: {X_dev['emp_length_num'].isna().sum()}\")\n",
    "print(f\"NA count in test set: {X_test['emp_length_num'].isna().sum()}\")"
   ]
  },
  {
   "cell_type": "markdown",
   "id": "279124d6",
   "metadata": {},
   "source": [
    "### mo_sin_old_il_acct"
   ]
  },
  {
   "cell_type": "markdown",
   "id": "3a30c163",
   "metadata": {},
   "source": [
    "Months since oldest bank installment account opened. NA's likely represent cases where the applicant has no installment account.\n",
    "\n",
    "In these cases, 0 will be imputed and a dummy variable will be added to flag instances where there are no installment accounts."
   ]
  },
  {
   "cell_type": "code",
   "execution_count": 19,
   "id": "e8ce3388",
   "metadata": {},
   "outputs": [],
   "source": [
    "# Add conditional column that identifies applicants with NA mo_sin_old_il_acct.\n",
    "X_train['mo_sin_old_il_acct_missing'] = X_train['mo_sin_old_il_acct'].isna().astype(int)\n",
    "X_dev['mo_sin_old_il_acct_missing'] = X_dev['mo_sin_old_il_acct'].isna().astype(int)\n",
    "X_test['mo_sin_old_il_acct_missing'] = X_test['mo_sin_old_il_acct'].isna().astype(int)"
   ]
  },
  {
   "cell_type": "code",
   "execution_count": 20,
   "id": "8129392c",
   "metadata": {},
   "outputs": [
    {
     "name": "stdout",
     "output_type": "stream",
     "text": [
      "NA count in training set: 0\n",
      "NA count in training set: 0\n",
      "NA count in test set: 0\n"
     ]
    }
   ],
   "source": [
    "# Imput 0 for NA's in all_util\n",
    "X_train['mo_sin_old_il_acct'] = X_train['mo_sin_old_il_acct'].fillna(0) # Apply to training set\n",
    "X_dev['mo_sin_old_il_acct'] = X_dev['mo_sin_old_il_acct'].fillna(0) # Apply to dev set\n",
    "X_test['mo_sin_old_il_acct'] = X_test['mo_sin_old_il_acct'].fillna(0) # Apply to test set\n",
    "\n",
    "# Confirm NA's handled\n",
    "print(f\"NA count in training set: {X_train['mo_sin_old_il_acct'].isna().sum()}\")\n",
    "print(f\"NA count in training set: {X_dev['mo_sin_old_il_acct'].isna().sum()}\")\n",
    "print(f\"NA count in test set: {X_test['mo_sin_old_il_acct'].isna().sum()}\")"
   ]
  },
  {
   "cell_type": "markdown",
   "id": "4c5ad331",
   "metadata": {},
   "source": [
    "### mths_since_last_record"
   ]
  },
  {
   "cell_type": "markdown",
   "id": "61bdea61",
   "metadata": {},
   "source": [
    "The number of months since the last public record. There are a lot of NA's (90% in the training set).\n",
    "\n",
    "This column will be dropped since there's isn't enough data to work with."
   ]
  },
  {
   "cell_type": "code",
   "execution_count": 21,
   "id": "1c2d7e9c",
   "metadata": {},
   "outputs": [
    {
     "data": {
      "text/plain": [
       "0.9096"
      ]
     },
     "execution_count": 21,
     "metadata": {},
     "output_type": "execute_result"
    }
   ],
   "source": [
    "# Percent of values missing\n",
    "X_train['mths_since_last_record'].isna().sum() / len(X_train)"
   ]
  },
  {
   "cell_type": "code",
   "execution_count": 22,
   "id": "7221d0c0",
   "metadata": {},
   "outputs": [],
   "source": [
    "# Drop emp_length\n",
    "X_train = X_train.drop(columns = 'mths_since_last_record')\n",
    "X_dev = X_dev.drop(columns = 'mths_since_last_record')\n",
    "X_test = X_test.drop(columns = 'mths_since_last_record')"
   ]
  },
  {
   "cell_type": "markdown",
   "id": "d3093da3",
   "metadata": {},
   "source": [
    "### mths_since_recent_inq"
   ]
  },
  {
   "cell_type": "markdown",
   "id": "13d119f5",
   "metadata": {},
   "source": [
    "Months since most recent inquiry. NA's likely mean that there are no inquiries on file for the applicant.\n",
    "\n",
    "NA's will be imputed with 0 and add a dummy variable that flags the NA's."
   ]
  },
  {
   "cell_type": "code",
   "execution_count": 23,
   "id": "6ad0e97d",
   "metadata": {},
   "outputs": [],
   "source": [
    "# Add conditional column that identifies applicants with NA DTI\n",
    "X_train['mths_since_recent_inq_missing'] = X_train['mths_since_recent_inq'].isna().astype(int)\n",
    "X_dev['mths_since_recent_inq_missing'] = X_dev['mths_since_recent_inq'].isna().astype(int)\n",
    "X_test['mths_since_recent_inq_missing'] = X_test['mths_since_recent_inq'].isna().astype(int)"
   ]
  },
  {
   "cell_type": "code",
   "execution_count": 24,
   "id": "e146c0ca",
   "metadata": {},
   "outputs": [
    {
     "name": "stdout",
     "output_type": "stream",
     "text": [
      "NA count in training set: 0\n",
      "NA count in training set: 0\n",
      "NA count in test set: 0\n"
     ]
    }
   ],
   "source": [
    "# Imput 0 for NA's in all_util\n",
    "X_train['mths_since_recent_inq'] = X_train['mths_since_recent_inq'].fillna(0) # Apply to training set\n",
    "X_dev['mths_since_recent_inq'] = X_dev['mths_since_recent_inq'].fillna(0) # Apply to dev set\n",
    "X_test['mths_since_recent_inq'] = X_test['mths_since_recent_inq'].fillna(0) # Apply to test set\n",
    "\n",
    "# Confirm NA's handled\n",
    "print(f\"NA count in training set: {X_train['mths_since_recent_inq'].isna().sum()}\")\n",
    "print(f\"NA count in training set: {X_dev['mths_since_recent_inq'].isna().sum()}\")\n",
    "print(f\"NA count in test set: {X_test['mths_since_recent_inq'].isna().sum()}\")"
   ]
  },
  {
   "cell_type": "markdown",
   "id": "c14ac246",
   "metadata": {},
   "source": [
    "## Outlier Detection and Handling"
   ]
  },
  {
   "cell_type": "code",
   "execution_count": 25,
   "id": "b416ae30",
   "metadata": {},
   "outputs": [
    {
     "data": {
      "application/vnd.microsoft.datawrangler.viewer.v0+json": {
       "columns": [
        {
         "name": "index",
         "rawType": "object",
         "type": "string"
        },
        {
         "name": "all_util",
         "rawType": "float64",
         "type": "float"
        },
        {
         "name": "annual_inc",
         "rawType": "float64",
         "type": "float"
        },
        {
         "name": "chargeoff_within_12_mths",
         "rawType": "float64",
         "type": "float"
        },
        {
         "name": "collections_12_mths_ex_med",
         "rawType": "float64",
         "type": "float"
        },
        {
         "name": "delinq_2yrs",
         "rawType": "float64",
         "type": "float"
        },
        {
         "name": "dti",
         "rawType": "float64",
         "type": "float"
        },
        {
         "name": "fico_range_high",
         "rawType": "float64",
         "type": "float"
        },
        {
         "name": "fico_range_low",
         "rawType": "float64",
         "type": "float"
        },
        {
         "name": "inq_last_12m",
         "rawType": "float64",
         "type": "float"
        },
        {
         "name": "loan_amnt",
         "rawType": "float64",
         "type": "float"
        },
        {
         "name": "mo_sin_old_il_acct",
         "rawType": "float64",
         "type": "float"
        },
        {
         "name": "mo_sin_old_rev_tl_op",
         "rawType": "float64",
         "type": "float"
        },
        {
         "name": "mort_acc",
         "rawType": "float64",
         "type": "float"
        },
        {
         "name": "mths_since_recent_inq",
         "rawType": "float64",
         "type": "float"
        },
        {
         "name": "pub_rec_bankruptcies",
         "rawType": "float64",
         "type": "float"
        },
        {
         "name": "total_bal_ex_mort",
         "rawType": "float64",
         "type": "float"
        },
        {
         "name": "application_type_Joint App",
         "rawType": "float64",
         "type": "float"
        },
        {
         "name": "home_ownership_OWN",
         "rawType": "float64",
         "type": "float"
        },
        {
         "name": "home_ownership_RENT",
         "rawType": "float64",
         "type": "float"
        },
        {
         "name": "term_ 60 months",
         "rawType": "float64",
         "type": "float"
        },
        {
         "name": "verification_status_Verified",
         "rawType": "float64",
         "type": "float"
        },
        {
         "name": "dti_missing",
         "rawType": "float64",
         "type": "float"
        },
        {
         "name": "emp_length_num",
         "rawType": "float64",
         "type": "float"
        },
        {
         "name": "emp_length_missing",
         "rawType": "float64",
         "type": "float"
        },
        {
         "name": "mo_sin_old_il_acct_missing",
         "rawType": "float64",
         "type": "float"
        },
        {
         "name": "mths_since_recent_inq_missing",
         "rawType": "float64",
         "type": "float"
        }
       ],
       "ref": "ee9d737e-60c4-4e4c-8446-ac64bdf02488",
       "rows": [
        [
         "count",
         "60000.0",
         "60000.0",
         "60000.0",
         "60000.0",
         "60000.0",
         "60000.0",
         "60000.0",
         "60000.0",
         "60000.0",
         "60000.0",
         "60000.0",
         "60000.0",
         "60000.0",
         "60000.0",
         "60000.0",
         "60000.0",
         "60000.0",
         "60000.0",
         "60000.0",
         "60000.0",
         "60000.0",
         "60000.0",
         "60000.0",
         "60000.0",
         "60000.0",
         "60000.0"
        ],
        [
         "mean",
         "55.003416666666666",
         "88412.99994516667",
         "0.005916666666666666",
         "0.0155",
         "0.2163",
         "21.57966233333334",
         "710.6572",
         "706.657",
         "2.0540666666666665",
         "16818.732916666668",
         "123.8908",
         "172.25055",
         "1.3576",
         "6.306233333333333",
         "0.09181666666666667",
         "60535.784733333334",
         "0.12745",
         "0.11815",
         "0.40155",
         "0.34515",
         "0.46871666666666667",
         "0.0019833333333333335",
         "5.287916666666667",
         "0.08686666666666666",
         "0.022483333333333334",
         "0.10073333333333333"
        ],
        [
         "std",
         "20.164650965130356",
         "93519.84265361575",
         "0.0861110715346412",
         "0.1402143989323697",
         "0.7124998977319756",
         "19.20288151650585",
         "35.66354702357932",
         "35.66276837568233",
         "2.3108438131717266",
         "10429.386118592405",
         "60.74488709113845",
         "99.68394633130977",
         "1.765637051577116",
         "5.926252876264903",
         "0.2955015314254252",
         "57665.494879008824",
         "0.33347916122691623",
         "0.32278834247641003",
         "0.49021587356329555",
         "0.47542112341303233",
         "0.4990245519817419",
         "0.044490816049694966",
         "3.6704511797937482",
         "0.2816419196870614",
         "0.14825046158062982",
         "0.3009778043026121"
        ],
        [
         "min",
         "0.0",
         "0.0",
         "0.0",
         "0.0",
         "0.0",
         "0.0",
         "664.0",
         "660.0",
         "0.0",
         "1000.0",
         "0.0",
         "7.0",
         "0.0",
         "0.0",
         "0.0",
         "0.0",
         "0.0",
         "0.0",
         "0.0",
         "0.0",
         "0.0",
         "0.0",
         "0.0",
         "0.0",
         "0.0",
         "0.0"
        ],
        [
         "25%",
         "41.0",
         "50000.0",
         "0.0",
         "0.0",
         "0.0",
         "13.41",
         "684.0",
         "680.0",
         "0.0",
         "8500.0",
         "82.0",
         "97.0",
         "0.0",
         "1.0",
         "0.0",
         "24802.75",
         "0.0",
         "0.0",
         "0.0",
         "0.0",
         "0.0",
         "0.0",
         "2.0",
         "0.0",
         "0.0",
         "0.0"
        ],
        [
         "50%",
         "55.0",
         "72991.5",
         "0.0",
         "0.0",
         "0.0",
         "19.73",
         "704.0",
         "700.0",
         "1.0",
         "15000.0",
         "129.0",
         "156.0",
         "1.0",
         "5.0",
         "0.0",
         "44816.0",
         "0.0",
         "0.0",
         "0.0",
         "0.0",
         "0.0",
         "0.0",
         "5.0",
         "0.0",
         "0.0",
         "0.0"
        ],
        [
         "75%",
         "69.0",
         "105000.0",
         "0.0",
         "0.0",
         "0.0",
         "26.94",
         "729.0",
         "725.0",
         "3.0",
         "24000.0",
         "161.0",
         "223.0",
         "2.0",
         "10.0",
         "0.0",
         "76841.5",
         "0.0",
         "0.0",
         "1.0",
         "1.0",
         "1.0",
         "0.0",
         "10.0",
         "0.0",
         "0.0",
         "0.0"
        ],
        [
         "max",
         "185.0",
         "8645185.0",
         "6.0",
         "10.0",
         "19.0",
         "999.0",
         "850.0",
         "845.0",
         "40.0",
         "40000.0",
         "722.0",
         "914.0",
         "32.0",
         "25.0",
         "7.0",
         "1162942.0",
         "1.0",
         "1.0",
         "1.0",
         "1.0",
         "1.0",
         "1.0",
         "10.0",
         "1.0",
         "1.0",
         "1.0"
        ]
       ],
       "shape": {
        "columns": 26,
        "rows": 8
       }
      },
      "text/html": [
       "<div>\n",
       "<style scoped>\n",
       "    .dataframe tbody tr th:only-of-type {\n",
       "        vertical-align: middle;\n",
       "    }\n",
       "\n",
       "    .dataframe tbody tr th {\n",
       "        vertical-align: top;\n",
       "    }\n",
       "\n",
       "    .dataframe thead th {\n",
       "        text-align: right;\n",
       "    }\n",
       "</style>\n",
       "<table border=\"1\" class=\"dataframe\">\n",
       "  <thead>\n",
       "    <tr style=\"text-align: right;\">\n",
       "      <th></th>\n",
       "      <th>all_util</th>\n",
       "      <th>annual_inc</th>\n",
       "      <th>chargeoff_within_12_mths</th>\n",
       "      <th>collections_12_mths_ex_med</th>\n",
       "      <th>delinq_2yrs</th>\n",
       "      <th>dti</th>\n",
       "      <th>fico_range_high</th>\n",
       "      <th>fico_range_low</th>\n",
       "      <th>inq_last_12m</th>\n",
       "      <th>loan_amnt</th>\n",
       "      <th>...</th>\n",
       "      <th>application_type_Joint App</th>\n",
       "      <th>home_ownership_OWN</th>\n",
       "      <th>home_ownership_RENT</th>\n",
       "      <th>term_ 60 months</th>\n",
       "      <th>verification_status_Verified</th>\n",
       "      <th>dti_missing</th>\n",
       "      <th>emp_length_num</th>\n",
       "      <th>emp_length_missing</th>\n",
       "      <th>mo_sin_old_il_acct_missing</th>\n",
       "      <th>mths_since_recent_inq_missing</th>\n",
       "    </tr>\n",
       "  </thead>\n",
       "  <tbody>\n",
       "    <tr>\n",
       "      <th>count</th>\n",
       "      <td>60000.000000</td>\n",
       "      <td>6.000000e+04</td>\n",
       "      <td>60000.000000</td>\n",
       "      <td>60000.000000</td>\n",
       "      <td>60000.0000</td>\n",
       "      <td>60000.000000</td>\n",
       "      <td>60000.000000</td>\n",
       "      <td>60000.000000</td>\n",
       "      <td>60000.000000</td>\n",
       "      <td>60000.000000</td>\n",
       "      <td>...</td>\n",
       "      <td>60000.000000</td>\n",
       "      <td>60000.000000</td>\n",
       "      <td>60000.000000</td>\n",
       "      <td>60000.000000</td>\n",
       "      <td>60000.000000</td>\n",
       "      <td>60000.000000</td>\n",
       "      <td>60000.000000</td>\n",
       "      <td>60000.000000</td>\n",
       "      <td>60000.000000</td>\n",
       "      <td>60000.000000</td>\n",
       "    </tr>\n",
       "    <tr>\n",
       "      <th>mean</th>\n",
       "      <td>55.003417</td>\n",
       "      <td>8.841300e+04</td>\n",
       "      <td>0.005917</td>\n",
       "      <td>0.015500</td>\n",
       "      <td>0.2163</td>\n",
       "      <td>21.579662</td>\n",
       "      <td>710.657200</td>\n",
       "      <td>706.657000</td>\n",
       "      <td>2.054067</td>\n",
       "      <td>16818.732917</td>\n",
       "      <td>...</td>\n",
       "      <td>0.127450</td>\n",
       "      <td>0.118150</td>\n",
       "      <td>0.401550</td>\n",
       "      <td>0.345150</td>\n",
       "      <td>0.468717</td>\n",
       "      <td>0.001983</td>\n",
       "      <td>5.287917</td>\n",
       "      <td>0.086867</td>\n",
       "      <td>0.022483</td>\n",
       "      <td>0.100733</td>\n",
       "    </tr>\n",
       "    <tr>\n",
       "      <th>std</th>\n",
       "      <td>20.164651</td>\n",
       "      <td>9.351984e+04</td>\n",
       "      <td>0.086111</td>\n",
       "      <td>0.140214</td>\n",
       "      <td>0.7125</td>\n",
       "      <td>19.202882</td>\n",
       "      <td>35.663547</td>\n",
       "      <td>35.662768</td>\n",
       "      <td>2.310844</td>\n",
       "      <td>10429.386119</td>\n",
       "      <td>...</td>\n",
       "      <td>0.333479</td>\n",
       "      <td>0.322788</td>\n",
       "      <td>0.490216</td>\n",
       "      <td>0.475421</td>\n",
       "      <td>0.499025</td>\n",
       "      <td>0.044491</td>\n",
       "      <td>3.670451</td>\n",
       "      <td>0.281642</td>\n",
       "      <td>0.148250</td>\n",
       "      <td>0.300978</td>\n",
       "    </tr>\n",
       "    <tr>\n",
       "      <th>min</th>\n",
       "      <td>0.000000</td>\n",
       "      <td>0.000000e+00</td>\n",
       "      <td>0.000000</td>\n",
       "      <td>0.000000</td>\n",
       "      <td>0.0000</td>\n",
       "      <td>0.000000</td>\n",
       "      <td>664.000000</td>\n",
       "      <td>660.000000</td>\n",
       "      <td>0.000000</td>\n",
       "      <td>1000.000000</td>\n",
       "      <td>...</td>\n",
       "      <td>0.000000</td>\n",
       "      <td>0.000000</td>\n",
       "      <td>0.000000</td>\n",
       "      <td>0.000000</td>\n",
       "      <td>0.000000</td>\n",
       "      <td>0.000000</td>\n",
       "      <td>0.000000</td>\n",
       "      <td>0.000000</td>\n",
       "      <td>0.000000</td>\n",
       "      <td>0.000000</td>\n",
       "    </tr>\n",
       "    <tr>\n",
       "      <th>25%</th>\n",
       "      <td>41.000000</td>\n",
       "      <td>5.000000e+04</td>\n",
       "      <td>0.000000</td>\n",
       "      <td>0.000000</td>\n",
       "      <td>0.0000</td>\n",
       "      <td>13.410000</td>\n",
       "      <td>684.000000</td>\n",
       "      <td>680.000000</td>\n",
       "      <td>0.000000</td>\n",
       "      <td>8500.000000</td>\n",
       "      <td>...</td>\n",
       "      <td>0.000000</td>\n",
       "      <td>0.000000</td>\n",
       "      <td>0.000000</td>\n",
       "      <td>0.000000</td>\n",
       "      <td>0.000000</td>\n",
       "      <td>0.000000</td>\n",
       "      <td>2.000000</td>\n",
       "      <td>0.000000</td>\n",
       "      <td>0.000000</td>\n",
       "      <td>0.000000</td>\n",
       "    </tr>\n",
       "    <tr>\n",
       "      <th>50%</th>\n",
       "      <td>55.000000</td>\n",
       "      <td>7.299150e+04</td>\n",
       "      <td>0.000000</td>\n",
       "      <td>0.000000</td>\n",
       "      <td>0.0000</td>\n",
       "      <td>19.730000</td>\n",
       "      <td>704.000000</td>\n",
       "      <td>700.000000</td>\n",
       "      <td>1.000000</td>\n",
       "      <td>15000.000000</td>\n",
       "      <td>...</td>\n",
       "      <td>0.000000</td>\n",
       "      <td>0.000000</td>\n",
       "      <td>0.000000</td>\n",
       "      <td>0.000000</td>\n",
       "      <td>0.000000</td>\n",
       "      <td>0.000000</td>\n",
       "      <td>5.000000</td>\n",
       "      <td>0.000000</td>\n",
       "      <td>0.000000</td>\n",
       "      <td>0.000000</td>\n",
       "    </tr>\n",
       "    <tr>\n",
       "      <th>75%</th>\n",
       "      <td>69.000000</td>\n",
       "      <td>1.050000e+05</td>\n",
       "      <td>0.000000</td>\n",
       "      <td>0.000000</td>\n",
       "      <td>0.0000</td>\n",
       "      <td>26.940000</td>\n",
       "      <td>729.000000</td>\n",
       "      <td>725.000000</td>\n",
       "      <td>3.000000</td>\n",
       "      <td>24000.000000</td>\n",
       "      <td>...</td>\n",
       "      <td>0.000000</td>\n",
       "      <td>0.000000</td>\n",
       "      <td>1.000000</td>\n",
       "      <td>1.000000</td>\n",
       "      <td>1.000000</td>\n",
       "      <td>0.000000</td>\n",
       "      <td>10.000000</td>\n",
       "      <td>0.000000</td>\n",
       "      <td>0.000000</td>\n",
       "      <td>0.000000</td>\n",
       "    </tr>\n",
       "    <tr>\n",
       "      <th>max</th>\n",
       "      <td>185.000000</td>\n",
       "      <td>8.645185e+06</td>\n",
       "      <td>6.000000</td>\n",
       "      <td>10.000000</td>\n",
       "      <td>19.0000</td>\n",
       "      <td>999.000000</td>\n",
       "      <td>850.000000</td>\n",
       "      <td>845.000000</td>\n",
       "      <td>40.000000</td>\n",
       "      <td>40000.000000</td>\n",
       "      <td>...</td>\n",
       "      <td>1.000000</td>\n",
       "      <td>1.000000</td>\n",
       "      <td>1.000000</td>\n",
       "      <td>1.000000</td>\n",
       "      <td>1.000000</td>\n",
       "      <td>1.000000</td>\n",
       "      <td>10.000000</td>\n",
       "      <td>1.000000</td>\n",
       "      <td>1.000000</td>\n",
       "      <td>1.000000</td>\n",
       "    </tr>\n",
       "  </tbody>\n",
       "</table>\n",
       "<p>8 rows × 26 columns</p>\n",
       "</div>"
      ],
      "text/plain": [
       "           all_util    annual_inc  chargeoff_within_12_mths  \\\n",
       "count  60000.000000  6.000000e+04              60000.000000   \n",
       "mean      55.003417  8.841300e+04                  0.005917   \n",
       "std       20.164651  9.351984e+04                  0.086111   \n",
       "min        0.000000  0.000000e+00                  0.000000   \n",
       "25%       41.000000  5.000000e+04                  0.000000   \n",
       "50%       55.000000  7.299150e+04                  0.000000   \n",
       "75%       69.000000  1.050000e+05                  0.000000   \n",
       "max      185.000000  8.645185e+06                  6.000000   \n",
       "\n",
       "       collections_12_mths_ex_med  delinq_2yrs           dti  fico_range_high  \\\n",
       "count                60000.000000   60000.0000  60000.000000     60000.000000   \n",
       "mean                     0.015500       0.2163     21.579662       710.657200   \n",
       "std                      0.140214       0.7125     19.202882        35.663547   \n",
       "min                      0.000000       0.0000      0.000000       664.000000   \n",
       "25%                      0.000000       0.0000     13.410000       684.000000   \n",
       "50%                      0.000000       0.0000     19.730000       704.000000   \n",
       "75%                      0.000000       0.0000     26.940000       729.000000   \n",
       "max                     10.000000      19.0000    999.000000       850.000000   \n",
       "\n",
       "       fico_range_low  inq_last_12m     loan_amnt  ...  \\\n",
       "count    60000.000000  60000.000000  60000.000000  ...   \n",
       "mean       706.657000      2.054067  16818.732917  ...   \n",
       "std         35.662768      2.310844  10429.386119  ...   \n",
       "min        660.000000      0.000000   1000.000000  ...   \n",
       "25%        680.000000      0.000000   8500.000000  ...   \n",
       "50%        700.000000      1.000000  15000.000000  ...   \n",
       "75%        725.000000      3.000000  24000.000000  ...   \n",
       "max        845.000000     40.000000  40000.000000  ...   \n",
       "\n",
       "       application_type_Joint App  home_ownership_OWN  home_ownership_RENT  \\\n",
       "count                60000.000000        60000.000000         60000.000000   \n",
       "mean                     0.127450            0.118150             0.401550   \n",
       "std                      0.333479            0.322788             0.490216   \n",
       "min                      0.000000            0.000000             0.000000   \n",
       "25%                      0.000000            0.000000             0.000000   \n",
       "50%                      0.000000            0.000000             0.000000   \n",
       "75%                      0.000000            0.000000             1.000000   \n",
       "max                      1.000000            1.000000             1.000000   \n",
       "\n",
       "       term_ 60 months  verification_status_Verified   dti_missing  \\\n",
       "count     60000.000000                  60000.000000  60000.000000   \n",
       "mean          0.345150                      0.468717      0.001983   \n",
       "std           0.475421                      0.499025      0.044491   \n",
       "min           0.000000                      0.000000      0.000000   \n",
       "25%           0.000000                      0.000000      0.000000   \n",
       "50%           0.000000                      0.000000      0.000000   \n",
       "75%           1.000000                      1.000000      0.000000   \n",
       "max           1.000000                      1.000000      1.000000   \n",
       "\n",
       "       emp_length_num  emp_length_missing  mo_sin_old_il_acct_missing  \\\n",
       "count    60000.000000        60000.000000                60000.000000   \n",
       "mean         5.287917            0.086867                    0.022483   \n",
       "std          3.670451            0.281642                    0.148250   \n",
       "min          0.000000            0.000000                    0.000000   \n",
       "25%          2.000000            0.000000                    0.000000   \n",
       "50%          5.000000            0.000000                    0.000000   \n",
       "75%         10.000000            0.000000                    0.000000   \n",
       "max         10.000000            1.000000                    1.000000   \n",
       "\n",
       "       mths_since_recent_inq_missing  \n",
       "count                   60000.000000  \n",
       "mean                        0.100733  \n",
       "std                         0.300978  \n",
       "min                         0.000000  \n",
       "25%                         0.000000  \n",
       "50%                         0.000000  \n",
       "75%                         0.000000  \n",
       "max                         1.000000  \n",
       "\n",
       "[8 rows x 26 columns]"
      ]
     },
     "execution_count": 25,
     "metadata": {},
     "output_type": "execute_result"
    }
   ],
   "source": [
    "X_train.describe()"
   ]
  },
  {
   "cell_type": "markdown",
   "id": "a73be476",
   "metadata": {},
   "source": [
    "### all_util"
   ]
  },
  {
   "cell_type": "markdown",
   "id": "1ee0c837",
   "metadata": {},
   "source": [
    "Instances greater than 100% are rare and create noise. Instances > 100% will be removed."
   ]
  },
  {
   "cell_type": "code",
   "execution_count": 26,
   "id": "4c5961dd",
   "metadata": {},
   "outputs": [
    {
     "data": {
      "image/png": "[encoded data removed]",
      "text/plain": [
       "<Figure size 640x480 with 1 Axes>"
      ]
     },
     "metadata": {},
     "output_type": "display_data"
    }
   ],
   "source": [
    "# Visualize distribution of all_util\n",
    "sns.histplot(X_train['all_util'], bins = 10)\n",
    "\n",
    "# Add labels and title\n",
    "plt.title('Distribution of all_util in X_train')\n",
    "plt.xlabel('all_util')\n",
    "plt.ylabel('Frequency')\n",
    "\n",
    "plt.show()"
   ]
  },
  {
   "cell_type": "code",
   "execution_count": 27,
   "id": "49e4d42a",
   "metadata": {},
   "outputs": [],
   "source": [
    "# Remove instances all_util > 100\n",
    "X_train = X_train[X_train['all_util'] <= 100]"
   ]
  },
  {
   "cell_type": "code",
   "execution_count": 28,
   "id": "7d3488ea",
   "metadata": {},
   "outputs": [
    {
     "data": {
      "image/png": "[encoded data removed]",
      "text/plain": [
       "<Figure size 640x480 with 1 Axes>"
      ]
     },
     "metadata": {},
     "output_type": "display_data"
    }
   ],
   "source": [
    "# Confirm that instances were removed.\n",
    "\n",
    "# Visualize distribution of all_util\n",
    "sns.histplot(X_train['all_util'], bins = 10)\n",
    "\n",
    "# Add labels and title\n",
    "plt.title('Distribution of all_util in X_train')\n",
    "plt.xlabel('all_util')\n",
    "plt.ylabel('Frequency')\n",
    "\n",
    "plt.show()"
   ]
  },
  {
   "cell_type": "markdown",
   "id": "20a5c4a5",
   "metadata": {},
   "source": [
    "### chargeoff_within_12_mths"
   ]
  },
  {
   "cell_type": "markdown",
   "id": "883a0ce0",
   "metadata": {},
   "source": [
    "Most applicants have no chargeoffs in the past 12 months. Instead, it would makse sense to convert this feature to a binary that measures if the applicant had a chargeoff in the last 12 months. This should be enough signal for the model."
   ]
  },
  {
   "cell_type": "code",
   "execution_count": 29,
   "id": "6ee6db76",
   "metadata": {},
   "outputs": [
    {
     "data": {
      "application/vnd.microsoft.datawrangler.viewer.v0+json": {
       "columns": [
        {
         "name": "chargeoff_within_12_mths",
         "rawType": "int64",
         "type": "integer"
        },
        {
         "name": "0",
         "rawType": "int64",
         "type": "integer"
        }
       ],
       "ref": "bcb4575a-7417-4633-839f-8827d8505b7d",
       "rows": [
        [
         "0",
         "59084"
        ],
        [
         "1",
         "299"
        ],
        [
         "2",
         "16"
        ],
        [
         "3",
         "3"
        ],
        [
         "4",
         "1"
        ],
        [
         "6",
         "1"
        ]
       ],
       "shape": {
        "columns": 1,
        "rows": 6
       }
      },
      "text/plain": [
       "chargeoff_within_12_mths\n",
       "0    59084\n",
       "1      299\n",
       "2       16\n",
       "3        3\n",
       "4        1\n",
       "6        1\n",
       "dtype: int64"
      ]
     },
     "execution_count": 29,
     "metadata": {},
     "output_type": "execute_result"
    }
   ],
   "source": [
    "# Group by chargeoff_within_12_mths\n",
    "X_train.groupby('chargeoff_within_12_mths').size()"
   ]
  },
  {
   "cell_type": "code",
   "execution_count": 30,
   "id": "71b7b9e8",
   "metadata": {},
   "outputs": [],
   "source": [
    "# Most applicants do not have chargeoffs on record.\n",
    "# Makes sense to convert ot a binary that measures if the applicant had a chargeoff if the last 12 months.\n",
    "X_train['chargeoff_within_12_mths'] = np.where(X_train['chargeoff_within_12_mths'] > 0, 1, 0)\n",
    "X_test['chargeoff_within_12_mths'] = np.where(X_test['chargeoff_within_12_mths'] > 0, 1, 0)"
   ]
  },
  {
   "cell_type": "markdown",
   "id": "c434a3e2",
   "metadata": {},
   "source": [
    "### collections_12_mths_ex_med"
   ]
  },
  {
   "cell_type": "markdown",
   "id": "893b4be6",
   "metadata": {},
   "source": [
    "Similar case where most applicants have no chargeoffs (excluding medical) in the past 12 months. Instead, it would makse sense to convert this feature to a binary that measures if the applicant had a chargeoff in the last 12 months. This should be enough signal for the model."
   ]
  },
  {
   "cell_type": "code",
   "execution_count": 31,
   "id": "d32b7a48",
   "metadata": {},
   "outputs": [
    {
     "data": {
      "application/vnd.microsoft.datawrangler.viewer.v0+json": {
       "columns": [
        {
         "name": "collections_12_mths_ex_med",
         "rawType": "int64",
         "type": "integer"
        },
        {
         "name": "0",
         "rawType": "int64",
         "type": "integer"
        }
       ],
       "ref": "22afee2a-aa04-4f67-b184-adff1ad9aa3c",
       "rows": [
        [
         "0",
         "58564"
        ],
        [
         "1",
         "783"
        ],
        [
         "2",
         "47"
        ],
        [
         "3",
         "8"
        ],
        [
         "6",
         "1"
        ],
        [
         "10",
         "1"
        ]
       ],
       "shape": {
        "columns": 1,
        "rows": 6
       }
      },
      "text/plain": [
       "collections_12_mths_ex_med\n",
       "0     58564\n",
       "1       783\n",
       "2        47\n",
       "3         8\n",
       "6         1\n",
       "10        1\n",
       "dtype: int64"
      ]
     },
     "execution_count": 31,
     "metadata": {},
     "output_type": "execute_result"
    }
   ],
   "source": [
    "# Group by collections_12_mths_ex_med\n",
    "X_train.groupby('collections_12_mths_ex_med').size()"
   ]
  },
  {
   "cell_type": "code",
   "execution_count": 32,
   "id": "2baf9a13",
   "metadata": {},
   "outputs": [],
   "source": [
    "# Most applicants do not have collections on record.\n",
    "# Makes sense to convert ot a binary that measures if the applicant had a collections if the last 12 months.\n",
    "X_train['collections_12_mths_ex_med'] = np.where(X_train['collections_12_mths_ex_med'] > 0, 1, 0)\n",
    "X_test['collections_12_mths_ex_med'] = np.where(X_test['collections_12_mths_ex_med'] > 0, 1, 0)"
   ]
  },
  {
   "cell_type": "markdown",
   "id": "c19396b3",
   "metadata": {},
   "source": [
    "### delinq_2yrs"
   ]
  },
  {
   "cell_type": "markdown",
   "id": "40556de4",
   "metadata": {},
   "source": [
    "Most applicants do not have delinquencies on their record. Like previous the previous two features, this will be converted to binary. This should be enough signal for the model."
   ]
  },
  {
   "cell_type": "code",
   "execution_count": 33,
   "id": "a4cabec8",
   "metadata": {},
   "outputs": [
    {
     "data": {
      "application/vnd.microsoft.datawrangler.viewer.v0+json": {
       "columns": [
        {
         "name": "delinq_2yrs",
         "rawType": "int64",
         "type": "integer"
        },
        {
         "name": "0",
         "rawType": "int64",
         "type": "integer"
        }
       ],
       "ref": "75f72189-9bee-409b-8e4c-4341d9183979",
       "rows": [
        [
         "0",
         "51164"
        ],
        [
         "1",
         "5893"
        ],
        [
         "2",
         "1361"
        ],
        [
         "3",
         "508"
        ],
        [
         "4",
         "216"
        ],
        [
         "5",
         "107"
        ],
        [
         "6",
         "59"
        ],
        [
         "7",
         "37"
        ],
        [
         "8",
         "23"
        ],
        [
         "9",
         "12"
        ],
        [
         "10",
         "10"
        ],
        [
         "11",
         "6"
        ],
        [
         "12",
         "3"
        ],
        [
         "13",
         "2"
        ],
        [
         "14",
         "1"
        ],
        [
         "15",
         "1"
        ],
        [
         "17",
         "1"
        ]
       ],
       "shape": {
        "columns": 1,
        "rows": 17
       }
      },
      "text/plain": [
       "delinq_2yrs\n",
       "0     51164\n",
       "1      5893\n",
       "2      1361\n",
       "3       508\n",
       "4       216\n",
       "5       107\n",
       "6        59\n",
       "7        37\n",
       "8        23\n",
       "9        12\n",
       "10       10\n",
       "11        6\n",
       "12        3\n",
       "13        2\n",
       "14        1\n",
       "15        1\n",
       "17        1\n",
       "dtype: int64"
      ]
     },
     "execution_count": 33,
     "metadata": {},
     "output_type": "execute_result"
    }
   ],
   "source": [
    "# Group by delinq_2yrs\n",
    "X_train.groupby('delinq_2yrs').size()"
   ]
  },
  {
   "cell_type": "code",
   "execution_count": 34,
   "id": "7998a40e",
   "metadata": {},
   "outputs": [],
   "source": [
    "# Most applicants do not have delinquencies on record.\n",
    "# Makes sense to convert ot a binary that measures if the applicant had a delinquencies if the last 2 years.\n",
    "X_train['delinq_2yrs'] = np.where(X_train['delinq_2yrs'] > 0, 1, 0)\n",
    "X_test['delinq_2yrs'] = np.where(X_test['delinq_2yrs'] > 0, 1, 0)"
   ]
  },
  {
   "cell_type": "markdown",
   "id": "59083b4c",
   "metadata": {},
   "source": [
    "### annual_inc"
   ]
  },
  {
   "cell_type": "markdown",
   "id": "6adff1c2",
   "metadata": {},
   "source": [
    "Annual income is skewed right some extreme values. Even when removing instances > 99th percentile, it's still skewed right. A transformation will be applied to give annual income a normal distribution.\n",
    "\n",
    "Any instances > 99th percentile will removed and square root transformation will be applied to the data that remains."
   ]
  },
  {
   "cell_type": "code",
   "execution_count": 35,
   "id": "2f417f62",
   "metadata": {},
   "outputs": [
    {
     "data": {
      "image/png": "[encoded data removed]",
      "text/plain": [
       "<Figure size 640x480 with 1 Axes>"
      ]
     },
     "metadata": {},
     "output_type": "display_data"
    }
   ],
   "source": [
    "# Visualize distribution of annual_inc\n",
    "sns.histplot(X_train['annual_inc'])\n",
    "\n",
    "# Add labels and title\n",
    "plt.title('Distribution of annual_inc in X_train')\n",
    "plt.xlabel('annual_inc')\n",
    "plt.ylabel('Frequency')\n",
    "\n",
    "plt.show()"
   ]
  },
  {
   "cell_type": "code",
   "execution_count": 36,
   "id": "84ec3447",
   "metadata": {},
   "outputs": [
    {
     "data": {
      "image/png": "[encoded data removed]",
      "text/plain": [
       "<Figure size 640x480 with 1 Axes>"
      ]
     },
     "metadata": {},
     "output_type": "display_data"
    }
   ],
   "source": [
    "# Long tail. Let's zoom in to just the 99th percentile\n",
    "\n",
    "# Visualize distribution of annual_inc\n",
    "sns.histplot(X_train.loc[X_train['annual_inc'] <= X_train['annual_inc'].quantile(0.99) ,'annual_inc'], binwidth = 50000)\n",
    "\n",
    "# Add labels and title\n",
    "plt.title('Distribution of annual_inc in X_train')\n",
    "plt.xlabel('annual_inc')\n",
    "plt.ylabel('Frequency')\n",
    "\n",
    "plt.show()"
   ]
  },
  {
   "cell_type": "code",
   "execution_count": 37,
   "id": "0bf72f18",
   "metadata": {},
   "outputs": [],
   "source": [
    "# Looks better so let's remove the points > 99th percentile\n",
    "X_train = X_train[X_train['annual_inc'] <= X_train['annual_inc'].quantile(0.99)]"
   ]
  },
  {
   "cell_type": "code",
   "execution_count": 38,
   "id": "c959270f",
   "metadata": {},
   "outputs": [
    {
     "data": {
      "image/png": "[encoded data removed]",
      "text/plain": [
       "<Figure size 640x480 with 1 Axes>"
      ]
     },
     "metadata": {},
     "output_type": "display_data"
    }
   ],
   "source": [
    "# Since the data is still skewed right, let's explore a square root tranformation.\n",
    "\n",
    "# Visualize distribution of annual_inc\n",
    "sns.histplot(np.sqrt(X_train['annual_inc']), binwidth=50)\n",
    "\n",
    "# Add labels and title\n",
    "plt.title('Distribution of annual_inc in X_train')\n",
    "plt.xlabel('annual_inc')\n",
    "plt.ylabel('Frequency')\n",
    "\n",
    "plt.show()"
   ]
  },
  {
   "cell_type": "code",
   "execution_count": 39,
   "id": "87708ec8",
   "metadata": {},
   "outputs": [
    {
     "data": {
      "image/png": "[encoded data removed]",
      "text/plain": [
       "<Figure size 640x480 with 1 Axes>"
      ]
     },
     "metadata": {},
     "output_type": "display_data"
    }
   ],
   "source": [
    "# Let's explore a log transformation\n",
    "\n",
    "# Visualize distribution of annual_inc\n",
    "sns.histplot(np.log(X_train['annual_inc']+1), binwidth = 1)\n",
    "\n",
    "# Add labels and title\n",
    "plt.title('Distribution of annual_inc in X_train')\n",
    "plt.xlabel('annual_inc')\n",
    "plt.ylabel('Frequency')\n",
    "\n",
    "plt.show()"
   ]
  },
  {
   "cell_type": "code",
   "execution_count": 40,
   "id": "b0cee932",
   "metadata": {},
   "outputs": [],
   "source": [
    "# Apply a square root transformation to annual income\n",
    "X_train['annual_inc_sqrt'] = np.sqrt(X_train['annual_inc'])\n",
    "X_dev['annual_inc_sqrt'] = np.sqrt(X_dev['annual_inc'])\n",
    "X_test['annual_inc_sqrt'] = np.sqrt(X_test['annual_inc'])\n",
    "\n",
    "# Drop original columns\n",
    "X_train = X_train.drop(columns = ['annual_inc'])\n",
    "X_dev = X_dev.drop(columns = ['annual_inc'])\n",
    "X_test = X_test.drop(columns = ['annual_inc'])"
   ]
  },
  {
   "cell_type": "markdown",
   "id": "f111189a",
   "metadata": {},
   "source": [
    "### dti"
   ]
  },
  {
   "cell_type": "markdown",
   "id": "ba8faffd",
   "metadata": {},
   "source": [
    "Another case of a feature with a long tail. Even when filtering to the 99th percentile, there's still a tail at roughly 40%. As a result, data > 40% will be removed."
   ]
  },
  {
   "cell_type": "code",
   "execution_count": 41,
   "id": "1551e5ff",
   "metadata": {},
   "outputs": [
    {
     "data": {
      "image/png": "[encoded data removed]",
      "text/plain": [
       "<Figure size 640x480 with 1 Axes>"
      ]
     },
     "metadata": {},
     "output_type": "display_data"
    }
   ],
   "source": [
    "# Visualize distribution of all_util\n",
    "sns.histplot(X_train['dti'], binwidth = 1)\n",
    "\n",
    "# Add labels and title\n",
    "plt.title('Distribution of dti in X_train')\n",
    "plt.xlabel('dti')\n",
    "plt.ylabel('Frequency')\n",
    "\n",
    "plt.show()"
   ]
  },
  {
   "cell_type": "code",
   "execution_count": 42,
   "id": "4f576d53",
   "metadata": {},
   "outputs": [
    {
     "data": {
      "image/png": "[encoded data removed]",
      "text/plain": [
       "<Figure size 640x480 with 1 Axes>"
      ]
     },
     "metadata": {},
     "output_type": "display_data"
    }
   ],
   "source": [
    "# Long tail. Let's zoom in to just the 99th percentile. Data drops off at ~40.\n",
    "\n",
    "# Visualize distribution of dti\n",
    "sns.histplot(X_train.loc[X_train['dti'] <= X_train['dti'].quantile(0.99) ,'dti'])\n",
    "\n",
    "# Add labels and title\n",
    "plt.title('Distribution of dti in X_train')\n",
    "plt.xlabel('dti')\n",
    "plt.ylabel('Frequency')\n",
    "\n",
    "plt.show()"
   ]
  },
  {
   "cell_type": "code",
   "execution_count": 43,
   "id": "a7c73adf",
   "metadata": {},
   "outputs": [],
   "source": [
    "# Instances > 40 will be removed\n",
    "X_train = X_train[X_train['dti'] <= 40]"
   ]
  },
  {
   "cell_type": "markdown",
   "id": "4b29c209",
   "metadata": {},
   "source": [
    "### Fico"
   ]
  },
  {
   "cell_type": "markdown",
   "id": "64733a7f",
   "metadata": {},
   "source": [
    "The descriptive statistics suggest that all fico_range_low and fico_range_high scores have a range of 4. After verifying, this is true. Dropping fico_range_low since fico_range_high will suffice."
   ]
  },
  {
   "cell_type": "code",
   "execution_count": 44,
   "id": "10abbd88",
   "metadata": {},
   "outputs": [
    {
     "data": {
      "image/png": "[encoded data removed]",
      "text/plain": [
       "<Figure size 640x480 with 1 Axes>"
      ]
     },
     "metadata": {},
     "output_type": "display_data"
    }
   ],
   "source": [
    "# Data preview suggest there's a consistent difference between the high and low score. Let's verify.\n",
    "sns.histplot(X_train['fico_range_high'] - X_train['fico_range_low'])\n",
    "\n",
    "# Add labels and title\n",
    "plt.title('Distribution of Fico range in X_train')\n",
    "plt.xlabel('Fico Range')\n",
    "plt.ylabel('Frequency')\n",
    "\n",
    "plt.show()"
   ]
  },
  {
   "cell_type": "code",
   "execution_count": 45,
   "id": "eebb8826",
   "metadata": {},
   "outputs": [
    {
     "data": {
      "image/png": "[encoded data removed]",
      "text/plain": [
       "<Figure size 640x480 with 1 Axes>"
      ]
     },
     "metadata": {},
     "output_type": "display_data"
    }
   ],
   "source": [
    "# Data preview suggest there's a consistent difference between the high and low score. Let's verify.\n",
    "sns.histplot(X_train['fico_range_high'], binwidth = 25)\n",
    "\n",
    "# Add labels and title\n",
    "plt.title('Distribution of fico_range_high in X_train')\n",
    "plt.xlabel('fico_range_high Range')\n",
    "plt.ylabel('Frequency')\n",
    "\n",
    "plt.show()"
   ]
  },
  {
   "cell_type": "code",
   "execution_count": 46,
   "id": "1d432080",
   "metadata": {},
   "outputs": [],
   "source": [
    "# It's all 4. Dropping the low column\n",
    "X_train = X_train.drop(columns = ['fico_range_low'])\n",
    "X_dev = X_dev.drop(columns = ['fico_range_low'])\n",
    "X_test = X_test.drop(columns = ['fico_range_low'])"
   ]
  },
  {
   "cell_type": "markdown",
   "id": "04e1a48b",
   "metadata": {},
   "source": [
    "### inq_last_12m"
   ]
  },
  {
   "cell_type": "markdown",
   "id": "f698f73a",
   "metadata": {},
   "source": [
    "Another long tail. Removing data > the 99th percentile."
   ]
  },
  {
   "cell_type": "code",
   "execution_count": 47,
   "id": "ca4adfce",
   "metadata": {},
   "outputs": [
    {
     "data": {
      "image/png": "[encoded data removed]",
      "text/plain": [
       "<Figure size 640x480 with 1 Axes>"
      ]
     },
     "metadata": {},
     "output_type": "display_data"
    }
   ],
   "source": [
    "# Visualize distribution of inq_last_12m\n",
    "sns.histplot(X_train['inq_last_12m'], binwidth = 1)\n",
    "\n",
    "# Add labels and title\n",
    "plt.title('Distribution of inq_last_12m in X_train')\n",
    "plt.xlabel('inq_last_12m')\n",
    "plt.ylabel('Frequency')\n",
    "\n",
    "plt.show()"
   ]
  },
  {
   "cell_type": "code",
   "execution_count": 48,
   "id": "35c597bc",
   "metadata": {},
   "outputs": [
    {
     "data": {
      "text/plain": [
       "10.0"
      ]
     },
     "execution_count": 48,
     "metadata": {},
     "output_type": "execute_result"
    }
   ],
   "source": [
    "# 99% captured at 10.\n",
    "X_train['inq_last_12m'].quantile(0.99)"
   ]
  },
  {
   "cell_type": "code",
   "execution_count": 49,
   "id": "62b7c4cc",
   "metadata": {},
   "outputs": [],
   "source": [
    "# Remove instances where inquiries are greater than 10\n",
    "X_train = X_train[X_train['inq_last_12m'] <= 10]"
   ]
  },
  {
   "cell_type": "markdown",
   "id": "c522a2e5",
   "metadata": {},
   "source": [
    "### mo_sin_old_il_acct"
   ]
  },
  {
   "cell_type": "markdown",
   "id": "330c609c",
   "metadata": {},
   "source": [
    "Another long tail. Removing instances that are greater than the 99th percentile."
   ]
  },
  {
   "cell_type": "code",
   "execution_count": 50,
   "id": "0d7911a5",
   "metadata": {},
   "outputs": [
    {
     "data": {
      "image/png": "[encoded data removed]",
      "text/plain": [
       "<Figure size 640x480 with 1 Axes>"
      ]
     },
     "metadata": {},
     "output_type": "display_data"
    }
   ],
   "source": [
    "# Visualize distribution of mo_sin_old_il_acct\n",
    "sns.histplot(X_train['mo_sin_old_il_acct'], binwidth = 10)\n",
    "\n",
    "# Add labels and title\n",
    "plt.title('Distribution of mo_sin_old_il_acct in X_train')\n",
    "plt.xlabel('mo_sin_old_il_acct')\n",
    "plt.ylabel('Frequency')\n",
    "\n",
    "plt.show()"
   ]
  },
  {
   "cell_type": "code",
   "execution_count": 51,
   "id": "c5e22dd2",
   "metadata": {},
   "outputs": [
    {
     "data": {
      "text/plain": [
       "287.0"
      ]
     },
     "execution_count": 51,
     "metadata": {},
     "output_type": "execute_result"
    }
   ],
   "source": [
    "# 99% captured at 287.\n",
    "X_train['mo_sin_old_il_acct'].quantile(0.99)"
   ]
  },
  {
   "cell_type": "code",
   "execution_count": 52,
   "id": "8794934f",
   "metadata": {},
   "outputs": [],
   "source": [
    "# Remove instances where inquiries are greater than 287\n",
    "X_train = X_train[X_train['mo_sin_old_il_acct'] <= 287]"
   ]
  },
  {
   "cell_type": "code",
   "execution_count": 53,
   "id": "cb036732",
   "metadata": {},
   "outputs": [
    {
     "data": {
      "image/png": "[encoded data removed]",
      "text/plain": [
       "<Figure size 640x480 with 1 Axes>"
      ]
     },
     "metadata": {},
     "output_type": "display_data"
    }
   ],
   "source": [
    "# Visualize distribution of mo_sin_old_il_acct\n",
    "sns.histplot(X_train['mo_sin_old_il_acct'], binwidth = 10)\n",
    "\n",
    "# Add labels and title\n",
    "plt.title('Distribution of mo_sin_old_il_acct in X_train')\n",
    "plt.xlabel('mo_sin_old_il_acct')\n",
    "plt.ylabel('Frequency')\n",
    "\n",
    "plt.show()"
   ]
  },
  {
   "cell_type": "markdown",
   "id": "82af2c1c",
   "metadata": {},
   "source": [
    "### mo_sin_old_rev_tl_op"
   ]
  },
  {
   "cell_type": "markdown",
   "id": "4909778f",
   "metadata": {},
   "source": [
    "Another long tail. Removing instances > than the 99th percentile."
   ]
  },
  {
   "cell_type": "code",
   "execution_count": 54,
   "id": "a2f0f3c5",
   "metadata": {},
   "outputs": [
    {
     "data": {
      "image/png": "[encoded data removed]",
      "text/plain": [
       "<Figure size 640x480 with 1 Axes>"
      ]
     },
     "metadata": {},
     "output_type": "display_data"
    }
   ],
   "source": [
    "# Visualize distribution of mo_sin_old_rev_tl_op\n",
    "sns.histplot(X_train['mo_sin_old_rev_tl_op'], binwidth = 10)\n",
    "\n",
    "# Add labels and title\n",
    "plt.title('Distribution of mo_sin_old_rev_tl_op in X_train')\n",
    "plt.xlabel('mo_sin_old_rev_tl_op')\n",
    "plt.ylabel('Frequency')\n",
    "\n",
    "plt.show()"
   ]
  },
  {
   "cell_type": "code",
   "execution_count": 55,
   "id": "db7fe67c",
   "metadata": {},
   "outputs": [
    {
     "data": {
      "text/plain": [
       "486.8799999999974"
      ]
     },
     "execution_count": 55,
     "metadata": {},
     "output_type": "execute_result"
    }
   ],
   "source": [
    "# 99% captured at 287.\n",
    "X_train['mo_sin_old_rev_tl_op'].quantile(0.99)"
   ]
  },
  {
   "cell_type": "code",
   "execution_count": 56,
   "id": "3148f865",
   "metadata": {},
   "outputs": [],
   "source": [
    "# Remove instances where inquiries are greater than 287\n",
    "X_train = X_train[X_train['mo_sin_old_rev_tl_op'] <= 485]"
   ]
  },
  {
   "cell_type": "code",
   "execution_count": 57,
   "id": "bac63d0a",
   "metadata": {},
   "outputs": [
    {
     "data": {
      "image/png": "[encoded data removed]",
      "text/plain": [
       "<Figure size 640x480 with 1 Axes>"
      ]
     },
     "metadata": {},
     "output_type": "display_data"
    }
   ],
   "source": [
    "# Visualize distribution of mo_sin_old_rev_tl_op\n",
    "sns.histplot(X_train['mo_sin_old_rev_tl_op'], binwidth = 10)\n",
    "\n",
    "# Add labels and title\n",
    "plt.title('Distribution of mo_sin_old_rev_tl_op in X_train')\n",
    "plt.xlabel('mo_sin_old_rev_tl_op')\n",
    "plt.ylabel('Frequency')\n",
    "\n",
    "plt.show()"
   ]
  },
  {
   "cell_type": "markdown",
   "id": "648157e1",
   "metadata": {},
   "source": [
    "### mort_acc"
   ]
  },
  {
   "cell_type": "markdown",
   "id": "840a3bf5",
   "metadata": {},
   "source": [
    "Another long tail. Removing instances greater than the 99th percentile. Also, many applicants don't have a mortgage account. Adding a binary column to identify those who do and do not assist with training."
   ]
  },
  {
   "cell_type": "code",
   "execution_count": 58,
   "id": "cc5b991d",
   "metadata": {},
   "outputs": [
    {
     "data": {
      "image/png": "[encoded data removed]",
      "text/plain": [
       "<Figure size 640x480 with 1 Axes>"
      ]
     },
     "metadata": {},
     "output_type": "display_data"
    }
   ],
   "source": [
    "# Visualize distribution of mo_sin_old_rev_tl_op\n",
    "sns.histplot(X_train['mort_acc'], binwidth = 1)\n",
    "\n",
    "# Add labels and title\n",
    "plt.title('Distribution of mort_acc in X_train')\n",
    "plt.xlabel('mort_acc')\n",
    "plt.ylabel('Frequency')\n",
    "\n",
    "plt.show()"
   ]
  },
  {
   "cell_type": "code",
   "execution_count": 59,
   "id": "c4b54bbf",
   "metadata": {},
   "outputs": [
    {
     "data": {
      "text/plain": [
       "7.0"
      ]
     },
     "execution_count": 59,
     "metadata": {},
     "output_type": "execute_result"
    }
   ],
   "source": [
    "# 99% captured at 7.\n",
    "X_train['mort_acc'].quantile(0.99)"
   ]
  },
  {
   "cell_type": "code",
   "execution_count": 60,
   "id": "055d2d44",
   "metadata": {},
   "outputs": [],
   "source": [
    "# Remove instances > 7\n",
    "X_train = X_train[X_train['mort_acc'] <= 7]\n",
    "\n",
    "# Add a binary column that evaluates if the applicant had mortgage account.\n",
    "X_train['has_mort_acc'] = np.where(X_train['mort_acc'] > 0, 1, 0)\n",
    "X_dev['has_mort_acc'] = np.where(X_dev['mort_acc'] > 0, 1, 0)\n",
    "X_test['has_mort_acc'] = np.where(X_test['mort_acc'] > 0, 1, 0)"
   ]
  },
  {
   "cell_type": "markdown",
   "id": "ee306936",
   "metadata": {},
   "source": [
    "### mths_since_recent_inq"
   ]
  },
  {
   "cell_type": "code",
   "execution_count": 61,
   "id": "789d3df1",
   "metadata": {},
   "outputs": [
    {
     "data": {
      "image/png": "[encoded data removed]",
      "text/plain": [
       "<Figure size 640x480 with 1 Axes>"
      ]
     },
     "metadata": {},
     "output_type": "display_data"
    }
   ],
   "source": [
    "# Visualize distribution of mo_sin_old_rev_tl_op\n",
    "sns.histplot(X_train['mths_since_recent_inq'], binwidth = 5)\n",
    "\n",
    "# Add labels and title\n",
    "plt.title('Distribution of mths_since_recent_inq in X_train')\n",
    "plt.xlabel('mths_since_recent_inq')\n",
    "plt.ylabel('Frequency')\n",
    "\n",
    "plt.show()"
   ]
  },
  {
   "cell_type": "markdown",
   "id": "09c4843a",
   "metadata": {},
   "source": [
    "### pub_rec_bankruptcies"
   ]
  },
  {
   "cell_type": "markdown",
   "id": "99b00022",
   "metadata": {},
   "source": [
    "Many applicants do not have bankruptcies on their record. Converting to a binary that measures whether or not the applicant had one. "
   ]
  },
  {
   "cell_type": "code",
   "execution_count": 62,
   "id": "c064beee",
   "metadata": {},
   "outputs": [
    {
     "data": {
      "application/vnd.microsoft.datawrangler.viewer.v0+json": {
       "columns": [
        {
         "name": "pub_rec_bankruptcies",
         "rawType": "int64",
         "type": "integer"
        },
        {
         "name": "0",
         "rawType": "int64",
         "type": "integer"
        }
       ],
       "ref": "3abbf158-3f1c-4169-9101-4a66bc4a0f36",
       "rows": [
        [
         "0",
         "49780"
        ],
        [
         "1",
         "4908"
        ],
        [
         "2",
         "58"
        ],
        [
         "3",
         "5"
        ],
        [
         "4",
         "3"
        ],
        [
         "7",
         "1"
        ]
       ],
       "shape": {
        "columns": 1,
        "rows": 6
       }
      },
      "text/plain": [
       "pub_rec_bankruptcies\n",
       "0    49780\n",
       "1     4908\n",
       "2       58\n",
       "3        5\n",
       "4        3\n",
       "7        1\n",
       "dtype: int64"
      ]
     },
     "execution_count": 62,
     "metadata": {},
     "output_type": "execute_result"
    }
   ],
   "source": [
    "# Group by chargeoff_within_12_mths\n",
    "X_train.groupby('pub_rec_bankruptcies').size()"
   ]
  },
  {
   "cell_type": "code",
   "execution_count": 63,
   "id": "02fdd561",
   "metadata": {},
   "outputs": [],
   "source": [
    "# Most applicants do not have bankruptcies on record.\n",
    "# Makes sense to convert ot a binary that measures if the applicant had a bankruptcy.\n",
    "X_train['pub_rec_bankruptcies'] = np.where(X_train['pub_rec_bankruptcies'] > 0, 1, 0)\n",
    "X_dev['pub_rec_bankruptcies'] = np.where(X_dev['pub_rec_bankruptcies'] > 0, 1, 0)\n",
    "X_test['pub_rec_bankruptcies'] = np.where(X_test['pub_rec_bankruptcies'] > 0, 1, 0)"
   ]
  },
  {
   "cell_type": "markdown",
   "id": "a8f6e477",
   "metadata": {},
   "source": [
    "### total_bal_ex_mort"
   ]
  },
  {
   "cell_type": "markdown",
   "id": "29048390",
   "metadata": {},
   "source": [
    "Long tail. Removing instances greater than the 99th percentile. Also added a square root transformation to to give it a normal distribution."
   ]
  },
  {
   "cell_type": "code",
   "execution_count": 64,
   "id": "d392579c",
   "metadata": {},
   "outputs": [
    {
     "data": {
      "image/png": "[encoded data removed]",
      "text/plain": [
       "<Figure size 640x480 with 1 Axes>"
      ]
     },
     "metadata": {},
     "output_type": "display_data"
    }
   ],
   "source": [
    "# Visualize distribution of total_bal_ex_mort\n",
    "sns.histplot(X_train['total_bal_ex_mort'])\n",
    "\n",
    "# Add labels and title\n",
    "plt.title('Distribution of total_bal_ex_mort in X_train')\n",
    "plt.xlabel('total_bal_ex_mort')\n",
    "plt.ylabel('Frequency')\n",
    "\n",
    "plt.show()"
   ]
  },
  {
   "cell_type": "code",
   "execution_count": 65,
   "id": "71de7f13",
   "metadata": {},
   "outputs": [
    {
     "data": {
      "image/png": "[encoded data removed]",
      "text/plain": [
       "<Figure size 640x480 with 1 Axes>"
      ]
     },
     "metadata": {},
     "output_type": "display_data"
    }
   ],
   "source": [
    "# Long tail. Let's zoom in to just the 99th percentile\n",
    "\n",
    "# Visualize distribution of annual_inc\n",
    "sns.histplot(X_train.loc[X_train['total_bal_ex_mort'] <= X_train['total_bal_ex_mort'].quantile(0.99) ,'total_bal_ex_mort'], binwidth = 10000)\n",
    "\n",
    "# Add labels and title\n",
    "plt.title('Distribution of total_bal_ex_mort in X_train')\n",
    "plt.xlabel('total_bal_ex_mort')\n",
    "plt.ylabel('Frequency')\n",
    "\n",
    "plt.show()"
   ]
  },
  {
   "cell_type": "code",
   "execution_count": 66,
   "id": "9c8f1c96",
   "metadata": {},
   "outputs": [],
   "source": [
    "# Looks better so let's remove the points > 99th percentile\n",
    "X_train = X_train[X_train['total_bal_ex_mort'] <= X_train['total_bal_ex_mort'].quantile(0.99)]"
   ]
  },
  {
   "cell_type": "code",
   "execution_count": 67,
   "id": "f72701ec",
   "metadata": {},
   "outputs": [
    {
     "data": {
      "image/png": "[encoded data removed]",
      "text/plain": [
       "<Figure size 640x480 with 1 Axes>"
      ]
     },
     "metadata": {},
     "output_type": "display_data"
    }
   ],
   "source": [
    "# Since the data is still skewed right, let's explore a square root tranformation.\n",
    "\n",
    "# Visualize distribution of total_bal_ex_mort\n",
    "sns.histplot(np.sqrt(X_train['total_bal_ex_mort']))\n",
    "\n",
    "# Add labels and title\n",
    "plt.title('Distribution of total_bal_ex_mort in X_train')\n",
    "plt.xlabel('total_bal_ex_mort')\n",
    "plt.ylabel('Frequency')\n",
    "\n",
    "plt.show()"
   ]
  },
  {
   "cell_type": "code",
   "execution_count": 68,
   "id": "905549f5",
   "metadata": {},
   "outputs": [
    {
     "data": {
      "image/png": "[encoded data removed]",
      "text/plain": [
       "<Figure size 640x480 with 1 Axes>"
      ]
     },
     "metadata": {},
     "output_type": "display_data"
    }
   ],
   "source": [
    "# Since the data is still skewed right, let's explore a log tranformation.\n",
    "\n",
    "# Visualize distribution of total_bal_ex_mort\n",
    "sns.histplot(np.log(X_train['total_bal_ex_mort']+1))\n",
    "\n",
    "# Add labels and title\n",
    "plt.title('Distribution of total_bal_ex_mort in X_train')\n",
    "plt.xlabel('total_bal_ex_mort')\n",
    "plt.ylabel('Frequency')\n",
    "\n",
    "plt.show()"
   ]
  },
  {
   "cell_type": "code",
   "execution_count": 69,
   "id": "afc80db6",
   "metadata": {},
   "outputs": [],
   "source": [
    "# Apply a square root transformation to annual income\n",
    "X_train['total_bal_ex_mort_sqrt'] = np.sqrt(X_train['total_bal_ex_mort'])\n",
    "X_dev['total_bal_ex_mort_sqrt'] = np.sqrt(X_dev['total_bal_ex_mort'])\n",
    "X_test['total_bal_ex_mort_sqrt'] = np.sqrt(X_test['total_bal_ex_mort'])\n",
    "\n",
    "# Drop original columns\n",
    "X_train = X_train.drop(columns = ['total_bal_ex_mort'])\n",
    "X_dev = X_dev.drop(columns = ['total_bal_ex_mort'])\n",
    "X_test = X_test.drop(columns = ['total_bal_ex_mort'])"
   ]
  },
  {
   "cell_type": "markdown",
   "id": "d02f6472",
   "metadata": {},
   "source": [
    "### Apply preprocessing to y_train"
   ]
  },
  {
   "cell_type": "code",
   "execution_count": 70,
   "id": "6425ebb4",
   "metadata": {},
   "outputs": [],
   "source": [
    "y_train = y_train.loc[X_train.index]"
   ]
  },
  {
   "cell_type": "code",
   "execution_count": 71,
   "id": "64a5b582",
   "metadata": {},
   "outputs": [
    {
     "name": "stdout",
     "output_type": "stream",
     "text": [
      "(54207, 26)\n",
      "(54207,)\n"
     ]
    }
   ],
   "source": [
    "print(X_train.shape)\n",
    "print(y_train.shape)"
   ]
  },
  {
   "cell_type": "markdown",
   "id": "daf7bc6a",
   "metadata": {},
   "source": [
    "****"
   ]
  },
  {
   "cell_type": "markdown",
   "id": "3a58fff5",
   "metadata": {},
   "source": [
    "## Data Exploration"
   ]
  },
  {
   "cell_type": "code",
   "execution_count": 73,
   "id": "7262c0ce",
   "metadata": {},
   "outputs": [],
   "source": [
    "# Create df using training set for EDA\n",
    "df_eda = X_train\n",
    "df_eda['int_rate'] = y_train"
   ]
  }
 ],
 "metadata": {
  "kernelspec": {
   "display_name": "base",
   "language": "python",
   "name": "python3"
  },
  "language_info": {
   "codemirror_mode": {
    "name": "ipython",
    "version": 3
   },
   "file_extension": ".py",
   "mimetype": "text/x-python",
   "name": "python",
   "nbconvert_exporter": "python",
   "pygments_lexer": "ipython3",
   "version": "3.12.3"
  }
 },
 "nbformat": 4,
 "nbformat_minor": 5
}
