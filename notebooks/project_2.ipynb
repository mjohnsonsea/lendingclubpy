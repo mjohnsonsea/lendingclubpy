{
 "cells": [
  {
   "cell_type": "markdown",
   "id": "89e1eb5b",
   "metadata": {},
   "source": [
    "# Project 2 - LendingClub\n",
    "## OPAN 6604 - Predictive Analytics\n",
    "Mike Johnson - SAXA\n",
    "\n",
    "****"
   ]
  },
  {
   "cell_type": "markdown",
   "id": "523b6153",
   "metadata": {},
   "source": [
    "## Set Up"
   ]
  },
  {
   "cell_type": "code",
   "execution_count": 1,
   "id": "75bf43b8",
   "metadata": {},
   "outputs": [],
   "source": [
    "# Import libraries\n",
    "\n",
    "# Data Processing\n",
    "import pandas as pd\n",
    "import numpy as np\n",
    "from sklearn.preprocessing import StandardScaler, OneHotEncoder\n",
    "\n",
    "# Modeling\n",
    "from sklearn.model_selection import train_test_split, GridSearchCV\n",
    "from sklearn.neural_network import MLPClassifier\n",
    "from sklearn import svm\n",
    "\n",
    "# Data visualization\n",
    "import seaborn as sns\n",
    "import matplotlib.pyplot as plt\n",
    "\n",
    "# Evaluation\n",
    "from sklearn.metrics import mean_squared_error, mean_absolute_error"
   ]
  },
  {
   "cell_type": "code",
   "execution_count": 2,
   "id": "6d13a49a",
   "metadata": {},
   "outputs": [
    {
     "data": {
      "application/vnd.microsoft.datawrangler.viewer.v0+json": {
       "columns": [
        {
         "name": "index",
         "rawType": "int64",
         "type": "integer"
        },
        {
         "name": "all_util",
         "rawType": "float64",
         "type": "float"
        },
        {
         "name": "annual_inc",
         "rawType": "float64",
         "type": "float"
        },
        {
         "name": "application_type",
         "rawType": "object",
         "type": "string"
        },
        {
         "name": "chargeoff_within_12_mths",
         "rawType": "int64",
         "type": "integer"
        },
        {
         "name": "collections_12_mths_ex_med",
         "rawType": "int64",
         "type": "integer"
        },
        {
         "name": "delinq_2yrs",
         "rawType": "int64",
         "type": "integer"
        },
        {
         "name": "dti",
         "rawType": "float64",
         "type": "float"
        },
        {
         "name": "emp_length",
         "rawType": "object",
         "type": "unknown"
        },
        {
         "name": "fico_range_high",
         "rawType": "int64",
         "type": "integer"
        },
        {
         "name": "fico_range_low",
         "rawType": "int64",
         "type": "integer"
        },
        {
         "name": "home_ownership",
         "rawType": "object",
         "type": "string"
        },
        {
         "name": "inq_last_12m",
         "rawType": "int64",
         "type": "integer"
        },
        {
         "name": "loan_amnt",
         "rawType": "int64",
         "type": "integer"
        },
        {
         "name": "mo_sin_old_il_acct",
         "rawType": "float64",
         "type": "float"
        },
        {
         "name": "mo_sin_old_rev_tl_op",
         "rawType": "int64",
         "type": "integer"
        },
        {
         "name": "mort_acc",
         "rawType": "int64",
         "type": "integer"
        },
        {
         "name": "mths_since_last_record",
         "rawType": "float64",
         "type": "float"
        },
        {
         "name": "mths_since_recent_inq",
         "rawType": "float64",
         "type": "float"
        },
        {
         "name": "open_acc",
         "rawType": "int64",
         "type": "integer"
        },
        {
         "name": "pub_rec_bankruptcies",
         "rawType": "int64",
         "type": "integer"
        },
        {
         "name": "term",
         "rawType": "object",
         "type": "string"
        },
        {
         "name": "total_bal_ex_mort",
         "rawType": "int64",
         "type": "integer"
        },
        {
         "name": "verification_status",
         "rawType": "object",
         "type": "string"
        },
        {
         "name": "int_rate",
         "rawType": "float64",
         "type": "float"
        }
       ],
       "ref": "00c659eb-dadd-4c9e-bf28-f53610a0ea7d",
       "rows": [
        [
         "0",
         "80.0",
         "36000.0",
         "Individual",
         "0",
         "0",
         "0",
         "26.33",
         null,
         "674",
         "670",
         "OWN",
         "5",
         "5000",
         "57.0",
         "35",
         "0",
         null,
         "0.0",
         "5",
         "0",
         " 36 months",
         "34683",
         "Verified",
         "18.62"
        ],
        [
         "1",
         "61.0",
         "45000.0",
         "Individual",
         "0",
         "0",
         "0",
         "38.51",
         "1 year",
         "734",
         "730",
         "RENT",
         "1",
         "15000",
         "113.0",
         "103",
         "0",
         null,
         "0.0",
         "14",
         "0",
         " 60 months",
         "63873",
         "Not Verified",
         "16.08"
        ],
        [
         "2",
         "31.0",
         "53040.0",
         "Individual",
         "0",
         "0",
         "0",
         "25.2",
         "< 1 year",
         "809",
         "805",
         "MORTGAGE",
         "1",
         "4550",
         "129.0",
         "145",
         "4",
         null,
         "0.0",
         "9",
         "0",
         " 36 months",
         "24452",
         "Verified",
         "7.56"
        ],
        [
         "3",
         "87.0",
         "125000.0",
         "Individual",
         "0",
         "0",
         "0",
         "27.87",
         "10+ years",
         "684",
         "680",
         "MORTGAGE",
         "0",
         "4000",
         "259.0",
         "230",
         "4",
         null,
         "19.0",
         "14",
         "0",
         " 36 months",
         "141033",
         "Verified",
         "17.3"
        ],
        [
         "4",
         "75.0",
         "73000.0",
         "Individual",
         "0",
         "0",
         "0",
         "35.12",
         "10+ years",
         "759",
         "755",
         "MORTGAGE",
         "0",
         "15075",
         "163.0",
         "126",
         "1",
         null,
         "13.0",
         "19",
         "0",
         " 36 months",
         "160302",
         "Not Verified",
         "10.81"
        ]
       ],
       "shape": {
        "columns": 24,
        "rows": 5
       }
      },
      "text/html": [
       "<div>\n",
       "<style scoped>\n",
       "    .dataframe tbody tr th:only-of-type {\n",
       "        vertical-align: middle;\n",
       "    }\n",
       "\n",
       "    .dataframe tbody tr th {\n",
       "        vertical-align: top;\n",
       "    }\n",
       "\n",
       "    .dataframe thead th {\n",
       "        text-align: right;\n",
       "    }\n",
       "</style>\n",
       "<table border=\"1\" class=\"dataframe\">\n",
       "  <thead>\n",
       "    <tr style=\"text-align: right;\">\n",
       "      <th></th>\n",
       "      <th>all_util</th>\n",
       "      <th>annual_inc</th>\n",
       "      <th>application_type</th>\n",
       "      <th>chargeoff_within_12_mths</th>\n",
       "      <th>collections_12_mths_ex_med</th>\n",
       "      <th>delinq_2yrs</th>\n",
       "      <th>dti</th>\n",
       "      <th>emp_length</th>\n",
       "      <th>fico_range_high</th>\n",
       "      <th>fico_range_low</th>\n",
       "      <th>...</th>\n",
       "      <th>mo_sin_old_rev_tl_op</th>\n",
       "      <th>mort_acc</th>\n",
       "      <th>mths_since_last_record</th>\n",
       "      <th>mths_since_recent_inq</th>\n",
       "      <th>open_acc</th>\n",
       "      <th>pub_rec_bankruptcies</th>\n",
       "      <th>term</th>\n",
       "      <th>total_bal_ex_mort</th>\n",
       "      <th>verification_status</th>\n",
       "      <th>int_rate</th>\n",
       "    </tr>\n",
       "  </thead>\n",
       "  <tbody>\n",
       "    <tr>\n",
       "      <th>0</th>\n",
       "      <td>80.0</td>\n",
       "      <td>36000.0</td>\n",
       "      <td>Individual</td>\n",
       "      <td>0</td>\n",
       "      <td>0</td>\n",
       "      <td>0</td>\n",
       "      <td>26.33</td>\n",
       "      <td>NaN</td>\n",
       "      <td>674</td>\n",
       "      <td>670</td>\n",
       "      <td>...</td>\n",
       "      <td>35</td>\n",
       "      <td>0</td>\n",
       "      <td>NaN</td>\n",
       "      <td>0.0</td>\n",
       "      <td>5</td>\n",
       "      <td>0</td>\n",
       "      <td>36 months</td>\n",
       "      <td>34683</td>\n",
       "      <td>Verified</td>\n",
       "      <td>18.62</td>\n",
       "    </tr>\n",
       "    <tr>\n",
       "      <th>1</th>\n",
       "      <td>61.0</td>\n",
       "      <td>45000.0</td>\n",
       "      <td>Individual</td>\n",
       "      <td>0</td>\n",
       "      <td>0</td>\n",
       "      <td>0</td>\n",
       "      <td>38.51</td>\n",
       "      <td>1 year</td>\n",
       "      <td>734</td>\n",
       "      <td>730</td>\n",
       "      <td>...</td>\n",
       "      <td>103</td>\n",
       "      <td>0</td>\n",
       "      <td>NaN</td>\n",
       "      <td>0.0</td>\n",
       "      <td>14</td>\n",
       "      <td>0</td>\n",
       "      <td>60 months</td>\n",
       "      <td>63873</td>\n",
       "      <td>Not Verified</td>\n",
       "      <td>16.08</td>\n",
       "    </tr>\n",
       "    <tr>\n",
       "      <th>2</th>\n",
       "      <td>31.0</td>\n",
       "      <td>53040.0</td>\n",
       "      <td>Individual</td>\n",
       "      <td>0</td>\n",
       "      <td>0</td>\n",
       "      <td>0</td>\n",
       "      <td>25.20</td>\n",
       "      <td>&lt; 1 year</td>\n",
       "      <td>809</td>\n",
       "      <td>805</td>\n",
       "      <td>...</td>\n",
       "      <td>145</td>\n",
       "      <td>4</td>\n",
       "      <td>NaN</td>\n",
       "      <td>0.0</td>\n",
       "      <td>9</td>\n",
       "      <td>0</td>\n",
       "      <td>36 months</td>\n",
       "      <td>24452</td>\n",
       "      <td>Verified</td>\n",
       "      <td>7.56</td>\n",
       "    </tr>\n",
       "    <tr>\n",
       "      <th>3</th>\n",
       "      <td>87.0</td>\n",
       "      <td>125000.0</td>\n",
       "      <td>Individual</td>\n",
       "      <td>0</td>\n",
       "      <td>0</td>\n",
       "      <td>0</td>\n",
       "      <td>27.87</td>\n",
       "      <td>10+ years</td>\n",
       "      <td>684</td>\n",
       "      <td>680</td>\n",
       "      <td>...</td>\n",
       "      <td>230</td>\n",
       "      <td>4</td>\n",
       "      <td>NaN</td>\n",
       "      <td>19.0</td>\n",
       "      <td>14</td>\n",
       "      <td>0</td>\n",
       "      <td>36 months</td>\n",
       "      <td>141033</td>\n",
       "      <td>Verified</td>\n",
       "      <td>17.30</td>\n",
       "    </tr>\n",
       "    <tr>\n",
       "      <th>4</th>\n",
       "      <td>75.0</td>\n",
       "      <td>73000.0</td>\n",
       "      <td>Individual</td>\n",
       "      <td>0</td>\n",
       "      <td>0</td>\n",
       "      <td>0</td>\n",
       "      <td>35.12</td>\n",
       "      <td>10+ years</td>\n",
       "      <td>759</td>\n",
       "      <td>755</td>\n",
       "      <td>...</td>\n",
       "      <td>126</td>\n",
       "      <td>1</td>\n",
       "      <td>NaN</td>\n",
       "      <td>13.0</td>\n",
       "      <td>19</td>\n",
       "      <td>0</td>\n",
       "      <td>36 months</td>\n",
       "      <td>160302</td>\n",
       "      <td>Not Verified</td>\n",
       "      <td>10.81</td>\n",
       "    </tr>\n",
       "  </tbody>\n",
       "</table>\n",
       "<p>5 rows × 24 columns</p>\n",
       "</div>"
      ],
      "text/plain": [
       "   all_util  annual_inc application_type  chargeoff_within_12_mths  \\\n",
       "0      80.0     36000.0       Individual                         0   \n",
       "1      61.0     45000.0       Individual                         0   \n",
       "2      31.0     53040.0       Individual                         0   \n",
       "3      87.0    125000.0       Individual                         0   \n",
       "4      75.0     73000.0       Individual                         0   \n",
       "\n",
       "   collections_12_mths_ex_med  delinq_2yrs    dti emp_length  fico_range_high  \\\n",
       "0                           0            0  26.33        NaN              674   \n",
       "1                           0            0  38.51     1 year              734   \n",
       "2                           0            0  25.20   < 1 year              809   \n",
       "3                           0            0  27.87  10+ years              684   \n",
       "4                           0            0  35.12  10+ years              759   \n",
       "\n",
       "   fico_range_low  ... mo_sin_old_rev_tl_op  mort_acc  mths_since_last_record  \\\n",
       "0             670  ...                   35         0                     NaN   \n",
       "1             730  ...                  103         0                     NaN   \n",
       "2             805  ...                  145         4                     NaN   \n",
       "3             680  ...                  230         4                     NaN   \n",
       "4             755  ...                  126         1                     NaN   \n",
       "\n",
       "   mths_since_recent_inq  open_acc  pub_rec_bankruptcies        term  \\\n",
       "0                    0.0         5                     0   36 months   \n",
       "1                    0.0        14                     0   60 months   \n",
       "2                    0.0         9                     0   36 months   \n",
       "3                   19.0        14                     0   36 months   \n",
       "4                   13.0        19                     0   36 months   \n",
       "\n",
       "   total_bal_ex_mort  verification_status  int_rate  \n",
       "0              34683             Verified     18.62  \n",
       "1              63873         Not Verified     16.08  \n",
       "2              24452             Verified      7.56  \n",
       "3             141033             Verified     17.30  \n",
       "4             160302         Not Verified     10.81  \n",
       "\n",
       "[5 rows x 24 columns]"
      ]
     },
     "execution_count": 2,
     "metadata": {},
     "output_type": "execute_result"
    }
   ],
   "source": [
    "# Load dataset\n",
    "df = pd.read_csv('../data/raw/LC_HW2.csv')\n",
    "\n",
    "df.head()"
   ]
  },
  {
   "cell_type": "code",
   "execution_count": 3,
   "id": "663715d6",
   "metadata": {},
   "outputs": [
    {
     "name": "stdout",
     "output_type": "stream",
     "text": [
      "<class 'pandas.core.frame.DataFrame'>\n",
      "RangeIndex: 100000 entries, 0 to 99999\n",
      "Data columns (total 24 columns):\n",
      " #   Column                      Non-Null Count   Dtype  \n",
      "---  ------                      --------------   -----  \n",
      " 0   all_util                    99984 non-null   float64\n",
      " 1   annual_inc                  100000 non-null  float64\n",
      " 2   application_type            100000 non-null  object \n",
      " 3   chargeoff_within_12_mths    100000 non-null  int64  \n",
      " 4   collections_12_mths_ex_med  100000 non-null  int64  \n",
      " 5   delinq_2yrs                 100000 non-null  int64  \n",
      " 6   dti                         99814 non-null   float64\n",
      " 7   emp_length                  91331 non-null   object \n",
      " 8   fico_range_high             100000 non-null  int64  \n",
      " 9   fico_range_low              100000 non-null  int64  \n",
      " 10  home_ownership              100000 non-null  object \n",
      " 11  inq_last_12m                100000 non-null  int64  \n",
      " 12  loan_amnt                   100000 non-null  int64  \n",
      " 13  mo_sin_old_il_acct          97796 non-null   float64\n",
      " 14  mo_sin_old_rev_tl_op        100000 non-null  int64  \n",
      " 15  mort_acc                    100000 non-null  int64  \n",
      " 16  mths_since_last_record      9125 non-null    float64\n",
      " 17  mths_since_recent_inq       90025 non-null   float64\n",
      " 18  open_acc                    100000 non-null  int64  \n",
      " 19  pub_rec_bankruptcies        100000 non-null  int64  \n",
      " 20  term                        100000 non-null  object \n",
      " 21  total_bal_ex_mort           100000 non-null  int64  \n",
      " 22  verification_status         100000 non-null  object \n",
      " 23  int_rate                    100000 non-null  float64\n",
      "dtypes: float64(7), int64(12), object(5)\n",
      "memory usage: 18.3+ MB\n"
     ]
    }
   ],
   "source": [
    "df.info()"
   ]
  },
  {
   "cell_type": "markdown",
   "id": "6ee7ba44",
   "metadata": {},
   "source": [
    "****"
   ]
  },
  {
   "cell_type": "markdown",
   "id": "19c47664",
   "metadata": {},
   "source": [
    "## Train / Test Split"
   ]
  },
  {
   "cell_type": "code",
   "execution_count": 4,
   "id": "501e4f4c",
   "metadata": {},
   "outputs": [],
   "source": [
    "# Create Train / Test Split\n",
    "X = df.drop(columns = ['int_rate']) # Features\n",
    "y = df['int_rate'] # Target variable\n",
    "\n",
    "X_train, X_test, y_train, y_test = train_test_split(X, y,\n",
    "                                                    test_size = 0.25, # Reserve 25% of data for testing\n",
    "                                                    random_state = 206) # Set random state for reproducibility "
   ]
  },
  {
   "cell_type": "markdown",
   "id": "5337cb66",
   "metadata": {},
   "source": [
    "## Preprocessing"
   ]
  },
  {
   "cell_type": "code",
   "execution_count": 113,
   "id": "1ac38700",
   "metadata": {},
   "outputs": [],
   "source": [
    "# Remove total_acc. Feature not present at loan origination\n",
    "X_train = X_train.drop(columns = ['open_acc'])\n",
    "X_test = X_test.drop(columns = ['open_acc'])"
   ]
  },
  {
   "cell_type": "markdown",
   "id": "3a751bf4",
   "metadata": {},
   "source": [
    "### NA Handling"
   ]
  },
  {
   "cell_type": "code",
   "execution_count": 5,
   "id": "400a3c16",
   "metadata": {},
   "outputs": [
    {
     "data": {
      "application/vnd.microsoft.datawrangler.viewer.v0+json": {
       "columns": [
        {
         "name": "index",
         "rawType": "object",
         "type": "string"
        },
        {
         "name": "0",
         "rawType": "int64",
         "type": "integer"
        }
       ],
       "ref": "bddc5dcb-3f12-4d75-89db-681386753f2e",
       "rows": [
        [
         "all_util",
         "15"
        ],
        [
         "annual_inc",
         "0"
        ],
        [
         "application_type",
         "0"
        ],
        [
         "chargeoff_within_12_mths",
         "0"
        ],
        [
         "collections_12_mths_ex_med",
         "0"
        ],
        [
         "delinq_2yrs",
         "0"
        ],
        [
         "dti",
         "138"
        ],
        [
         "emp_length",
         "6502"
        ],
        [
         "fico_range_high",
         "0"
        ],
        [
         "fico_range_low",
         "0"
        ],
        [
         "home_ownership",
         "0"
        ],
        [
         "inq_last_12m",
         "0"
        ],
        [
         "loan_amnt",
         "0"
        ],
        [
         "mo_sin_old_il_acct",
         "1661"
        ],
        [
         "mo_sin_old_rev_tl_op",
         "0"
        ],
        [
         "mort_acc",
         "0"
        ],
        [
         "mths_since_last_record",
         "68186"
        ],
        [
         "mths_since_recent_inq",
         "7543"
        ],
        [
         "open_acc",
         "0"
        ],
        [
         "pub_rec_bankruptcies",
         "0"
        ],
        [
         "term",
         "0"
        ],
        [
         "total_bal_ex_mort",
         "0"
        ],
        [
         "verification_status",
         "0"
        ]
       ],
       "shape": {
        "columns": 1,
        "rows": 23
       }
      },
      "text/plain": [
       "all_util                         15\n",
       "annual_inc                        0\n",
       "application_type                  0\n",
       "chargeoff_within_12_mths          0\n",
       "collections_12_mths_ex_med        0\n",
       "delinq_2yrs                       0\n",
       "dti                             138\n",
       "emp_length                     6502\n",
       "fico_range_high                   0\n",
       "fico_range_low                    0\n",
       "home_ownership                    0\n",
       "inq_last_12m                      0\n",
       "loan_amnt                         0\n",
       "mo_sin_old_il_acct             1661\n",
       "mo_sin_old_rev_tl_op              0\n",
       "mort_acc                          0\n",
       "mths_since_last_record        68186\n",
       "mths_since_recent_inq          7543\n",
       "open_acc                          0\n",
       "pub_rec_bankruptcies              0\n",
       "term                              0\n",
       "total_bal_ex_mort                 0\n",
       "verification_status               0\n",
       "dtype: int64"
      ]
     },
     "execution_count": 5,
     "metadata": {},
     "output_type": "execute_result"
    }
   ],
   "source": [
    "# Check for NA's\n",
    "X_train.isna().sum()"
   ]
  },
  {
   "cell_type": "markdown",
   "id": "c22401f7",
   "metadata": {},
   "source": [
    "#### all_util"
   ]
  },
  {
   "cell_type": "markdown",
   "id": "c5aea591",
   "metadata": {},
   "source": [
    "Represents the balance to credit limit on all trades. This can be measured by the following equation:\n",
    "\n",
    "\n",
    "$$all\\_util = 100 \\times \\frac{\\text{total balance on all accounts}}{\\text{total credit-limit on accounts}}$$\n",
    "\n",
    "\n",
    "An NA would likely mean that applicant does not have any trades with a positive credit-limit, leading to a denomincator of 0. This means that applicant likely has no open credit-limit lines, so their utilization ratio is 0%.\n",
    "\n",
    "For this column, 0 will be imputed for any NA's."
   ]
  },
  {
   "cell_type": "code",
   "execution_count": 6,
   "id": "6076d2a6",
   "metadata": {},
   "outputs": [
    {
     "name": "stdout",
     "output_type": "stream",
     "text": [
      "NA count in training set: 0\n",
      "NA count in test set: 0\n"
     ]
    }
   ],
   "source": [
    "# Imput 0 for NA's in all_util\n",
    "X_train['all_util'] = X_train['all_util'].fillna(0) # Apply to training set\n",
    "X_test['all_util'] = X_test['all_util'].fillna(0) # Apply to test set\n",
    "\n",
    "# Confirm NA's handled\n",
    "print(f\"NA count in training set: {X_train['all_util'].isna().sum()}\")\n",
    "print(f\"NA count in test set: {X_test['all_util'].isna().sum()}\")"
   ]
  },
  {
   "cell_type": "markdown",
   "id": "ab9bfe0c",
   "metadata": {},
   "source": [
    "### dti"
   ]
  },
  {
   "cell_type": "markdown",
   "id": "9b2e235f",
   "metadata": {},
   "source": [
    "A ratio calculated using the borrower’s total monthly debt payments on the total debt obligations, excluding mortgage and the requested LC loan, divided by the borrower’s self-reported monthly income. \n",
    "\n",
    "$$dti = 100 \\times \\frac{\\text{total monthly debt payments on the total debt obligations, excluding mortgage and the requested LC loan}}{\\text{borrower’s self-reported monthly income}}$$\n",
    "\n",
    "An NA likely means that the applicant had no income and is reflected in the training set. Imputing 0 is implies an exceptional DTI, but no income suggests a credit risk. On the other hand, imputing 999 to represent these missing values might mislead the training of the model. \n",
    "\n",
    "Instead, median dti will be imputed and a dummy variable that flags missing values in the dti so that the model can learn whether DTI carries information."
   ]
  },
  {
   "cell_type": "code",
   "execution_count": 7,
   "id": "593e6458",
   "metadata": {},
   "outputs": [
    {
     "data": {
      "application/vnd.microsoft.datawrangler.viewer.v0+json": {
       "columns": [
        {
         "name": "index",
         "rawType": "object",
         "type": "string"
        },
        {
         "name": "annual_inc",
         "rawType": "float64",
         "type": "float"
        }
       ],
       "ref": "90000b8a-d6ac-4947-821c-d4a0fffd971c",
       "rows": [
        [
         "count",
         "138.0"
        ],
        [
         "mean",
         "0.014492753623188406"
        ],
        [
         "std",
         "0.17025130615174977"
        ],
        [
         "min",
         "0.0"
        ],
        [
         "25%",
         "0.0"
        ],
        [
         "50%",
         "0.0"
        ],
        [
         "75%",
         "0.0"
        ],
        [
         "max",
         "2.0"
        ]
       ],
       "shape": {
        "columns": 1,
        "rows": 8
       }
      },
      "text/plain": [
       "count    138.000000\n",
       "mean       0.014493\n",
       "std        0.170251\n",
       "min        0.000000\n",
       "25%        0.000000\n",
       "50%        0.000000\n",
       "75%        0.000000\n",
       "max        2.000000\n",
       "Name: annual_inc, dtype: float64"
      ]
     },
     "execution_count": 7,
     "metadata": {},
     "output_type": "execute_result"
    }
   ],
   "source": [
    "# Confirm NA's in dti also have an annual income of 0. The training set largely has annual incomes of 0 with a max value of 2.\n",
    "X_train.loc[X_train['dti'].isna(), 'annual_inc'].describe()"
   ]
  },
  {
   "cell_type": "code",
   "execution_count": 8,
   "id": "90bb35f1",
   "metadata": {},
   "outputs": [
    {
     "data": {
      "application/vnd.microsoft.datawrangler.viewer.v0+json": {
       "columns": [
        {
         "name": "index",
         "rawType": "object",
         "type": "string"
        },
        {
         "name": "dti",
         "rawType": "float64",
         "type": "float"
        }
       ],
       "ref": "1664d0a4-7da7-45b8-a912-ef9f70ac606a",
       "rows": [
        [
         "count",
         "74862.0"
        ],
        [
         "mean",
         "21.59985773823836"
        ],
        [
         "std",
         "19.494019843677986"
        ],
        [
         "min",
         "0.0"
        ],
        [
         "25%",
         "13.38"
        ],
        [
         "50%",
         "19.75"
        ],
        [
         "75%",
         "26.99"
        ],
        [
         "max",
         "999.0"
        ]
       ],
       "shape": {
        "columns": 1,
        "rows": 8
       }
      },
      "text/plain": [
       "count    74862.000000\n",
       "mean        21.599858\n",
       "std         19.494020\n",
       "min          0.000000\n",
       "25%         13.380000\n",
       "50%         19.750000\n",
       "75%         26.990000\n",
       "max        999.000000\n",
       "Name: dti, dtype: float64"
      ]
     },
     "execution_count": 8,
     "metadata": {},
     "output_type": "execute_result"
    }
   ],
   "source": [
    "# Run stats of DTI. Data is skewed right. Impute the median for NAs\n",
    "X_train['dti'].describe()"
   ]
  },
  {
   "cell_type": "code",
   "execution_count": 9,
   "id": "521a9aef",
   "metadata": {},
   "outputs": [],
   "source": [
    "# Add conditional column that identifies applicants with NA DTI\n",
    "X_train['dti_missing'] = X_train['dti'].isna().astype(int)\n",
    "X_test['dti_missing'] = X_test['dti'].isna().astype(int)\n"
   ]
  },
  {
   "cell_type": "code",
   "execution_count": 10,
   "id": "6df3ceb7",
   "metadata": {},
   "outputs": [
    {
     "name": "stdout",
     "output_type": "stream",
     "text": [
      "NA count in training set: 0\n",
      "NA count in test set: 0\n"
     ]
    }
   ],
   "source": [
    "# Impute median for NA's in DTI.\n",
    "dti_median = X_train['dti'].median()\n",
    "X_train['dti'] = X_train['dti'].fillna(dti_median) # Apply to training set\n",
    "X_test['dti'] = X_test['dti'].fillna(dti_median) # Apply to test set\n",
    "\n",
    "# Confirm NA's handled\n",
    "print(f\"NA count in training set: {X_train['dti'].isna().sum()}\")\n",
    "print(f\"NA count in test set: {X_test['dti'].isna().sum()}\")"
   ]
  },
  {
   "cell_type": "markdown",
   "id": "3ca6d935",
   "metadata": {},
   "source": [
    "### emp_length"
   ]
  },
  {
   "cell_type": "markdown",
   "id": "13d9a822",
   "metadata": {},
   "source": [
    "Employment length in years. Possible values are between 0 and 10 where 0 means less than one year and 10 means ten or more years. \n",
    "\n",
    "NA's likely represent cases where the applicant did not provide their data related to the feature. To handle NA's, the feature will be converted to an integer, impute the median, and add a dummy variable that identifies a missing emp_length."
   ]
  },
  {
   "cell_type": "code",
   "execution_count": 11,
   "id": "83da4cd0",
   "metadata": {},
   "outputs": [],
   "source": [
    "# Convert emp_length to numeric\n",
    "\n",
    "# Define order of ordinal values\n",
    "emp_length_order = ['< 1 year','1 year','2 years','3 years','4 years','5 years','6 years','7 years','8 years','9 years','10+ years']\n",
    "\n",
    "# Convert to an *ordered* categorical, then grab the integer codes\n",
    "X_train['emp_length_num'] = pd.Categorical(X_train['emp_length'],\n",
    "                                           categories = emp_length_order,\n",
    "                                           ordered = True).codes\n",
    "\n",
    "X_test['emp_length_num'] = pd.Categorical(X_test['emp_length'],\n",
    "                                          categories = emp_length_order,\n",
    "                                          ordered = True).codes\n",
    "\n",
    "# -1 = NaN/missing -> replace with actual NaN\n",
    "X_train.loc[X_train['emp_length_num'] == -1, 'emp_length_num'] = np.nan\n",
    "\n",
    "X_test.loc[X_test['emp_length_num'] == -1, 'emp_length_num'] = np.nan"
   ]
  },
  {
   "cell_type": "code",
   "execution_count": 12,
   "id": "fa8ef51b",
   "metadata": {},
   "outputs": [],
   "source": [
    "# Drop emp_length\n",
    "X_train = X_train.drop(columns='emp_length')\n",
    "X_test = X_test.drop(columns='emp_length')"
   ]
  },
  {
   "cell_type": "code",
   "execution_count": 13,
   "id": "686a0b35",
   "metadata": {},
   "outputs": [
    {
     "data": {
      "application/vnd.microsoft.datawrangler.viewer.v0+json": {
       "columns": [
        {
         "name": "index",
         "rawType": "object",
         "type": "string"
        },
        {
         "name": "emp_length_num",
         "rawType": "float64",
         "type": "float"
        }
       ],
       "ref": "deb83ed2-2f11-4945-9b76-2d1071e8d109",
       "rows": [
        [
         "count",
         "68498.0"
        ],
        [
         "mean",
         "5.309308300972291"
        ],
        [
         "std",
         "3.8418174753670815"
        ],
        [
         "min",
         "0.0"
        ],
        [
         "25%",
         "2.0"
        ],
        [
         "50%",
         "5.0"
        ],
        [
         "75%",
         "10.0"
        ],
        [
         "max",
         "10.0"
        ]
       ],
       "shape": {
        "columns": 1,
        "rows": 8
       }
      },
      "text/plain": [
       "count    68498.000000\n",
       "mean         5.309308\n",
       "std          3.841817\n",
       "min          0.000000\n",
       "25%          2.000000\n",
       "50%          5.000000\n",
       "75%         10.000000\n",
       "max         10.000000\n",
       "Name: emp_length_num, dtype: float64"
      ]
     },
     "execution_count": 13,
     "metadata": {},
     "output_type": "execute_result"
    }
   ],
   "source": [
    "# Run stats of emp_lenth_num. Impute the median for NAs\n",
    "X_train['emp_length_num'].describe()"
   ]
  },
  {
   "cell_type": "code",
   "execution_count": 14,
   "id": "8135ac70",
   "metadata": {},
   "outputs": [],
   "source": [
    "# Add conditional column that identifies applicants with NA emp_length_num\n",
    "X_train['emp_length_missing'] = X_train['emp_length_num'].isna().astype(int)\n",
    "X_test['emp_length_missing'] = X_test['emp_length_num'].isna().astype(int)"
   ]
  },
  {
   "cell_type": "code",
   "execution_count": 15,
   "id": "2c98efe3",
   "metadata": {},
   "outputs": [
    {
     "name": "stdout",
     "output_type": "stream",
     "text": [
      "NA count in training set: 0\n",
      "NA count in test set: 0\n"
     ]
    }
   ],
   "source": [
    "# Impute median for NA's in emp_length_num.\n",
    "emp_length_median = X_train['emp_length_num'].median()\n",
    "X_train['emp_length_num'] = X_train['emp_length_num'].fillna(emp_length_median) # Apply to training set\n",
    "X_test['emp_length_num'] = X_test['emp_length_num'].fillna(emp_length_median) # Apply to test set\n",
    "\n",
    "# Confirm NA's handled\n",
    "print(f\"NA count in training set: {X_train['emp_length_num'].isna().sum()}\")\n",
    "print(f\"NA count in test set: {X_test['emp_length_num'].isna().sum()}\")"
   ]
  },
  {
   "cell_type": "markdown",
   "id": "279124d6",
   "metadata": {},
   "source": [
    "### mo_sin_old_il_acct"
   ]
  },
  {
   "cell_type": "markdown",
   "id": "3a30c163",
   "metadata": {},
   "source": [
    "Months since oldest bank installment account opened. NA's likely represent cases where the applicant has no installment account.\n",
    "\n",
    "In these cases, 0 will be imputed and a dummy variable will be added to flag instances where there are no installment accounts."
   ]
  },
  {
   "cell_type": "code",
   "execution_count": 16,
   "id": "e8ce3388",
   "metadata": {},
   "outputs": [],
   "source": [
    "# Add conditional column that identifies applicants with NA mo_sin_old_il_acct.\n",
    "X_train['mo_sin_old_il_acct_missing'] = X_train['mo_sin_old_il_acct'].isna().astype(int)\n",
    "X_test['mo_sin_old_il_acct_missing'] = X_test['mo_sin_old_il_acct'].isna().astype(int)"
   ]
  },
  {
   "cell_type": "code",
   "execution_count": 17,
   "id": "8129392c",
   "metadata": {},
   "outputs": [
    {
     "name": "stdout",
     "output_type": "stream",
     "text": [
      "NA count in training set: 0\n",
      "NA count in test set: 0\n"
     ]
    }
   ],
   "source": [
    "# Imput 0 for NA's in all_util\n",
    "X_train['mo_sin_old_il_acct'] = X_train['mo_sin_old_il_acct'].fillna(0) # Apply to training set\n",
    "X_test['mo_sin_old_il_acct'] = X_test['mo_sin_old_il_acct'].fillna(0) # Apply to test set\n",
    "\n",
    "# Confirm NA's handled\n",
    "print(f\"NA count in training set: {X_train['mo_sin_old_il_acct'].isna().sum()}\")\n",
    "print(f\"NA count in test set: {X_test['mo_sin_old_il_acct'].isna().sum()}\")"
   ]
  },
  {
   "cell_type": "markdown",
   "id": "4c5ad331",
   "metadata": {},
   "source": [
    "### mths_since_last_record"
   ]
  },
  {
   "cell_type": "markdown",
   "id": "61bdea61",
   "metadata": {},
   "source": [
    "The number of months since the last public record. There are a lot of NA's (90% in the training set).\n",
    "\n",
    "This column will be dropped since there's isn't enough data to work with."
   ]
  },
  {
   "cell_type": "code",
   "execution_count": 18,
   "id": "1c2d7e9c",
   "metadata": {},
   "outputs": [
    {
     "data": {
      "text/plain": [
       "0.9091466666666667"
      ]
     },
     "execution_count": 18,
     "metadata": {},
     "output_type": "execute_result"
    }
   ],
   "source": [
    "# Percent of values missing\n",
    "X_train['mths_since_last_record'].isna().sum() / len(X_train)"
   ]
  },
  {
   "cell_type": "code",
   "execution_count": 19,
   "id": "7221d0c0",
   "metadata": {},
   "outputs": [],
   "source": [
    "# Drop emp_length\n",
    "X_train = X_train.drop(columns = 'mths_since_last_record')\n",
    "X_test = X_test.drop(columns = 'mths_since_last_record')"
   ]
  },
  {
   "cell_type": "markdown",
   "id": "d3093da3",
   "metadata": {},
   "source": [
    "### mths_since_recent_inq"
   ]
  },
  {
   "cell_type": "markdown",
   "id": "13d119f5",
   "metadata": {},
   "source": [
    "Months since most recent inquiry. NA's likely mean that there are no inquiries on file for the applicant.\n",
    "\n",
    "NA's will be imputed with 0 and add a dummy variable that flags the NA's."
   ]
  },
  {
   "cell_type": "code",
   "execution_count": 20,
   "id": "6ad0e97d",
   "metadata": {},
   "outputs": [],
   "source": [
    "# Add conditional column that identifies applicants with NA DTI\n",
    "X_train['mths_since_recent_inq_missing'] = X_train['mths_since_recent_inq'].isna().astype(int)\n",
    "X_test['mths_since_recent_inq_missing'] = X_test['mths_since_recent_inq'].isna().astype(int)"
   ]
  },
  {
   "cell_type": "code",
   "execution_count": 21,
   "id": "e146c0ca",
   "metadata": {},
   "outputs": [
    {
     "name": "stdout",
     "output_type": "stream",
     "text": [
      "NA count in training set: 0\n",
      "NA count in test set: 0\n"
     ]
    }
   ],
   "source": [
    "# Imput 0 for NA's in all_util\n",
    "X_train['mths_since_recent_inq'] = X_train['mths_since_recent_inq'].fillna(0) # Apply to training set\n",
    "X_test['mths_since_recent_inq'] = X_test['mths_since_recent_inq'].fillna(0) # Apply to test set\n",
    "\n",
    "# Confirm NA's handled\n",
    "print(f\"NA count in training set: {X_train['mths_since_recent_inq'].isna().sum()}\")\n",
    "print(f\"NA count in test set: {X_test['mths_since_recent_inq'].isna().sum()}\")"
   ]
  },
  {
   "cell_type": "markdown",
   "id": "c14ac246",
   "metadata": {},
   "source": [
    "## Outlier Detection and Handling"
   ]
  },
  {
   "cell_type": "code",
   "execution_count": 22,
   "id": "b416ae30",
   "metadata": {},
   "outputs": [
    {
     "data": {
      "application/vnd.microsoft.datawrangler.viewer.v0+json": {
       "columns": [
        {
         "name": "index",
         "rawType": "object",
         "type": "string"
        },
        {
         "name": "all_util",
         "rawType": "float64",
         "type": "float"
        },
        {
         "name": "annual_inc",
         "rawType": "float64",
         "type": "float"
        },
        {
         "name": "chargeoff_within_12_mths",
         "rawType": "float64",
         "type": "float"
        },
        {
         "name": "collections_12_mths_ex_med",
         "rawType": "float64",
         "type": "float"
        },
        {
         "name": "delinq_2yrs",
         "rawType": "float64",
         "type": "float"
        },
        {
         "name": "dti",
         "rawType": "float64",
         "type": "float"
        },
        {
         "name": "fico_range_high",
         "rawType": "float64",
         "type": "float"
        },
        {
         "name": "fico_range_low",
         "rawType": "float64",
         "type": "float"
        },
        {
         "name": "inq_last_12m",
         "rawType": "float64",
         "type": "float"
        },
        {
         "name": "loan_amnt",
         "rawType": "float64",
         "type": "float"
        },
        {
         "name": "mo_sin_old_il_acct",
         "rawType": "float64",
         "type": "float"
        },
        {
         "name": "mo_sin_old_rev_tl_op",
         "rawType": "float64",
         "type": "float"
        },
        {
         "name": "mort_acc",
         "rawType": "float64",
         "type": "float"
        },
        {
         "name": "mths_since_recent_inq",
         "rawType": "float64",
         "type": "float"
        },
        {
         "name": "open_acc",
         "rawType": "float64",
         "type": "float"
        },
        {
         "name": "pub_rec_bankruptcies",
         "rawType": "float64",
         "type": "float"
        },
        {
         "name": "total_bal_ex_mort",
         "rawType": "float64",
         "type": "float"
        },
        {
         "name": "dti_missing",
         "rawType": "float64",
         "type": "float"
        },
        {
         "name": "emp_length_num",
         "rawType": "float64",
         "type": "float"
        },
        {
         "name": "emp_length_missing",
         "rawType": "float64",
         "type": "float"
        },
        {
         "name": "mo_sin_old_il_acct_missing",
         "rawType": "float64",
         "type": "float"
        },
        {
         "name": "mths_since_recent_inq_missing",
         "rawType": "float64",
         "type": "float"
        }
       ],
       "ref": "3e35d83a-5aaf-4e33-b20d-d9c54d639597",
       "rows": [
        [
         "count",
         "75000.0",
         "75000.0",
         "75000.0",
         "75000.0",
         "75000.0",
         "75000.0",
         "75000.0",
         "75000.0",
         "75000.0",
         "75000.0",
         "75000.0",
         "75000.0",
         "75000.0",
         "75000.0",
         "75000.0",
         "75000.0",
         "75000.0",
         "75000.0",
         "75000.0",
         "75000.0",
         "75000.0",
         "75000.0"
        ],
        [
         "mean",
         "55.03986666666667",
         "88453.29958679999",
         "0.00588",
         "0.015093333333333334",
         "0.21724",
         "21.596454",
         "710.60296",
         "706.6028",
         "2.05876",
         "16821.198666666667",
         "123.97458666666667",
         "172.40301333333332",
         "1.3595066666666666",
         "6.292573333333333",
         "12.141586666666667",
         "0.09230666666666666",
         "60603.80621333334",
         "0.00184",
         "5.282493333333333",
         "0.08669333333333333",
         "0.022146666666666665",
         "0.10057333333333333"
        ],
        [
         "std",
         "20.179016160807137",
         "93305.21986043948",
         "0.08705664813672015",
         "0.13618286198770882",
         "0.7124793920473609",
         "19.476238197932638",
         "35.62213354629285",
         "35.62150966367521",
         "2.3103459549847307",
         "10436.449954829532",
         "60.67468939408168",
         "99.57950864158812",
         "1.7621378185842036",
         "5.9188783807613685",
         "6.102140310091165",
         "0.29610918318131096",
         "58002.2580886581",
         "0.042856025113358995",
         "3.672541901391073",
         "0.28138701996403115",
         "0.1471614099391419",
         "0.3007649316042845"
        ],
        [
         "min",
         "0.0",
         "0.0",
         "0.0",
         "0.0",
         "0.0",
         "0.0",
         "664.0",
         "660.0",
         "0.0",
         "1000.0",
         "0.0",
         "5.0",
         "0.0",
         "0.0",
         "0.0",
         "0.0",
         "0.0",
         "0.0",
         "0.0",
         "0.0",
         "0.0",
         "0.0"
        ],
        [
         "25%",
         "41.0",
         "50000.0",
         "0.0",
         "0.0",
         "0.0",
         "13.39",
         "684.0",
         "680.0",
         "0.0",
         "8500.0",
         "82.0",
         "97.0",
         "0.0",
         "1.0",
         "8.0",
         "0.0",
         "24821.75",
         "0.0",
         "2.0",
         "0.0",
         "0.0",
         "0.0"
        ],
        [
         "50%",
         "55.0",
         "73000.0",
         "0.0",
         "0.0",
         "0.0",
         "19.75",
         "704.0",
         "700.0",
         "1.0",
         "15000.0",
         "129.0",
         "156.0",
         "1.0",
         "5.0",
         "11.0",
         "0.0",
         "44805.0",
         "0.0",
         "5.0",
         "0.0",
         "0.0",
         "0.0"
        ],
        [
         "75%",
         "69.0",
         "105000.0",
         "0.0",
         "0.0",
         "0.0",
         "26.97",
         "729.0",
         "725.0",
         "3.0",
         "24000.0",
         "161.0",
         "223.0",
         "2.0",
         "10.0",
         "15.0",
         "0.0",
         "76852.0",
         "0.0",
         "10.0",
         "0.0",
         "0.0",
         "0.0"
        ],
        [
         "max",
         "185.0",
         "8645185.0",
         "6.0",
         "10.0",
         "19.0",
         "999.0",
         "850.0",
         "845.0",
         "40.0",
         "40000.0",
         "722.0",
         "914.0",
         "32.0",
         "25.0",
         "67.0",
         "7.0",
         "1196294.0",
         "1.0",
         "10.0",
         "1.0",
         "1.0",
         "1.0"
        ]
       ],
       "shape": {
        "columns": 22,
        "rows": 8
       }
      },
      "text/html": [
       "<div>\n",
       "<style scoped>\n",
       "    .dataframe tbody tr th:only-of-type {\n",
       "        vertical-align: middle;\n",
       "    }\n",
       "\n",
       "    .dataframe tbody tr th {\n",
       "        vertical-align: top;\n",
       "    }\n",
       "\n",
       "    .dataframe thead th {\n",
       "        text-align: right;\n",
       "    }\n",
       "</style>\n",
       "<table border=\"1\" class=\"dataframe\">\n",
       "  <thead>\n",
       "    <tr style=\"text-align: right;\">\n",
       "      <th></th>\n",
       "      <th>all_util</th>\n",
       "      <th>annual_inc</th>\n",
       "      <th>chargeoff_within_12_mths</th>\n",
       "      <th>collections_12_mths_ex_med</th>\n",
       "      <th>delinq_2yrs</th>\n",
       "      <th>dti</th>\n",
       "      <th>fico_range_high</th>\n",
       "      <th>fico_range_low</th>\n",
       "      <th>inq_last_12m</th>\n",
       "      <th>loan_amnt</th>\n",
       "      <th>...</th>\n",
       "      <th>mort_acc</th>\n",
       "      <th>mths_since_recent_inq</th>\n",
       "      <th>open_acc</th>\n",
       "      <th>pub_rec_bankruptcies</th>\n",
       "      <th>total_bal_ex_mort</th>\n",
       "      <th>dti_missing</th>\n",
       "      <th>emp_length_num</th>\n",
       "      <th>emp_length_missing</th>\n",
       "      <th>mo_sin_old_il_acct_missing</th>\n",
       "      <th>mths_since_recent_inq_missing</th>\n",
       "    </tr>\n",
       "  </thead>\n",
       "  <tbody>\n",
       "    <tr>\n",
       "      <th>count</th>\n",
       "      <td>75000.000000</td>\n",
       "      <td>7.500000e+04</td>\n",
       "      <td>75000.000000</td>\n",
       "      <td>75000.000000</td>\n",
       "      <td>75000.000000</td>\n",
       "      <td>75000.000000</td>\n",
       "      <td>75000.000000</td>\n",
       "      <td>75000.00000</td>\n",
       "      <td>75000.000000</td>\n",
       "      <td>75000.000000</td>\n",
       "      <td>...</td>\n",
       "      <td>75000.000000</td>\n",
       "      <td>75000.000000</td>\n",
       "      <td>75000.000000</td>\n",
       "      <td>75000.000000</td>\n",
       "      <td>7.500000e+04</td>\n",
       "      <td>75000.000000</td>\n",
       "      <td>75000.000000</td>\n",
       "      <td>75000.000000</td>\n",
       "      <td>75000.000000</td>\n",
       "      <td>75000.000000</td>\n",
       "    </tr>\n",
       "    <tr>\n",
       "      <th>mean</th>\n",
       "      <td>55.039867</td>\n",
       "      <td>8.845330e+04</td>\n",
       "      <td>0.005880</td>\n",
       "      <td>0.015093</td>\n",
       "      <td>0.217240</td>\n",
       "      <td>21.596454</td>\n",
       "      <td>710.602960</td>\n",
       "      <td>706.60280</td>\n",
       "      <td>2.058760</td>\n",
       "      <td>16821.198667</td>\n",
       "      <td>...</td>\n",
       "      <td>1.359507</td>\n",
       "      <td>6.292573</td>\n",
       "      <td>12.141587</td>\n",
       "      <td>0.092307</td>\n",
       "      <td>6.060381e+04</td>\n",
       "      <td>0.001840</td>\n",
       "      <td>5.282493</td>\n",
       "      <td>0.086693</td>\n",
       "      <td>0.022147</td>\n",
       "      <td>0.100573</td>\n",
       "    </tr>\n",
       "    <tr>\n",
       "      <th>std</th>\n",
       "      <td>20.179016</td>\n",
       "      <td>9.330522e+04</td>\n",
       "      <td>0.087057</td>\n",
       "      <td>0.136183</td>\n",
       "      <td>0.712479</td>\n",
       "      <td>19.476238</td>\n",
       "      <td>35.622134</td>\n",
       "      <td>35.62151</td>\n",
       "      <td>2.310346</td>\n",
       "      <td>10436.449955</td>\n",
       "      <td>...</td>\n",
       "      <td>1.762138</td>\n",
       "      <td>5.918878</td>\n",
       "      <td>6.102140</td>\n",
       "      <td>0.296109</td>\n",
       "      <td>5.800226e+04</td>\n",
       "      <td>0.042856</td>\n",
       "      <td>3.672542</td>\n",
       "      <td>0.281387</td>\n",
       "      <td>0.147161</td>\n",
       "      <td>0.300765</td>\n",
       "    </tr>\n",
       "    <tr>\n",
       "      <th>min</th>\n",
       "      <td>0.000000</td>\n",
       "      <td>0.000000e+00</td>\n",
       "      <td>0.000000</td>\n",
       "      <td>0.000000</td>\n",
       "      <td>0.000000</td>\n",
       "      <td>0.000000</td>\n",
       "      <td>664.000000</td>\n",
       "      <td>660.00000</td>\n",
       "      <td>0.000000</td>\n",
       "      <td>1000.000000</td>\n",
       "      <td>...</td>\n",
       "      <td>0.000000</td>\n",
       "      <td>0.000000</td>\n",
       "      <td>0.000000</td>\n",
       "      <td>0.000000</td>\n",
       "      <td>0.000000e+00</td>\n",
       "      <td>0.000000</td>\n",
       "      <td>0.000000</td>\n",
       "      <td>0.000000</td>\n",
       "      <td>0.000000</td>\n",
       "      <td>0.000000</td>\n",
       "    </tr>\n",
       "    <tr>\n",
       "      <th>25%</th>\n",
       "      <td>41.000000</td>\n",
       "      <td>5.000000e+04</td>\n",
       "      <td>0.000000</td>\n",
       "      <td>0.000000</td>\n",
       "      <td>0.000000</td>\n",
       "      <td>13.390000</td>\n",
       "      <td>684.000000</td>\n",
       "      <td>680.00000</td>\n",
       "      <td>0.000000</td>\n",
       "      <td>8500.000000</td>\n",
       "      <td>...</td>\n",
       "      <td>0.000000</td>\n",
       "      <td>1.000000</td>\n",
       "      <td>8.000000</td>\n",
       "      <td>0.000000</td>\n",
       "      <td>2.482175e+04</td>\n",
       "      <td>0.000000</td>\n",
       "      <td>2.000000</td>\n",
       "      <td>0.000000</td>\n",
       "      <td>0.000000</td>\n",
       "      <td>0.000000</td>\n",
       "    </tr>\n",
       "    <tr>\n",
       "      <th>50%</th>\n",
       "      <td>55.000000</td>\n",
       "      <td>7.300000e+04</td>\n",
       "      <td>0.000000</td>\n",
       "      <td>0.000000</td>\n",
       "      <td>0.000000</td>\n",
       "      <td>19.750000</td>\n",
       "      <td>704.000000</td>\n",
       "      <td>700.00000</td>\n",
       "      <td>1.000000</td>\n",
       "      <td>15000.000000</td>\n",
       "      <td>...</td>\n",
       "      <td>1.000000</td>\n",
       "      <td>5.000000</td>\n",
       "      <td>11.000000</td>\n",
       "      <td>0.000000</td>\n",
       "      <td>4.480500e+04</td>\n",
       "      <td>0.000000</td>\n",
       "      <td>5.000000</td>\n",
       "      <td>0.000000</td>\n",
       "      <td>0.000000</td>\n",
       "      <td>0.000000</td>\n",
       "    </tr>\n",
       "    <tr>\n",
       "      <th>75%</th>\n",
       "      <td>69.000000</td>\n",
       "      <td>1.050000e+05</td>\n",
       "      <td>0.000000</td>\n",
       "      <td>0.000000</td>\n",
       "      <td>0.000000</td>\n",
       "      <td>26.970000</td>\n",
       "      <td>729.000000</td>\n",
       "      <td>725.00000</td>\n",
       "      <td>3.000000</td>\n",
       "      <td>24000.000000</td>\n",
       "      <td>...</td>\n",
       "      <td>2.000000</td>\n",
       "      <td>10.000000</td>\n",
       "      <td>15.000000</td>\n",
       "      <td>0.000000</td>\n",
       "      <td>7.685200e+04</td>\n",
       "      <td>0.000000</td>\n",
       "      <td>10.000000</td>\n",
       "      <td>0.000000</td>\n",
       "      <td>0.000000</td>\n",
       "      <td>0.000000</td>\n",
       "    </tr>\n",
       "    <tr>\n",
       "      <th>max</th>\n",
       "      <td>185.000000</td>\n",
       "      <td>8.645185e+06</td>\n",
       "      <td>6.000000</td>\n",
       "      <td>10.000000</td>\n",
       "      <td>19.000000</td>\n",
       "      <td>999.000000</td>\n",
       "      <td>850.000000</td>\n",
       "      <td>845.00000</td>\n",
       "      <td>40.000000</td>\n",
       "      <td>40000.000000</td>\n",
       "      <td>...</td>\n",
       "      <td>32.000000</td>\n",
       "      <td>25.000000</td>\n",
       "      <td>67.000000</td>\n",
       "      <td>7.000000</td>\n",
       "      <td>1.196294e+06</td>\n",
       "      <td>1.000000</td>\n",
       "      <td>10.000000</td>\n",
       "      <td>1.000000</td>\n",
       "      <td>1.000000</td>\n",
       "      <td>1.000000</td>\n",
       "    </tr>\n",
       "  </tbody>\n",
       "</table>\n",
       "<p>8 rows × 22 columns</p>\n",
       "</div>"
      ],
      "text/plain": [
       "           all_util    annual_inc  chargeoff_within_12_mths  \\\n",
       "count  75000.000000  7.500000e+04              75000.000000   \n",
       "mean      55.039867  8.845330e+04                  0.005880   \n",
       "std       20.179016  9.330522e+04                  0.087057   \n",
       "min        0.000000  0.000000e+00                  0.000000   \n",
       "25%       41.000000  5.000000e+04                  0.000000   \n",
       "50%       55.000000  7.300000e+04                  0.000000   \n",
       "75%       69.000000  1.050000e+05                  0.000000   \n",
       "max      185.000000  8.645185e+06                  6.000000   \n",
       "\n",
       "       collections_12_mths_ex_med   delinq_2yrs           dti  \\\n",
       "count                75000.000000  75000.000000  75000.000000   \n",
       "mean                     0.015093      0.217240     21.596454   \n",
       "std                      0.136183      0.712479     19.476238   \n",
       "min                      0.000000      0.000000      0.000000   \n",
       "25%                      0.000000      0.000000     13.390000   \n",
       "50%                      0.000000      0.000000     19.750000   \n",
       "75%                      0.000000      0.000000     26.970000   \n",
       "max                     10.000000     19.000000    999.000000   \n",
       "\n",
       "       fico_range_high  fico_range_low  inq_last_12m     loan_amnt  ...  \\\n",
       "count     75000.000000     75000.00000  75000.000000  75000.000000  ...   \n",
       "mean        710.602960       706.60280      2.058760  16821.198667  ...   \n",
       "std          35.622134        35.62151      2.310346  10436.449955  ...   \n",
       "min         664.000000       660.00000      0.000000   1000.000000  ...   \n",
       "25%         684.000000       680.00000      0.000000   8500.000000  ...   \n",
       "50%         704.000000       700.00000      1.000000  15000.000000  ...   \n",
       "75%         729.000000       725.00000      3.000000  24000.000000  ...   \n",
       "max         850.000000       845.00000     40.000000  40000.000000  ...   \n",
       "\n",
       "           mort_acc  mths_since_recent_inq      open_acc  \\\n",
       "count  75000.000000           75000.000000  75000.000000   \n",
       "mean       1.359507               6.292573     12.141587   \n",
       "std        1.762138               5.918878      6.102140   \n",
       "min        0.000000               0.000000      0.000000   \n",
       "25%        0.000000               1.000000      8.000000   \n",
       "50%        1.000000               5.000000     11.000000   \n",
       "75%        2.000000              10.000000     15.000000   \n",
       "max       32.000000              25.000000     67.000000   \n",
       "\n",
       "       pub_rec_bankruptcies  total_bal_ex_mort   dti_missing  emp_length_num  \\\n",
       "count          75000.000000       7.500000e+04  75000.000000    75000.000000   \n",
       "mean               0.092307       6.060381e+04      0.001840        5.282493   \n",
       "std                0.296109       5.800226e+04      0.042856        3.672542   \n",
       "min                0.000000       0.000000e+00      0.000000        0.000000   \n",
       "25%                0.000000       2.482175e+04      0.000000        2.000000   \n",
       "50%                0.000000       4.480500e+04      0.000000        5.000000   \n",
       "75%                0.000000       7.685200e+04      0.000000       10.000000   \n",
       "max                7.000000       1.196294e+06      1.000000       10.000000   \n",
       "\n",
       "       emp_length_missing  mo_sin_old_il_acct_missing  \\\n",
       "count        75000.000000                75000.000000   \n",
       "mean             0.086693                    0.022147   \n",
       "std              0.281387                    0.147161   \n",
       "min              0.000000                    0.000000   \n",
       "25%              0.000000                    0.000000   \n",
       "50%              0.000000                    0.000000   \n",
       "75%              0.000000                    0.000000   \n",
       "max              1.000000                    1.000000   \n",
       "\n",
       "       mths_since_recent_inq_missing  \n",
       "count                   75000.000000  \n",
       "mean                        0.100573  \n",
       "std                         0.300765  \n",
       "min                         0.000000  \n",
       "25%                         0.000000  \n",
       "50%                         0.000000  \n",
       "75%                         0.000000  \n",
       "max                         1.000000  \n",
       "\n",
       "[8 rows x 22 columns]"
      ]
     },
     "execution_count": 22,
     "metadata": {},
     "output_type": "execute_result"
    }
   ],
   "source": [
    "X_train.describe()"
   ]
  },
  {
   "cell_type": "markdown",
   "id": "a73be476",
   "metadata": {},
   "source": [
    "### all_util"
   ]
  },
  {
   "cell_type": "markdown",
   "id": "1ee0c837",
   "metadata": {},
   "source": [
    "Instances greater than 100% are rare and create noise. Instances > 100% will be removed."
   ]
  },
  {
   "cell_type": "code",
   "execution_count": 23,
   "id": "4c5961dd",
   "metadata": {},
   "outputs": [
    {
     "data": {
      "image/png": "[encoded data removed]",
      "text/plain": [
       "<Figure size 640x480 with 1 Axes>"
      ]
     },
     "metadata": {},
     "output_type": "display_data"
    }
   ],
   "source": [
    "# Visualize distribution of all_util\n",
    "sns.histplot(X_train['all_util'], bins = 10)\n",
    "\n",
    "# Add labels and title\n",
    "plt.title('Distribution of all_util in X_train')\n",
    "plt.xlabel('all_util')\n",
    "plt.ylabel('Frequency')\n",
    "\n",
    "plt.show()"
   ]
  },
  {
   "cell_type": "code",
   "execution_count": 24,
   "id": "49e4d42a",
   "metadata": {},
   "outputs": [],
   "source": [
    "# Remove instances all_util > 100\n",
    "X_train = X_train[X_train['all_util'] <= 100]"
   ]
  },
  {
   "cell_type": "code",
   "execution_count": 25,
   "id": "7d3488ea",
   "metadata": {},
   "outputs": [
    {
     "data": {
      "image/png": "[encoded data removed]",
      "text/plain": [
       "<Figure size 640x480 with 1 Axes>"
      ]
     },
     "metadata": {},
     "output_type": "display_data"
    }
   ],
   "source": [
    "# Confirm that instances were removed.\n",
    "\n",
    "# Visualize distribution of all_util\n",
    "sns.histplot(X_train['all_util'], bins = 10)\n",
    "\n",
    "# Add labels and title\n",
    "plt.title('Distribution of all_util in X_train')\n",
    "plt.xlabel('all_util')\n",
    "plt.ylabel('Frequency')\n",
    "\n",
    "plt.show()"
   ]
  },
  {
   "cell_type": "markdown",
   "id": "20a5c4a5",
   "metadata": {},
   "source": [
    "### chargeoff_within_12_mths"
   ]
  },
  {
   "cell_type": "code",
   "execution_count": null,
   "id": "6ee6db76",
   "metadata": {},
   "outputs": [
    {
     "data": {
      "application/vnd.microsoft.datawrangler.viewer.v0+json": {
       "columns": [
        {
         "name": "chargeoff_within_12_mths",
         "rawType": "int64",
         "type": "integer"
        },
        {
         "name": "0",
         "rawType": "int64",
         "type": "integer"
        }
       ],
       "ref": "c077672f-e160-4dc1-8d6a-549f452de981",
       "rows": [
        [
         "0",
         "69913"
        ],
        [
         "1",
         "357"
        ],
        [
         "2",
         "19"
        ],
        [
         "3",
         "3"
        ],
        [
         "4",
         "1"
        ],
        [
         "6",
         "2"
        ]
       ],
       "shape": {
        "columns": 1,
        "rows": 6
       }
      },
      "text/plain": [
       "chargeoff_within_12_mths\n",
       "0    69913\n",
       "1      357\n",
       "2       19\n",
       "3        3\n",
       "4        1\n",
       "6        2\n",
       "dtype: int64"
      ]
     },
     "execution_count": 75,
     "metadata": {},
     "output_type": "execute_result"
    }
   ],
   "source": [
    "# Group by chargeoff_within_12_mths\n",
    "X_train.groupby('chargeoff_within_12_mths').size()"
   ]
  },
  {
   "cell_type": "code",
   "execution_count": null,
   "id": "71b7b9e8",
   "metadata": {},
   "outputs": [],
   "source": [
    "# Most applicants do not have chargeoffs on record.\n",
    "# Makes sense to convert ot a binary that measures if the applicant had a chargeoff if the last 12 months.\n",
    "X_train['chargeoff_within_12_mths'] = np.where(X_train['chargeoff_within_12_mths'] > 0, 1, 0)\n",
    "X_test['chargeoff_within_12_mths'] = np.where(X_test['chargeoff_within_12_mths'] > 0, 1, 0)"
   ]
  },
  {
   "cell_type": "markdown",
   "id": "c434a3e2",
   "metadata": {},
   "source": [
    "### collections_12_mths_ex_med"
   ]
  },
  {
   "cell_type": "code",
   "execution_count": null,
   "id": "d32b7a48",
   "metadata": {},
   "outputs": [
    {
     "data": {
      "application/vnd.microsoft.datawrangler.viewer.v0+json": {
       "columns": [
        {
         "name": "collections_12_mths_ex_med",
         "rawType": "int64",
         "type": "integer"
        },
        {
         "name": "0",
         "rawType": "int64",
         "type": "integer"
        }
       ],
       "ref": "9acfe342-8f4c-4577-bb62-6762dfbd9f30",
       "rows": [
        [
         "0",
         "69299"
        ],
        [
         "1",
         "936"
        ],
        [
         "2",
         "51"
        ],
        [
         "3",
         "7"
        ],
        [
         "6",
         "1"
        ],
        [
         "10",
         "1"
        ]
       ],
       "shape": {
        "columns": 1,
        "rows": 6
       }
      },
      "text/plain": [
       "collections_12_mths_ex_med\n",
       "0     69299\n",
       "1       936\n",
       "2        51\n",
       "3         7\n",
       "6         1\n",
       "10        1\n",
       "dtype: int64"
      ]
     },
     "execution_count": 77,
     "metadata": {},
     "output_type": "execute_result"
    }
   ],
   "source": [
    "# Group by collections_12_mths_ex_med\n",
    "X_train.groupby('collections_12_mths_ex_med').size()"
   ]
  },
  {
   "cell_type": "code",
   "execution_count": null,
   "id": "2baf9a13",
   "metadata": {},
   "outputs": [],
   "source": [
    "# Most applicants do not have collections on record.\n",
    "# Makes sense to convert ot a binary that measures if the applicant had a collections if the last 12 months.\n",
    "X_train['collections_12_mths_ex_med'] = np.where(X_train['collections_12_mths_ex_med'] > 0, 1, 0)\n",
    "X_test['collections_12_mths_ex_med'] = np.where(X_test['collections_12_mths_ex_med'] > 0, 1, 0)"
   ]
  },
  {
   "cell_type": "markdown",
   "id": "c19396b3",
   "metadata": {},
   "source": [
    "### delinq_2yrs"
   ]
  },
  {
   "cell_type": "code",
   "execution_count": 79,
   "id": "a4cabec8",
   "metadata": {},
   "outputs": [
    {
     "data": {
      "application/vnd.microsoft.datawrangler.viewer.v0+json": {
       "columns": [
        {
         "name": "delinq_2yrs",
         "rawType": "int64",
         "type": "integer"
        },
        {
         "name": "0",
         "rawType": "int64",
         "type": "integer"
        }
       ],
       "ref": "c8ae622d-2f3d-40d1-abe6-03b7b77880ae",
       "rows": [
        [
         "0",
         "60514"
        ],
        [
         "1",
         "6970"
        ],
        [
         "2",
         "1645"
        ],
        [
         "3",
         "607"
        ],
        [
         "4",
         "260"
        ],
        [
         "5",
         "127"
        ],
        [
         "6",
         "66"
        ],
        [
         "7",
         "44"
        ],
        [
         "8",
         "24"
        ],
        [
         "9",
         "17"
        ],
        [
         "10",
         "9"
        ],
        [
         "11",
         "5"
        ],
        [
         "12",
         "2"
        ],
        [
         "13",
         "2"
        ],
        [
         "15",
         "1"
        ],
        [
         "17",
         "2"
        ]
       ],
       "shape": {
        "columns": 1,
        "rows": 16
       }
      },
      "text/plain": [
       "delinq_2yrs\n",
       "0     60514\n",
       "1      6970\n",
       "2      1645\n",
       "3       607\n",
       "4       260\n",
       "5       127\n",
       "6        66\n",
       "7        44\n",
       "8        24\n",
       "9        17\n",
       "10        9\n",
       "11        5\n",
       "12        2\n",
       "13        2\n",
       "15        1\n",
       "17        2\n",
       "dtype: int64"
      ]
     },
     "execution_count": 79,
     "metadata": {},
     "output_type": "execute_result"
    }
   ],
   "source": [
    "# Group by delinq_2yrs\n",
    "X_train.groupby('delinq_2yrs').size()"
   ]
  },
  {
   "cell_type": "code",
   "execution_count": 80,
   "id": "7998a40e",
   "metadata": {},
   "outputs": [],
   "source": [
    "# Most applicants do not have delinquencies on record.\n",
    "# Makes sense to convert ot a binary that measures if the applicant had a delinquencies if the last 2 years.\n",
    "X_train['delinq_2yrs'] = np.where(X_train['delinq_2yrs'] > 0, 1, 0)\n",
    "X_test['delinq_2yrs'] = np.where(X_test['delinq_2yrs'] > 0, 1, 0)"
   ]
  },
  {
   "cell_type": "markdown",
   "id": "59083b4c",
   "metadata": {},
   "source": [
    "### annual_inc"
   ]
  },
  {
   "cell_type": "markdown",
   "id": "6adff1c2",
   "metadata": {},
   "source": [
    "Annual income is skewed right some extreme values. Even when removing instances > 99th percentile, it's still skewed right. A transformation will be applied to give annual income a normal distribution.\n",
    "\n",
    "Any instances > 99th percentile will removed and square root transformation will be applied to the data that remains."
   ]
  },
  {
   "cell_type": "code",
   "execution_count": null,
   "id": "2f417f62",
   "metadata": {},
   "outputs": [
    {
     "data": {
      "image/png": "[encoded data removed]",
      "text/plain": [
       "<Figure size 640x480 with 1 Axes>"
      ]
     },
     "metadata": {},
     "output_type": "display_data"
    }
   ],
   "source": [
    "# Visualize distribution of annual_inc\n",
    "sns.histplot(X_train['annual_inc'])\n",
    "\n",
    "# Add labels and title\n",
    "plt.title('Distribution of annual_inc in X_train')\n",
    "plt.xlabel('annual_inc')\n",
    "plt.ylabel('Frequency')\n",
    "\n",
    "plt.show()"
   ]
  },
  {
   "cell_type": "code",
   "execution_count": null,
   "id": "84ec3447",
   "metadata": {},
   "outputs": [
    {
     "data": {
      "image/png": "[encoded data removed]",
      "text/plain": [
       "<Figure size 640x480 with 1 Axes>"
      ]
     },
     "metadata": {},
     "output_type": "display_data"
    }
   ],
   "source": [
    "# Long tail. Let's zoom in to just the 99th percentile\n",
    "\n",
    "# Visualize distribution of annual_inc\n",
    "sns.histplot(X_train.loc[X_train['annual_inc'] <= X_train['annual_inc'].quantile(0.99) ,'annual_inc'], binwidth = 50000)\n",
    "\n",
    "# Add labels and title\n",
    "plt.title('Distribution of annual_inc in X_train')\n",
    "plt.xlabel('annual_inc')\n",
    "plt.ylabel('Frequency')\n",
    "\n",
    "plt.show()"
   ]
  },
  {
   "cell_type": "code",
   "execution_count": 28,
   "id": "0bf72f18",
   "metadata": {},
   "outputs": [],
   "source": [
    "# Looks better so let's remove the points > 99th percentile\n",
    "X_train = X_train[X_train['annual_inc'] <= X_train['annual_inc'].quantile(0.99)]"
   ]
  },
  {
   "cell_type": "code",
   "execution_count": null,
   "id": "c959270f",
   "metadata": {},
   "outputs": [
    {
     "data": {
      "image/png": "[encoded data removed]",
      "text/plain": [
       "<Figure size 640x480 with 1 Axes>"
      ]
     },
     "metadata": {},
     "output_type": "display_data"
    }
   ],
   "source": [
    "# Since the data is still skewed right, let's explore a square root tranformation.\n",
    "\n",
    "# Visualize distribution of annual_inc\n",
    "sns.histplot(np.sqrt(X_train['annual_inc']), binwidth=50)\n",
    "\n",
    "# Add labels and title\n",
    "plt.title('Distribution of annual_inc in X_train')\n",
    "plt.xlabel('annual_inc')\n",
    "plt.ylabel('Frequency')\n",
    "\n",
    "plt.show()"
   ]
  },
  {
   "cell_type": "code",
   "execution_count": null,
   "id": "87708ec8",
   "metadata": {},
   "outputs": [
    {
     "data": {
      "image/png": "[encoded data removed]",
      "text/plain": [
       "<Figure size 640x480 with 1 Axes>"
      ]
     },
     "metadata": {},
     "output_type": "display_data"
    }
   ],
   "source": [
    "# Let's explore a log transformation\n",
    "\n",
    "# Visualize distribution of annual_inc\n",
    "sns.histplot(np.log(X_train['annual_inc']+1), binwidth = 1)\n",
    "\n",
    "# Add labels and title\n",
    "plt.title('Distribution of annual_inc in X_train')\n",
    "plt.xlabel('annual_inc')\n",
    "plt.ylabel('Frequency')\n",
    "\n",
    "plt.show()"
   ]
  },
  {
   "cell_type": "code",
   "execution_count": 42,
   "id": "b0cee932",
   "metadata": {},
   "outputs": [],
   "source": [
    "# Apply a square root transformation to annual income\n",
    "X_train['annual_inc_sqrt'] = np.sqrt(X_train['annual_inc'])\n",
    "X_test['annual_inc_sqrt'] = np.sqrt(X_test['annual_inc'])\n",
    "\n",
    "# Drop original columns\n",
    "X_train = X_train.drop(columns = ['annual_inc'])\n",
    "X_test = X_test.drop(columns = ['annual_inc'])"
   ]
  },
  {
   "cell_type": "markdown",
   "id": "f111189a",
   "metadata": {},
   "source": [
    "### dti"
   ]
  },
  {
   "cell_type": "code",
   "execution_count": 43,
   "id": "1551e5ff",
   "metadata": {},
   "outputs": [
    {
     "data": {
      "image/png": "[encoded data removed]",
      "text/plain": [
       "<Figure size 640x480 with 1 Axes>"
      ]
     },
     "metadata": {},
     "output_type": "display_data"
    }
   ],
   "source": [
    "# Visualize distribution of all_util\n",
    "sns.histplot(X_train['dti'], binwidth = 1)\n",
    "\n",
    "# Add labels and title\n",
    "plt.title('Distribution of dti in X_train')\n",
    "plt.xlabel('dti')\n",
    "plt.ylabel('Frequency')\n",
    "\n",
    "plt.show()"
   ]
  },
  {
   "cell_type": "code",
   "execution_count": null,
   "id": "4f576d53",
   "metadata": {},
   "outputs": [
    {
     "data": {
      "image/png": "[encoded data removed]",
      "text/plain": [
       "<Figure size 640x480 with 1 Axes>"
      ]
     },
     "metadata": {},
     "output_type": "display_data"
    }
   ],
   "source": [
    "# Long tail. Let's zoom in to just the 99th percentile. Data drops off at ~40.\n",
    "\n",
    "# Visualize distribution of dti\n",
    "sns.histplot(X_train.loc[X_train['dti'] <= X_train['dti'].quantile(0.99) ,'dti'])\n",
    "\n",
    "# Add labels and title\n",
    "plt.title('Distribution of dti in X_train')\n",
    "plt.xlabel('dti')\n",
    "plt.ylabel('Frequency')\n",
    "\n",
    "plt.show()"
   ]
  },
  {
   "cell_type": "code",
   "execution_count": 49,
   "id": "a7c73adf",
   "metadata": {},
   "outputs": [],
   "source": [
    "# Instances > 40 will be removed\n",
    "X_train = X_train[X_train['dti'] <= 40]"
   ]
  },
  {
   "cell_type": "markdown",
   "id": "4b29c209",
   "metadata": {},
   "source": [
    "### Fico"
   ]
  },
  {
   "cell_type": "code",
   "execution_count": null,
   "id": "10abbd88",
   "metadata": {},
   "outputs": [
    {
     "data": {
      "image/png": "[encoded data removed]",
      "text/plain": [
       "<Figure size 640x480 with 1 Axes>"
      ]
     },
     "metadata": {},
     "output_type": "display_data"
    }
   ],
   "source": [
    "# Data preview suggest there's a consistent difference between the high and low score. Let's verify.\n",
    "sns.histplot(X_train['fico_range_high'] - X_train['fico_range_low'])\n",
    "\n",
    "# Add labels and title\n",
    "plt.title('Distribution of Fico range in X_train')\n",
    "plt.xlabel('Fico Range')\n",
    "plt.ylabel('Frequency')\n",
    "\n",
    "plt.show()"
   ]
  },
  {
   "cell_type": "code",
   "execution_count": 67,
   "id": "eebb8826",
   "metadata": {},
   "outputs": [
    {
     "data": {
      "image/png": "[encoded data removed]",
      "text/plain": [
       "<Figure size 640x480 with 1 Axes>"
      ]
     },
     "metadata": {},
     "output_type": "display_data"
    }
   ],
   "source": [
    "# Data preview suggest there's a consistent difference between the high and low score. Let's verify.\n",
    "sns.histplot(X_train['fico_range_high'])\n",
    "\n",
    "# Add labels and title\n",
    "plt.title('Distribution of fico_range_high in X_train')\n",
    "plt.xlabel('fico_range_high Range')\n",
    "plt.ylabel('Frequency')\n",
    "\n",
    "plt.show()"
   ]
  },
  {
   "cell_type": "code",
   "execution_count": 56,
   "id": "1d432080",
   "metadata": {},
   "outputs": [],
   "source": [
    "# It's all 4. Dropping the low column\n",
    "X_train = X_train.drop(columns = ['fico_range_low'])\n",
    "X_test = X_test.drop(columns = ['fico_range_low'])"
   ]
  },
  {
   "cell_type": "markdown",
   "id": "04e1a48b",
   "metadata": {},
   "source": [
    "### inq_last_12m"
   ]
  },
  {
   "cell_type": "code",
   "execution_count": null,
   "id": "ca4adfce",
   "metadata": {},
   "outputs": [
    {
     "data": {
      "image/png": "[encoded data removed]",
      "text/plain": [
       "<Figure size 640x480 with 1 Axes>"
      ]
     },
     "metadata": {},
     "output_type": "display_data"
    }
   ],
   "source": [
    "# Visualize distribution of inq_last_12m\n",
    "sns.histplot(X_train['inq_last_12m'], binwidth = 1)\n",
    "\n",
    "# Add labels and title\n",
    "plt.title('Distribution of inq_last_12m in X_train')\n",
    "plt.xlabel('inq_last_12m')\n",
    "plt.ylabel('Frequency')\n",
    "\n",
    "plt.show()"
   ]
  },
  {
   "cell_type": "code",
   "execution_count": null,
   "id": "35c597bc",
   "metadata": {},
   "outputs": [
    {
     "data": {
      "text/plain": [
       "10.0"
      ]
     },
     "execution_count": 83,
     "metadata": {},
     "output_type": "execute_result"
    }
   ],
   "source": [
    "# 99% captured at 10.\n",
    "X_train['inq_last_12m'].quantile(0.99)"
   ]
  },
  {
   "cell_type": "code",
   "execution_count": 84,
   "id": "62b7c4cc",
   "metadata": {},
   "outputs": [],
   "source": [
    "# Remove instances where inquiries are greater than 10\n",
    "X_train = X_train[X_train['inq_last_12m'] <= 10]"
   ]
  },
  {
   "cell_type": "markdown",
   "id": "c522a2e5",
   "metadata": {},
   "source": [
    "### mo_sin_old_il_acct"
   ]
  },
  {
   "cell_type": "code",
   "execution_count": 88,
   "id": "0d7911a5",
   "metadata": {},
   "outputs": [
    {
     "data": {
      "image/png": "[encoded data removed]",
      "text/plain": [
       "<Figure size 640x480 with 1 Axes>"
      ]
     },
     "metadata": {},
     "output_type": "display_data"
    }
   ],
   "source": [
    "# Visualize distribution of mo_sin_old_il_acct\n",
    "sns.histplot(X_train['mo_sin_old_il_acct'], binwidth = 10)\n",
    "\n",
    "# Add labels and title\n",
    "plt.title('Distribution of mo_sin_old_il_acct in X_train')\n",
    "plt.xlabel('mo_sin_old_il_acct')\n",
    "plt.ylabel('Frequency')\n",
    "\n",
    "plt.show()"
   ]
  },
  {
   "cell_type": "code",
   "execution_count": null,
   "id": "c5e22dd2",
   "metadata": {},
   "outputs": [
    {
     "data": {
      "text/plain": [
       "287.0"
      ]
     },
     "execution_count": 89,
     "metadata": {},
     "output_type": "execute_result"
    }
   ],
   "source": [
    "# 99% captured at 287.\n",
    "X_train['mo_sin_old_il_acct'].quantile(0.99)"
   ]
  },
  {
   "cell_type": "code",
   "execution_count": 101,
   "id": "8794934f",
   "metadata": {},
   "outputs": [],
   "source": [
    "# Remove instances where inquiries are greater than 287\n",
    "X_train = X_train[X_train['mo_sin_old_il_acct'] <= 287]"
   ]
  },
  {
   "cell_type": "code",
   "execution_count": 102,
   "id": "cb036732",
   "metadata": {},
   "outputs": [
    {
     "data": {
      "image/png": "[encoded data removed]",
      "text/plain": [
       "<Figure size 640x480 with 1 Axes>"
      ]
     },
     "metadata": {},
     "output_type": "display_data"
    }
   ],
   "source": [
    "# Visualize distribution of mo_sin_old_il_acct\n",
    "sns.histplot(X_train['mo_sin_old_il_acct'], binwidth = 10)\n",
    "\n",
    "# Add labels and title\n",
    "plt.title('Distribution of mo_sin_old_il_acct in X_train')\n",
    "plt.xlabel('mo_sin_old_il_acct')\n",
    "plt.ylabel('Frequency')\n",
    "\n",
    "plt.show()"
   ]
  },
  {
   "cell_type": "markdown",
   "id": "82af2c1c",
   "metadata": {},
   "source": [
    "### mo_sin_old_rev_tl_op"
   ]
  },
  {
   "cell_type": "code",
   "execution_count": 91,
   "id": "a2f0f3c5",
   "metadata": {},
   "outputs": [
    {
     "data": {
      "image/png": "[encoded data removed]",
      "text/plain": [
       "<Figure size 640x480 with 1 Axes>"
      ]
     },
     "metadata": {},
     "output_type": "display_data"
    }
   ],
   "source": [
    "# Visualize distribution of mo_sin_old_rev_tl_op\n",
    "sns.histplot(X_train['mo_sin_old_rev_tl_op'], binwidth = 10)\n",
    "\n",
    "# Add labels and title\n",
    "plt.title('Distribution of mo_sin_old_rev_tl_op in X_train')\n",
    "plt.xlabel('mo_sin_old_rev_tl_op')\n",
    "plt.ylabel('Frequency')\n",
    "\n",
    "plt.show()"
   ]
  },
  {
   "cell_type": "code",
   "execution_count": null,
   "id": "db7fe67c",
   "metadata": {},
   "outputs": [
    {
     "data": {
      "text/plain": [
       "485.0"
      ]
     },
     "execution_count": 92,
     "metadata": {},
     "output_type": "execute_result"
    }
   ],
   "source": [
    "# 99% captured at 287.\n",
    "X_train['mo_sin_old_rev_tl_op'].quantile(0.99)"
   ]
  },
  {
   "cell_type": "code",
   "execution_count": 96,
   "id": "3148f865",
   "metadata": {},
   "outputs": [],
   "source": [
    "# Remove instances where inquiries are greater than 287\n",
    "X_train = X_train[X_train['mo_sin_old_rev_tl_op'] <= 485]"
   ]
  },
  {
   "cell_type": "code",
   "execution_count": 99,
   "id": "bac63d0a",
   "metadata": {},
   "outputs": [
    {
     "data": {
      "image/png": "[encoded data removed]",
      "text/plain": [
       "<Figure size 640x480 with 1 Axes>"
      ]
     },
     "metadata": {},
     "output_type": "display_data"
    }
   ],
   "source": [
    "# Visualize distribution of mo_sin_old_rev_tl_op\n",
    "sns.histplot(X_train['mo_sin_old_rev_tl_op'], binwidth = 10)\n",
    "\n",
    "# Add labels and title\n",
    "plt.title('Distribution of mo_sin_old_rev_tl_op in X_train')\n",
    "plt.xlabel('mo_sin_old_rev_tl_op')\n",
    "plt.ylabel('Frequency')\n",
    "\n",
    "plt.show()"
   ]
  },
  {
   "cell_type": "markdown",
   "id": "648157e1",
   "metadata": {},
   "source": [
    "### mort_acc"
   ]
  },
  {
   "cell_type": "code",
   "execution_count": 109,
   "id": "cc5b991d",
   "metadata": {},
   "outputs": [
    {
     "data": {
      "image/png": "[encoded data removed]",
      "text/plain": [
       "<Figure size 640x480 with 1 Axes>"
      ]
     },
     "metadata": {},
     "output_type": "display_data"
    }
   ],
   "source": [
    "# Visualize distribution of mo_sin_old_rev_tl_op\n",
    "sns.histplot(X_train['mort_acc'], binwidth = 1)\n",
    "\n",
    "# Add labels and title\n",
    "plt.title('Distribution of mort_acc in X_train')\n",
    "plt.xlabel('mort_acc')\n",
    "plt.ylabel('Frequency')\n",
    "\n",
    "plt.show()"
   ]
  },
  {
   "cell_type": "code",
   "execution_count": null,
   "id": "c4b54bbf",
   "metadata": {},
   "outputs": [
    {
     "data": {
      "text/plain": [
       "7.0"
      ]
     },
     "execution_count": 108,
     "metadata": {},
     "output_type": "execute_result"
    }
   ],
   "source": [
    "# 99% captured at 7.\n",
    "X_train['mort_acc'].quantile(0.99)"
   ]
  },
  {
   "cell_type": "code",
   "execution_count": 110,
   "id": "055d2d44",
   "metadata": {},
   "outputs": [],
   "source": [
    "# Remove instances > 7\n",
    "X_train = X_train[X_train['mort_acc'] <= 7]\n",
    "\n",
    "# Add a binary column that evaluates if the applicant had mortgage account.\n",
    "X_train['has_mort_acc'] = np.where(X_train['mort_acc'] > 0, 1, 0)"
   ]
  },
  {
   "cell_type": "markdown",
   "id": "ee306936",
   "metadata": {},
   "source": [
    "### mths_since_recent_inq"
   ]
  },
  {
   "cell_type": "code",
   "execution_count": 112,
   "id": "789d3df1",
   "metadata": {},
   "outputs": [
    {
     "data": {
      "image/png": "[encoded data removed]",
      "text/plain": [
       "<Figure size 640x480 with 1 Axes>"
      ]
     },
     "metadata": {},
     "output_type": "display_data"
    }
   ],
   "source": [
    "# Visualize distribution of mo_sin_old_rev_tl_op\n",
    "sns.histplot(X_train['mths_since_recent_inq'], binwidth = 5)\n",
    "\n",
    "# Add labels and title\n",
    "plt.title('Distribution of mths_since_recent_inq in X_train')\n",
    "plt.xlabel('mths_since_recent_inq')\n",
    "plt.ylabel('Frequency')\n",
    "\n",
    "plt.show()"
   ]
  },
  {
   "cell_type": "markdown",
   "id": "09c4843a",
   "metadata": {},
   "source": [
    "### pub_rec_bankruptcies"
   ]
  },
  {
   "cell_type": "code",
   "execution_count": 116,
   "id": "c064beee",
   "metadata": {},
   "outputs": [
    {
     "data": {
      "application/vnd.microsoft.datawrangler.viewer.v0+json": {
       "columns": [
        {
         "name": "pub_rec_bankruptcies",
         "rawType": "int64",
         "type": "integer"
        },
        {
         "name": "0",
         "rawType": "int64",
         "type": "integer"
        }
       ],
       "ref": "e93c1ed7-3cae-4879-b001-358f833ec5a2",
       "rows": [
        [
         "0",
         "61620"
        ],
        [
         "1",
         "6128"
        ],
        [
         "2",
         "72"
        ],
        [
         "3",
         "6"
        ],
        [
         "4",
         "3"
        ],
        [
         "7",
         "1"
        ]
       ],
       "shape": {
        "columns": 1,
        "rows": 6
       }
      },
      "text/plain": [
       "pub_rec_bankruptcies\n",
       "0    61620\n",
       "1     6128\n",
       "2       72\n",
       "3        6\n",
       "4        3\n",
       "7        1\n",
       "dtype: int64"
      ]
     },
     "execution_count": 116,
     "metadata": {},
     "output_type": "execute_result"
    }
   ],
   "source": [
    "# Group by chargeoff_within_12_mths\n",
    "X_train.groupby('pub_rec_bankruptcies').size()"
   ]
  },
  {
   "cell_type": "code",
   "execution_count": 117,
   "id": "02fdd561",
   "metadata": {},
   "outputs": [],
   "source": [
    "# Most applicants do not have bankruptcies on record.\n",
    "# Makes sense to convert ot a binary that measures if the applicant had a bankruptcy.\n",
    "X_train['pub_rec_bankruptcies'] = np.where(X_train['pub_rec_bankruptcies'] > 0, 1, 0)\n",
    "X_test['pub_rec_bankruptcies'] = np.where(X_test['pub_rec_bankruptcies'] > 0, 1, 0)"
   ]
  },
  {
   "cell_type": "markdown",
   "id": "a8f6e477",
   "metadata": {},
   "source": [
    "### total_bal_ex_mort"
   ]
  },
  {
   "cell_type": "code",
   "execution_count": 58,
   "id": "d392579c",
   "metadata": {},
   "outputs": [
    {
     "data": {
      "image/png": "[encoded data removed]",
      "text/plain": [
       "<Figure size 640x480 with 1 Axes>"
      ]
     },
     "metadata": {},
     "output_type": "display_data"
    }
   ],
   "source": [
    "# Visualize distribution of total_bal_ex_mort\n",
    "sns.histplot(X_train['total_bal_ex_mort'])\n",
    "\n",
    "# Add labels and title\n",
    "plt.title('Distribution of total_bal_ex_mort in X_train')\n",
    "plt.xlabel('total_bal_ex_mort')\n",
    "plt.ylabel('Frequency')\n",
    "\n",
    "plt.show()"
   ]
  },
  {
   "cell_type": "code",
   "execution_count": 60,
   "id": "71de7f13",
   "metadata": {},
   "outputs": [
    {
     "data": {
      "image/png": "[encoded data removed]",
      "text/plain": [
       "<Figure size 640x480 with 1 Axes>"
      ]
     },
     "metadata": {},
     "output_type": "display_data"
    }
   ],
   "source": [
    "# Long tail. Let's zoom in to just the 99th percentile\n",
    "\n",
    "# Visualize distribution of annual_inc\n",
    "sns.histplot(X_train.loc[X_train['total_bal_ex_mort'] <= X_train['total_bal_ex_mort'].quantile(0.99) ,'total_bal_ex_mort'], binwidth = 10000)\n",
    "\n",
    "# Add labels and title\n",
    "plt.title('Distribution of total_bal_ex_mort in X_train')\n",
    "plt.xlabel('total_bal_ex_mort')\n",
    "plt.ylabel('Frequency')\n",
    "\n",
    "plt.show()"
   ]
  },
  {
   "cell_type": "code",
   "execution_count": 61,
   "id": "9c8f1c96",
   "metadata": {},
   "outputs": [],
   "source": [
    "# Looks better so let's remove the points > 99th percentile\n",
    "X_train = X_train[X_train['total_bal_ex_mort'] <= X_train['total_bal_ex_mort'].quantile(0.99)]"
   ]
  },
  {
   "cell_type": "code",
   "execution_count": 63,
   "id": "f72701ec",
   "metadata": {},
   "outputs": [
    {
     "data": {
      "image/png": "[encoded data removed]",
      "text/plain": [
       "<Figure size 640x480 with 1 Axes>"
      ]
     },
     "metadata": {},
     "output_type": "display_data"
    }
   ],
   "source": [
    "# Since the data is still skewed right, let's explore a square root tranformation.\n",
    "\n",
    "# Visualize distribution of total_bal_ex_mort\n",
    "sns.histplot(np.sqrt(X_train['total_bal_ex_mort']))\n",
    "\n",
    "# Add labels and title\n",
    "plt.title('Distribution of total_bal_ex_mort in X_train')\n",
    "plt.xlabel('total_bal_ex_mort')\n",
    "plt.ylabel('Frequency')\n",
    "\n",
    "plt.show()"
   ]
  },
  {
   "cell_type": "code",
   "execution_count": 65,
   "id": "905549f5",
   "metadata": {},
   "outputs": [
    {
     "data": {
      "image/png": "[encoded data removed]",
      "text/plain": [
       "<Figure size 640x480 with 1 Axes>"
      ]
     },
     "metadata": {},
     "output_type": "display_data"
    }
   ],
   "source": [
    "# Since the data is still skewed right, let's explore a log tranformation.\n",
    "\n",
    "# Visualize distribution of total_bal_ex_mort\n",
    "sns.histplot(np.log(X_train['total_bal_ex_mort']+1))\n",
    "\n",
    "# Add labels and title\n",
    "plt.title('Distribution of total_bal_ex_mort in X_train')\n",
    "plt.xlabel('total_bal_ex_mort')\n",
    "plt.ylabel('Frequency')\n",
    "\n",
    "plt.show()"
   ]
  },
  {
   "cell_type": "code",
   "execution_count": 66,
   "id": "afc80db6",
   "metadata": {},
   "outputs": [],
   "source": [
    "# Apply a square root transformation to annual income\n",
    "X_train['total_bal_ex_mort_sqrt'] = np.sqrt(X_train['total_bal_ex_mort'])\n",
    "X_test['total_bal_ex_mort_sqrt'] = np.sqrt(X_test['total_bal_ex_mort'])\n",
    "\n",
    "# Drop original columns\n",
    "X_train = X_train.drop(columns = ['total_bal_ex_mort'])\n",
    "X_test = X_test.drop(columns = ['total_bal_ex_mort'])"
   ]
  }
 ],
 "metadata": {
  "kernelspec": {
   "display_name": "base",
   "language": "python",
   "name": "python3"
  },
  "language_info": {
   "codemirror_mode": {
    "name": "ipython",
    "version": 3
   },
   "file_extension": ".py",
   "mimetype": "text/x-python",
   "name": "python",
   "nbconvert_exporter": "python",
   "pygments_lexer": "ipython3",
   "version": "3.12.3"
  }
 },
 "nbformat": 4,
 "nbformat_minor": 5
}
